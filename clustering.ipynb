{
 "cells": [
  {
   "cell_type": "code",
   "execution_count": 88,
   "metadata": {},
   "outputs": [],
   "source": [
    "import numpy as np\n",
    "import pandas as pd \n",
    "\n",
    "from sklearn.cluster import KMeans\n",
    "from sklearn.preprocessing import StandardScaler\n",
    "\n",
    "from yellowbrick.cluster import KElbowVisualizer\n",
    "from yellowbrick.cluster import SilhouetteVisualizer\n",
    "\n",
    "import plotly.express as px\n",
    "\n",
    "pd.set_option('display.float_format', '{:,.2f}'.format)"
   ]
  },
  {
   "cell_type": "markdown",
   "metadata": {},
   "source": [
    "## Data Loading"
   ]
  },
  {
   "cell_type": "code",
   "execution_count": 2,
   "metadata": {},
   "outputs": [
    {
     "name": "stdout",
     "output_type": "stream",
     "text": [
      "<class 'pandas.core.frame.DataFrame'>\n",
      "RangeIndex: 5242575 entries, 0 to 5242574\n",
      "Data columns (total 7 columns):\n",
      " #   Column                 Dtype   \n",
      "---  ------                 -----   \n",
      " 0   pemda                  string  \n",
      " 1   nama_pemda             string  \n",
      " 2   jenis_pemda            category\n",
      " 3   nama_fungsi            string  \n",
      " 4   kategori_sub_kegiatan  category\n",
      " 5   kode_akun_utama        category\n",
      " 6   nilai_anggaran         float64 \n",
      "dtypes: category(3), float64(1), string(3)\n",
      "memory usage: 175.0 MB\n"
     ]
    }
   ],
   "source": [
    "used_columns = [\"pemda\", \"nama_pemda\", \"jenis_pemda\", \"nama_fungsi\", \"kategori_sub_kegiatan\", \"kode_akun_utama\", \"nilai_anggaran\"]\n",
    "column_types = {\n",
    "    \"pemda\": pd.StringDtype(),\n",
    "    \"nama_pemda\": pd.StringDtype(),\n",
    "    \"jenis_pemda\": pd.CategoricalDtype(),\n",
    "    \"nama_fungsi\": pd.StringDtype(),\n",
    "    \"kategori_sub_kegiatan\": pd.CategoricalDtype(),\n",
    "    \"kode_akun_utama\": pd.CategoricalDtype(),\n",
    "    \"nilai_anggaran\": float\n",
    "}\n",
    "\n",
    "df = pd.read_parquet(\"dataset/L2_apbd_clean.parquet\")\n",
    "df = df.astype(column_types)\n",
    "df.info()"
   ]
  },
  {
   "cell_type": "code",
   "execution_count": 3,
   "metadata": {},
   "outputs": [
    {
     "data": {
      "text/html": [
       "<div>\n",
       "<style scoped>\n",
       "    .dataframe tbody tr th:only-of-type {\n",
       "        vertical-align: middle;\n",
       "    }\n",
       "\n",
       "    .dataframe tbody tr th {\n",
       "        vertical-align: top;\n",
       "    }\n",
       "\n",
       "    .dataframe thead th {\n",
       "        text-align: right;\n",
       "    }\n",
       "</style>\n",
       "<table border=\"1\" class=\"dataframe\">\n",
       "  <thead>\n",
       "    <tr style=\"text-align: right;\">\n",
       "      <th></th>\n",
       "      <th>pemda</th>\n",
       "      <th>nama_pemda</th>\n",
       "      <th>jenis_pemda</th>\n",
       "      <th>nama_fungsi</th>\n",
       "      <th>kategori_sub_kegiatan</th>\n",
       "      <th>kode_akun_utama</th>\n",
       "      <th>nilai_anggaran</th>\n",
       "    </tr>\n",
       "  </thead>\n",
       "  <tbody>\n",
       "    <tr>\n",
       "      <th>0</th>\n",
       "      <td>ACEH</td>\n",
       "      <td>PROVINSI ACEH</td>\n",
       "      <td>PROVINSI</td>\n",
       "      <td>PARIWISATA DAN BUDAYA</td>\n",
       "      <td>LAINNYA</td>\n",
       "      <td>5</td>\n",
       "      <td>50,500,000.00</td>\n",
       "    </tr>\n",
       "    <tr>\n",
       "      <th>1</th>\n",
       "      <td>ACEH</td>\n",
       "      <td>PROVINSI ACEH</td>\n",
       "      <td>PROVINSI</td>\n",
       "      <td>PARIWISATA DAN BUDAYA</td>\n",
       "      <td>LAINNYA</td>\n",
       "      <td>5</td>\n",
       "      <td>598,965,456.00</td>\n",
       "    </tr>\n",
       "    <tr>\n",
       "      <th>2</th>\n",
       "      <td>ACEH</td>\n",
       "      <td>PROVINSI ACEH</td>\n",
       "      <td>PROVINSI</td>\n",
       "      <td>KETERTIBAN DAN KETENTRAMAN</td>\n",
       "      <td>LAINNYA</td>\n",
       "      <td>5</td>\n",
       "      <td>6,250,000.00</td>\n",
       "    </tr>\n",
       "    <tr>\n",
       "      <th>3</th>\n",
       "      <td>RIAU</td>\n",
       "      <td>PROVINSI RIAU</td>\n",
       "      <td>PROVINSI</td>\n",
       "      <td>PARIWISATA DAN BUDAYA</td>\n",
       "      <td>LAINNYA</td>\n",
       "      <td>5</td>\n",
       "      <td>4,400,000.00</td>\n",
       "    </tr>\n",
       "    <tr>\n",
       "      <th>4</th>\n",
       "      <td>PEKANBARU</td>\n",
       "      <td>KOTA PEKANBARU</td>\n",
       "      <td>KOTA</td>\n",
       "      <td>KESEHATAN LAINNYA</td>\n",
       "      <td>LAINNYA</td>\n",
       "      <td>5</td>\n",
       "      <td>1,075,830.00</td>\n",
       "    </tr>\n",
       "  </tbody>\n",
       "</table>\n",
       "</div>"
      ],
      "text/plain": [
       "       pemda      nama_pemda jenis_pemda                 nama_fungsi  \\\n",
       "0       ACEH   PROVINSI ACEH    PROVINSI       PARIWISATA DAN BUDAYA   \n",
       "1       ACEH   PROVINSI ACEH    PROVINSI       PARIWISATA DAN BUDAYA   \n",
       "2       ACEH   PROVINSI ACEH    PROVINSI  KETERTIBAN DAN KETENTRAMAN   \n",
       "3       RIAU   PROVINSI RIAU    PROVINSI       PARIWISATA DAN BUDAYA   \n",
       "4  PEKANBARU  KOTA PEKANBARU        KOTA           KESEHATAN LAINNYA   \n",
       "\n",
       "  kategori_sub_kegiatan kode_akun_utama  nilai_anggaran  \n",
       "0               LAINNYA               5   50,500,000.00  \n",
       "1               LAINNYA               5  598,965,456.00  \n",
       "2               LAINNYA               5    6,250,000.00  \n",
       "3               LAINNYA              5     4,400,000.00  \n",
       "4               LAINNYA              5     1,075,830.00  "
      ]
     },
     "execution_count": 3,
     "metadata": {},
     "output_type": "execute_result"
    }
   ],
   "source": [
    "df.head()"
   ]
  },
  {
   "cell_type": "markdown",
   "metadata": {},
   "source": [
    "## Preprocessing (L2)"
   ]
  },
  {
   "cell_type": "code",
   "execution_count": 4,
   "metadata": {},
   "outputs": [],
   "source": [
    "# Feature construction\n",
    "sub_pendidikan = [\n",
    "    \"PENINGKATAN KUALITAS PENGAJARAN DAN PEMBELAJARAN\",\n",
    "    \"PROFESIONALISME DAN KUALITAS NADIK\",\n",
    "    \"TATA KELOLA PENDIDIKAN\",\n",
    "    \"PEMERATAAN AKSES LAYANAN PENDIDIKAN\",\n",
    "    \"GAJI DAN TUNJANGAN\",\n",
    "    \"LAINNYA\"\n",
    "]\n",
    "sub_kesehatan = [\n",
    "    \"PENINGKATAN LAYANAN KESEHATAN DASAR DAN RUJUKAN\",\n",
    "    \"PENGUATAN TATA KELOLA KESEHATAN\",\n",
    "    \"GAJI DAN TUNJANGAN\",\n",
    "    \"PENINGKATAN KOMPETENSI NAKES\",\n",
    "    \"DAYA SAING FARMASI DAN ALAT KESEHATAN\",\n",
    "    \"PENGAWASAN OBAT DAN MAKANAN\",\n",
    "    \"LAINNYA\"\n",
    "]"
   ]
  },
  {
   "cell_type": "code",
   "execution_count": 70,
   "metadata": {},
   "outputs": [],
   "source": [
    "df_pemda_grouping = df.groupby(\"nama_pemda\")\n",
    "df_pemda = df.groupby(\"nama_pemda\").sum()\n",
    "\n",
    "df_pemda[\"porsi_subdik\"] = df_pemda_grouping.apply(lambda x: x[x[\"kategori_sub_kegiatan\"].isin(sub_pendidikan[:-1])][\"nilai_anggaran\"].sum())\n",
    "df_pemda[\"total_subdik\"] = df_pemda_grouping.apply(lambda x: x[x[\"kategori_sub_kegiatan\"].isin(sub_pendidikan)][\"nilai_anggaran\"].sum())\n",
    "df_pemda[\"porsi_subkes\"] = df_pemda_grouping.apply(lambda x: x[x[\"kategori_sub_kegiatan\"].isin(sub_kesehatan[:-1])][\"nilai_anggaran\"].sum())\n",
    "df_pemda[\"total_subkes\"] = df_pemda_grouping.apply(lambda x: x[x[\"kategori_sub_kegiatan\"].isin(sub_kesehatan)][\"nilai_anggaran\"].sum())\n",
    "\n",
    "df_pemda[\"anggaran_kes\"] = df_pemda_grouping.apply(lambda x: x[x[\"nama_fungsi\"] == \"KESEHATAN\"][\"nilai_anggaran\"].sum())\n",
    "df_pemda[\"anggaran_dik\"] = df_pemda_grouping.apply(lambda x: x[x[\"nama_fungsi\"] == \"PENDIDIKAN\"][\"nilai_anggaran\"].sum())\n",
    "\n",
    "df_pemda[\"belanja\"] = df_pemda_grouping.apply(lambda x: x[x[\"kode_akun_utama\"] == \"5\"][\"nilai_anggaran\"].sum())\n",
    "df_pemda[\"pendapatan\"] = df_pemda_grouping.apply(lambda x: x[x[\"kode_akun_utama\"] == \"4\"][\"nilai_anggaran\"].sum())\n",
    "\n",
    "df_pemda = df_pemda.reset_index()\n",
    "df_pemda = df_pemda.replace(np.inf, 0).fillna(0)"
   ]
  },
  {
   "cell_type": "code",
   "execution_count": 71,
   "metadata": {},
   "outputs": [],
   "source": [
    "df_pemda[\"rasio_dik\"] = (df_pemda[\"anggaran_dik\"] / df_pemda[\"belanja\"]) * 100\n",
    "df_pemda[\"rasio_kes\"] = (df_pemda[\"anggaran_kes\"] / df_pemda[\"belanja\"]) * 100\n",
    "\n",
    "df_pemda[\"rasio_belanja_pendapatan\"] = (df_pemda[\"belanja\"] / df_pemda[\"pendapatan\"]) * 100\n",
    "\n",
    "df_pemda[\"rasio_porsi_kes\"] = (df_pemda[\"porsi_subkes\"] / df_pemda[\"total_subkes\"]) * 100\n",
    "df_pemda[\"rasio_porsi_dik\"] = (df_pemda[\"porsi_subdik\"] / df_pemda[\"total_subdik\"]) * 100\n",
    "\n",
    "df_pemda = df_pemda.replace(np.inf, 0).fillna(0)"
   ]
  },
  {
   "cell_type": "code",
   "execution_count": 72,
   "metadata": {},
   "outputs": [
    {
     "data": {
      "text/html": [
       "<div>\n",
       "<style scoped>\n",
       "    .dataframe tbody tr th:only-of-type {\n",
       "        vertical-align: middle;\n",
       "    }\n",
       "\n",
       "    .dataframe tbody tr th {\n",
       "        vertical-align: top;\n",
       "    }\n",
       "\n",
       "    .dataframe thead th {\n",
       "        text-align: right;\n",
       "    }\n",
       "</style>\n",
       "<table border=\"1\" class=\"dataframe\">\n",
       "  <thead>\n",
       "    <tr style=\"text-align: right;\">\n",
       "      <th></th>\n",
       "      <th>nama_pemda</th>\n",
       "      <th>nilai_anggaran</th>\n",
       "      <th>porsi_subdik</th>\n",
       "      <th>total_subdik</th>\n",
       "      <th>porsi_subkes</th>\n",
       "      <th>total_subkes</th>\n",
       "      <th>anggaran_kes</th>\n",
       "      <th>anggaran_dik</th>\n",
       "      <th>belanja</th>\n",
       "      <th>pendapatan</th>\n",
       "      <th>rasio_dik</th>\n",
       "      <th>rasio_kes</th>\n",
       "      <th>rasio_belanja_pendapatan</th>\n",
       "      <th>rasio_porsi_kes</th>\n",
       "      <th>rasio_porsi_dik</th>\n",
       "    </tr>\n",
       "  </thead>\n",
       "  <tbody>\n",
       "    <tr>\n",
       "      <th>0</th>\n",
       "      <td>KAB KONAWE KEPULAUAN</td>\n",
       "      <td>1,039,516,277,046.00</td>\n",
       "      <td>138,507,624,256.00</td>\n",
       "      <td>998,635,469,820.00</td>\n",
       "      <td>145,085,518,870.00</td>\n",
       "      <td>1,005,213,364,434.00</td>\n",
       "      <td>44,554,794,682.00</td>\n",
       "      <td>60,715,518,397.00</td>\n",
       "      <td>519,758,138,523.00</td>\n",
       "      <td>518,758,138,523.00</td>\n",
       "      <td>11.68</td>\n",
       "      <td>8.57</td>\n",
       "      <td>100.19</td>\n",
       "      <td>14.43</td>\n",
       "      <td>13.87</td>\n",
       "    </tr>\n",
       "    <tr>\n",
       "      <th>1</th>\n",
       "      <td>KAB MOROWALI UTARA</td>\n",
       "      <td>2,275,463,686,972.00</td>\n",
       "      <td>463,496,738,760.00</td>\n",
       "      <td>2,175,725,409,979.00</td>\n",
       "      <td>487,906,501,875.00</td>\n",
       "      <td>2,200,135,173,094.00</td>\n",
       "      <td>0.00</td>\n",
       "      <td>0.00</td>\n",
       "      <td>1,133,531,843,486.00</td>\n",
       "      <td>1,116,141,561,762.00</td>\n",
       "      <td>0.00</td>\n",
       "      <td>0.00</td>\n",
       "      <td>101.56</td>\n",
       "      <td>22.18</td>\n",
       "      <td>21.30</td>\n",
       "    </tr>\n",
       "    <tr>\n",
       "      <th>2</th>\n",
       "      <td>KAB MUSI RAWAS UTARA</td>\n",
       "      <td>1,798,210,654,000.00</td>\n",
       "      <td>294,654,373,133.00</td>\n",
       "      <td>1,765,282,000,768.00</td>\n",
       "      <td>264,557,238,508.00</td>\n",
       "      <td>1,735,184,866,143.00</td>\n",
       "      <td>0.00</td>\n",
       "      <td>0.00</td>\n",
       "      <td>899,105,327,000.00</td>\n",
       "      <td>869,105,327,000.00</td>\n",
       "      <td>0.00</td>\n",
       "      <td>0.00</td>\n",
       "      <td>103.45</td>\n",
       "      <td>15.25</td>\n",
       "      <td>16.69</td>\n",
       "    </tr>\n",
       "    <tr>\n",
       "      <th>3</th>\n",
       "      <td>KAB. ACEH BARAT</td>\n",
       "      <td>2,589,035,742,152.00</td>\n",
       "      <td>533,060,774,878.00</td>\n",
       "      <td>2,521,289,063,015.00</td>\n",
       "      <td>524,019,198,936.00</td>\n",
       "      <td>2,512,247,487,073.00</td>\n",
       "      <td>74,354,623,021.00</td>\n",
       "      <td>82,949,595,553.00</td>\n",
       "      <td>1,294,517,871,076.00</td>\n",
       "      <td>1,243,508,605,754.00</td>\n",
       "      <td>6.41</td>\n",
       "      <td>5.74</td>\n",
       "      <td>104.10</td>\n",
       "      <td>20.86</td>\n",
       "      <td>21.14</td>\n",
       "    </tr>\n",
       "    <tr>\n",
       "      <th>4</th>\n",
       "      <td>KAB. ACEH BARAT DAYA</td>\n",
       "      <td>2,020,089,685,094.00</td>\n",
       "      <td>413,526,170,185.00</td>\n",
       "      <td>1,983,637,853,372.00</td>\n",
       "      <td>353,109,622,287.00</td>\n",
       "      <td>1,923,221,305,474.00</td>\n",
       "      <td>45,607,394,770.00</td>\n",
       "      <td>91,541,758,051.00</td>\n",
       "      <td>1,000,044,842,547.00</td>\n",
       "      <td>898,637,580,732.00</td>\n",
       "      <td>9.15</td>\n",
       "      <td>4.56</td>\n",
       "      <td>111.28</td>\n",
       "      <td>18.36</td>\n",
       "      <td>20.85</td>\n",
       "    </tr>\n",
       "  </tbody>\n",
       "</table>\n",
       "</div>"
      ],
      "text/plain": [
       "             nama_pemda       nilai_anggaran       porsi_subdik  \\\n",
       "0  KAB KONAWE KEPULAUAN 1,039,516,277,046.00 138,507,624,256.00   \n",
       "1    KAB MOROWALI UTARA 2,275,463,686,972.00 463,496,738,760.00   \n",
       "2  KAB MUSI RAWAS UTARA 1,798,210,654,000.00 294,654,373,133.00   \n",
       "3       KAB. ACEH BARAT 2,589,035,742,152.00 533,060,774,878.00   \n",
       "4  KAB. ACEH BARAT DAYA 2,020,089,685,094.00 413,526,170,185.00   \n",
       "\n",
       "          total_subdik       porsi_subkes         total_subkes  \\\n",
       "0   998,635,469,820.00 145,085,518,870.00 1,005,213,364,434.00   \n",
       "1 2,175,725,409,979.00 487,906,501,875.00 2,200,135,173,094.00   \n",
       "2 1,765,282,000,768.00 264,557,238,508.00 1,735,184,866,143.00   \n",
       "3 2,521,289,063,015.00 524,019,198,936.00 2,512,247,487,073.00   \n",
       "4 1,983,637,853,372.00 353,109,622,287.00 1,923,221,305,474.00   \n",
       "\n",
       "       anggaran_kes      anggaran_dik              belanja  \\\n",
       "0 44,554,794,682.00 60,715,518,397.00   519,758,138,523.00   \n",
       "1              0.00              0.00 1,133,531,843,486.00   \n",
       "2              0.00              0.00   899,105,327,000.00   \n",
       "3 74,354,623,021.00 82,949,595,553.00 1,294,517,871,076.00   \n",
       "4 45,607,394,770.00 91,541,758,051.00 1,000,044,842,547.00   \n",
       "\n",
       "            pendapatan  rasio_dik  rasio_kes  rasio_belanja_pendapatan  \\\n",
       "0   518,758,138,523.00      11.68       8.57                    100.19   \n",
       "1 1,116,141,561,762.00       0.00       0.00                    101.56   \n",
       "2   869,105,327,000.00       0.00       0.00                    103.45   \n",
       "3 1,243,508,605,754.00       6.41       5.74                    104.10   \n",
       "4   898,637,580,732.00       9.15       4.56                    111.28   \n",
       "\n",
       "   rasio_porsi_kes  rasio_porsi_dik  \n",
       "0            14.43            13.87  \n",
       "1            22.18            21.30  \n",
       "2            15.25            16.69  \n",
       "3            20.86            21.14  \n",
       "4            18.36            20.85  "
      ]
     },
     "execution_count": 72,
     "metadata": {},
     "output_type": "execute_result"
    }
   ],
   "source": [
    "df_pemda.head()"
   ]
  },
  {
   "cell_type": "code",
   "execution_count": 73,
   "metadata": {},
   "outputs": [],
   "source": [
    "df_nama_jenis_pemda = df[[\"nama_pemda\", \"pemda\", \"jenis_pemda\"]]\n",
    "df_nama_jenis_pemda = df_nama_jenis_pemda.groupby(\"nama_pemda\").first().reset_index()\n",
    "df_pemda_full = pd.merge(df_pemda, df_nama_jenis_pemda, on=\"nama_pemda\", how=\"inner\")"
   ]
  },
  {
   "cell_type": "code",
   "execution_count": 74,
   "metadata": {},
   "outputs": [],
   "source": [
    "column_ordered = [\n",
    "    \"pemda\",\n",
    "    \"nama_pemda\",\n",
    "    \"jenis_pemda\",\n",
    "    \"nilai_anggaran\",\n",
    "    \"porsi_subdik\",\n",
    "    \"total_subdik\",\n",
    "    \"porsi_subkes\",\n",
    "    \"total_subkes\",\n",
    "    \"anggaran_kes\",\n",
    "    \"anggaran_dik\",\n",
    "    \"belanja\",\n",
    "    \"pendapatan\",\n",
    "    \"rasio_dik\",\n",
    "    \"rasio_kes\",\n",
    "    \"rasio_belanja_pendapatan\",\n",
    "    \"rasio_porsi_kes\",\n",
    "    \"rasio_porsi_dik\"\n",
    "]\n",
    "\n",
    "df_pemda_full = df_pemda_full[column_ordered]\n",
    "df_pemda_full.to_csv(\"pemda_processed.csv\", index=None)"
   ]
  },
  {
   "cell_type": "markdown",
   "metadata": {},
   "source": [
    "## Clustering"
   ]
  },
  {
   "cell_type": "code",
   "execution_count": 75,
   "metadata": {},
   "outputs": [
    {
     "data": {
      "text/html": [
       "<div>\n",
       "<style scoped>\n",
       "    .dataframe tbody tr th:only-of-type {\n",
       "        vertical-align: middle;\n",
       "    }\n",
       "\n",
       "    .dataframe tbody tr th {\n",
       "        vertical-align: top;\n",
       "    }\n",
       "\n",
       "    .dataframe thead th {\n",
       "        text-align: right;\n",
       "    }\n",
       "</style>\n",
       "<table border=\"1\" class=\"dataframe\">\n",
       "  <thead>\n",
       "    <tr style=\"text-align: right;\">\n",
       "      <th></th>\n",
       "      <th>pemda</th>\n",
       "      <th>nama_pemda</th>\n",
       "      <th>jenis_pemda</th>\n",
       "      <th>risiko_defisit</th>\n",
       "      <th>risiko_mandatory_spending</th>\n",
       "      <th>risiko_keselarasan</th>\n",
       "    </tr>\n",
       "  </thead>\n",
       "  <tbody>\n",
       "    <tr>\n",
       "      <th>0</th>\n",
       "      <td>KAB KONAWE KEPULAUAN</td>\n",
       "      <td>KAB KONAWE KEPULAUAN</td>\n",
       "      <td>KABUPATEN</td>\n",
       "      <td>100.19</td>\n",
       "      <td>10.13</td>\n",
       "      <td>14.15</td>\n",
       "    </tr>\n",
       "    <tr>\n",
       "      <th>1</th>\n",
       "      <td>KAB MOROWALI UTARA</td>\n",
       "      <td>KAB MOROWALI UTARA</td>\n",
       "      <td>KABUPATEN</td>\n",
       "      <td>101.56</td>\n",
       "      <td>0.00</td>\n",
       "      <td>21.74</td>\n",
       "    </tr>\n",
       "    <tr>\n",
       "      <th>2</th>\n",
       "      <td>KAB MUSI RAWAS UTARA</td>\n",
       "      <td>KAB MUSI RAWAS UTARA</td>\n",
       "      <td>KABUPATEN</td>\n",
       "      <td>103.45</td>\n",
       "      <td>0.00</td>\n",
       "      <td>15.97</td>\n",
       "    </tr>\n",
       "    <tr>\n",
       "      <th>3</th>\n",
       "      <td>ACEH BARAT</td>\n",
       "      <td>KAB. ACEH BARAT</td>\n",
       "      <td>KABUPATEN</td>\n",
       "      <td>104.10</td>\n",
       "      <td>6.08</td>\n",
       "      <td>21.00</td>\n",
       "    </tr>\n",
       "    <tr>\n",
       "      <th>4</th>\n",
       "      <td>ACEH BARAT DAYA</td>\n",
       "      <td>KAB. ACEH BARAT DAYA</td>\n",
       "      <td>KABUPATEN</td>\n",
       "      <td>111.28</td>\n",
       "      <td>6.86</td>\n",
       "      <td>19.60</td>\n",
       "    </tr>\n",
       "  </tbody>\n",
       "</table>\n",
       "</div>"
      ],
      "text/plain": [
       "                  pemda            nama_pemda jenis_pemda  risiko_defisit  \\\n",
       "0  KAB KONAWE KEPULAUAN  KAB KONAWE KEPULAUAN   KABUPATEN          100.19   \n",
       "1    KAB MOROWALI UTARA    KAB MOROWALI UTARA   KABUPATEN          101.56   \n",
       "2  KAB MUSI RAWAS UTARA  KAB MUSI RAWAS UTARA   KABUPATEN          103.45   \n",
       "3            ACEH BARAT       KAB. ACEH BARAT   KABUPATEN          104.10   \n",
       "4       ACEH BARAT DAYA  KAB. ACEH BARAT DAYA   KABUPATEN          111.28   \n",
       "\n",
       "   risiko_mandatory_spending  risiko_keselarasan  \n",
       "0                      10.13               14.15  \n",
       "1                       0.00               21.74  \n",
       "2                       0.00               15.97  \n",
       "3                       6.08               21.00  \n",
       "4                       6.86               19.60  "
      ]
     },
     "execution_count": 75,
     "metadata": {},
     "output_type": "execute_result"
    }
   ],
   "source": [
    "df_risiko = df_pemda_full.copy()\n",
    "df_risiko[\"risiko_defisit\"] = df_risiko[\"rasio_belanja_pendapatan\"]\n",
    "df_risiko[\"risiko_mandatory_spending\"] = (df_risiko[\"rasio_dik\"] + df_risiko[\"rasio_kes\"]) / 2.0\n",
    "df_risiko[\"risiko_keselarasan\"] = (df_risiko[\"rasio_porsi_dik\"] + df_risiko[\"rasio_porsi_kes\"]) / 2.0\n",
    "df_risiko = df_risiko.drop(columns=column_ordered[3:])\n",
    "df_risiko.head()"
   ]
  },
  {
   "cell_type": "code",
   "execution_count": 76,
   "metadata": {},
   "outputs": [
    {
     "data": {
      "application/vnd.plotly.v1+json": {
       "config": {
        "plotlyServerURL": "https://plot.ly"
       },
       "data": [
        {
         "customdata": [
          [
           "KAB KONAWE KEPULAUAN"
          ],
          [
           "KAB MOROWALI UTARA"
          ],
          [
           "KAB MUSI RAWAS UTARA"
          ],
          [
           "KAB. ACEH BARAT"
          ],
          [
           "KAB. ACEH BARAT DAYA"
          ],
          [
           "KAB. ACEH BESAR"
          ],
          [
           "KAB. ACEH JAYA"
          ],
          [
           "KAB. ACEH SELATAN"
          ],
          [
           "KAB. ACEH SINGKIL"
          ],
          [
           "KAB. ACEH TAMIANG"
          ],
          [
           "KAB. ACEH TENGAH"
          ],
          [
           "KAB. ACEH TENGGARA"
          ],
          [
           "KAB. ACEH TIMUR"
          ],
          [
           "KAB. ACEH UTARA"
          ],
          [
           "KAB. AGAM"
          ],
          [
           "KAB. ALOR"
          ],
          [
           "KAB. ASAHAN"
          ],
          [
           "KAB. ASMAT"
          ],
          [
           "KAB. BADUNG"
          ],
          [
           "KAB. BALANGAN"
          ],
          [
           "KAB. BANDUNG"
          ],
          [
           "KAB. BANDUNG BARAT"
          ],
          [
           "KAB. BANGGAI"
          ],
          [
           "KAB. BANGGAI KEPULAUAN"
          ],
          [
           "KAB. BANGGAI LAUT"
          ],
          [
           "KAB. BANGKA"
          ],
          [
           "KAB. BANGKA BARAT"
          ],
          [
           "KAB. BANGKA SELATAN"
          ],
          [
           "KAB. BANGKA TENGAH"
          ],
          [
           "KAB. BANGKALAN"
          ],
          [
           "KAB. BANGLI"
          ],
          [
           "KAB. BANJAR"
          ],
          [
           "KAB. BANJARNEGARA"
          ],
          [
           "KAB. BANTAENG"
          ],
          [
           "KAB. BANTUL"
          ],
          [
           "KAB. BANYUASIN"
          ],
          [
           "KAB. BANYUMAS"
          ],
          [
           "KAB. BANYUWANGI"
          ],
          [
           "KAB. BARITO KUALA"
          ],
          [
           "KAB. BARITO SELATAN"
          ],
          [
           "KAB. BARITO TIMUR"
          ],
          [
           "KAB. BARITO UTARA"
          ],
          [
           "KAB. BARRU"
          ],
          [
           "KAB. BATANG"
          ],
          [
           "KAB. BATANGHARI"
          ],
          [
           "KAB. BATU BARA"
          ],
          [
           "KAB. BEKASI"
          ],
          [
           "KAB. BELITUNG"
          ],
          [
           "KAB. BELITUNG TIMUR"
          ],
          [
           "KAB. BELU"
          ],
          [
           "KAB. BENER MERIAH"
          ],
          [
           "KAB. BENGKALIS"
          ],
          [
           "KAB. BENGKAYANG"
          ],
          [
           "KAB. BENGKULU SELATAN"
          ],
          [
           "KAB. BENGKULU TENGAH"
          ],
          [
           "KAB. BENGKULU UTARA"
          ],
          [
           "KAB. BERAU"
          ],
          [
           "KAB. BIAK NUMFOR"
          ],
          [
           "KAB. BIMA"
          ],
          [
           "KAB. BINTAN"
          ],
          [
           "KAB. BIREUEN"
          ],
          [
           "KAB. BLITAR"
          ],
          [
           "KAB. BLORA"
          ],
          [
           "KAB. BOALEMO"
          ],
          [
           "KAB. BOGOR"
          ],
          [
           "KAB. BOJONEGORO"
          ],
          [
           "KAB. BOLAANG MONGONDOW"
          ],
          [
           "KAB. BOLAANG MONGONDOW SELATAN"
          ],
          [
           "KAB. BOLAANG MONGONDOW TIMUR"
          ],
          [
           "KAB. BOLAANG MONGONDOW UTARA"
          ],
          [
           "KAB. BOMBANA"
          ],
          [
           "KAB. BONDOWOSO"
          ],
          [
           "KAB. BONE"
          ],
          [
           "KAB. BONE BOLANGO"
          ],
          [
           "KAB. BOVEN DIGOEL"
          ],
          [
           "KAB. BOYOLALI"
          ],
          [
           "KAB. BREBES"
          ],
          [
           "KAB. BULELENG"
          ],
          [
           "KAB. BULUKUMBA"
          ],
          [
           "KAB. BULUNGAN"
          ],
          [
           "KAB. BUNGO"
          ],
          [
           "KAB. BUOL"
          ],
          [
           "KAB. BURU"
          ],
          [
           "KAB. BURU SELATAN"
          ],
          [
           "KAB. BUTON"
          ],
          [
           "KAB. BUTON SELATAN"
          ],
          [
           "KAB. BUTON TENGAH"
          ],
          [
           "KAB. BUTON UTARA"
          ],
          [
           "KAB. CIAMIS"
          ],
          [
           "KAB. CIANJUR"
          ],
          [
           "KAB. CILACAP"
          ],
          [
           "KAB. CIREBON"
          ],
          [
           "KAB. DAIRI"
          ],
          [
           "KAB. DEIYAI"
          ],
          [
           "KAB. DELI SERDANG"
          ],
          [
           "KAB. DEMAK"
          ],
          [
           "KAB. DHARMASRAYA"
          ],
          [
           "KAB. DOGIYAI"
          ],
          [
           "KAB. DOMPU"
          ],
          [
           "KAB. DONGGALA"
          ],
          [
           "KAB. EMPAT LAWANG"
          ],
          [
           "KAB. ENDE"
          ],
          [
           "KAB. ENREKANG"
          ],
          [
           "KAB. FAK FAK"
          ],
          [
           "KAB. FLORES TIMUR"
          ],
          [
           "KAB. GARUT"
          ],
          [
           "KAB. GAYO LUES"
          ],
          [
           "KAB. GIANYAR"
          ],
          [
           "KAB. GORONTALO"
          ],
          [
           "KAB. GORONTALO UTARA"
          ],
          [
           "KAB. GOWA"
          ],
          [
           "KAB. GRESIK"
          ],
          [
           "KAB. GROBOGAN"
          ],
          [
           "KAB. GUNUNG KIDUL"
          ],
          [
           "KAB. GUNUNG MAS"
          ],
          [
           "KAB. HALMAHERA BARAT"
          ],
          [
           "KAB. HALMAHERA SELATAN"
          ],
          [
           "KAB. HALMAHERA TENGAH"
          ],
          [
           "KAB. HALMAHERA TIMUR"
          ],
          [
           "KAB. HALMAHERA UTARA"
          ],
          [
           "KAB. HULU SUNGAI SELATAN"
          ],
          [
           "KAB. HULU SUNGAI TENGAH"
          ],
          [
           "KAB. HULU SUNGAI UTARA"
          ],
          [
           "KAB. HUMBANG HASUNDUTAN"
          ],
          [
           "KAB. INDRAGIRI HILIR"
          ],
          [
           "KAB. INDRAGIRI HULU"
          ],
          [
           "KAB. INDRAMAYU"
          ],
          [
           "KAB. INTAN JAYA"
          ],
          [
           "KAB. JAYAPURA"
          ],
          [
           "KAB. JAYAWIJAYA"
          ],
          [
           "KAB. JEMBER"
          ],
          [
           "KAB. JEMBRANA"
          ],
          [
           "KAB. JENEPONTO"
          ],
          [
           "KAB. JEPARA"
          ],
          [
           "KAB. JOMBANG"
          ],
          [
           "KAB. KAIMANA"
          ],
          [
           "KAB. KAMPAR"
          ],
          [
           "KAB. KAPUAS"
          ],
          [
           "KAB. KAPUAS HULU"
          ],
          [
           "KAB. KARANGANYAR"
          ],
          [
           "KAB. KARANGASEM"
          ],
          [
           "KAB. KARAWANG"
          ],
          [
           "KAB. KARIMUN"
          ],
          [
           "KAB. KARO"
          ],
          [
           "KAB. KATINGAN"
          ],
          [
           "KAB. KAUR"
          ],
          [
           "KAB. KAYONG UTARA"
          ],
          [
           "KAB. KEBUMEN"
          ],
          [
           "KAB. KEDIRI"
          ],
          [
           "KAB. KEEROM"
          ],
          [
           "KAB. KENDAL"
          ],
          [
           "KAB. KEP. SIAU TAGULANDANG BIARO"
          ],
          [
           "KAB. KEPAHIANG"
          ],
          [
           "KAB. KEPULAUAN ANAMBAS"
          ],
          [
           "KAB. KEPULAUAN ARU"
          ],
          [
           "KAB. KEPULAUAN MENTAWAI"
          ],
          [
           "KAB. KEPULAUAN MERANTI"
          ],
          [
           "KAB. KEPULAUAN SELAYAR"
          ],
          [
           "KAB. KEPULAUAN SULA"
          ],
          [
           "KAB. KEPULAUAN TALAUD"
          ],
          [
           "KAB. KEPULAUAN TANIMBAR"
          ],
          [
           "KAB. KEPULAUAN YAPEN"
          ],
          [
           "KAB. KERINCI"
          ],
          [
           "KAB. KETAPANG"
          ],
          [
           "KAB. KLATEN"
          ],
          [
           "KAB. KLUNGKUNG"
          ],
          [
           "KAB. KOLAKA"
          ],
          [
           "KAB. KOLAKA TIMUR"
          ],
          [
           "KAB. KOLAKA UTARA"
          ],
          [
           "KAB. KONAWE"
          ],
          [
           "KAB. KONAWE SELATAN"
          ],
          [
           "KAB. KONAWE UTARA"
          ],
          [
           "KAB. KUANTAN SINGINGI"
          ],
          [
           "KAB. KUBU RAYA"
          ],
          [
           "KAB. KUDUS"
          ],
          [
           "KAB. KULON PROGO"
          ],
          [
           "KAB. KUNINGAN"
          ],
          [
           "KAB. KUPANG"
          ],
          [
           "KAB. KUTAI BARAT"
          ],
          [
           "KAB. KUTAI KARTANEGARA"
          ],
          [
           "KAB. KUTAI TIMUR"
          ],
          [
           "KAB. LABUHANBATU"
          ],
          [
           "KAB. LABUHANBATU SELATAN"
          ],
          [
           "KAB. LABUHANBATU UTARA"
          ],
          [
           "KAB. LAHAT"
          ],
          [
           "KAB. LAMANDAU"
          ],
          [
           "KAB. LAMONGAN"
          ],
          [
           "KAB. LAMPUNG BARAT"
          ],
          [
           "KAB. LAMPUNG SELATAN"
          ],
          [
           "KAB. LAMPUNG TENGAH"
          ],
          [
           "KAB. LAMPUNG TIMUR"
          ],
          [
           "KAB. LAMPUNG UTARA"
          ],
          [
           "KAB. LANDAK"
          ],
          [
           "KAB. LANGKAT"
          ],
          [
           "KAB. LANNY JAYA"
          ],
          [
           "KAB. LEBAK"
          ],
          [
           "KAB. LEBONG"
          ],
          [
           "KAB. LEMBATA"
          ],
          [
           "KAB. LINGGA"
          ],
          [
           "KAB. LOMBOK BARAT"
          ],
          [
           "KAB. LOMBOK TENGAH"
          ],
          [
           "KAB. LOMBOK TIMUR"
          ],
          [
           "KAB. LOMBOK UTARA"
          ],
          [
           "KAB. LUMAJANG"
          ],
          [
           "KAB. LUWU"
          ],
          [
           "KAB. LUWU TIMUR"
          ],
          [
           "KAB. LUWU UTARA"
          ],
          [
           "KAB. MADIUN"
          ],
          [
           "KAB. MAGELANG"
          ],
          [
           "KAB. MAGETAN"
          ],
          [
           "KAB. MAHAKAM ULU"
          ],
          [
           "KAB. MAJALENGKA"
          ],
          [
           "KAB. MAJENE"
          ],
          [
           "KAB. MALAKA"
          ],
          [
           "KAB. MALANG"
          ],
          [
           "KAB. MALINAU"
          ],
          [
           "KAB. MALUKU BARAT DAYA"
          ],
          [
           "KAB. MALUKU TENGAH"
          ],
          [
           "KAB. MALUKU TENGGARA"
          ],
          [
           "KAB. MAMASA"
          ],
          [
           "KAB. MAMBERAMO RAYA"
          ],
          [
           "KAB. MAMBERAMO TENGAH"
          ],
          [
           "KAB. MAMUJU"
          ],
          [
           "KAB. MAMUJU TENGAH"
          ],
          [
           "KAB. MAMUJU UTARA"
          ],
          [
           "KAB. MANDAILING NATAL"
          ],
          [
           "KAB. MANGGARAI"
          ],
          [
           "KAB. MANGGARAI BARAT"
          ],
          [
           "KAB. MANGGARAI TIMUR"
          ],
          [
           "KAB. MANOKWARI"
          ],
          [
           "KAB. MANOKWARI SELATAN"
          ],
          [
           "KAB. MAPPI"
          ],
          [
           "KAB. MAROS"
          ],
          [
           "KAB. MAYBRAT"
          ],
          [
           "KAB. MELAWI"
          ],
          [
           "KAB. MEMPAWAH"
          ],
          [
           "KAB. MERANGIN"
          ],
          [
           "KAB. MERAUKE"
          ],
          [
           "KAB. MESUJI"
          ],
          [
           "KAB. MIMIKA"
          ],
          [
           "KAB. MINAHASA"
          ],
          [
           "KAB. MINAHASA SELATAN"
          ],
          [
           "KAB. MINAHASA TENGGARA"
          ],
          [
           "KAB. MINAHASA UTARA"
          ],
          [
           "KAB. MOJOKERTO"
          ],
          [
           "KAB. MOROWALI"
          ],
          [
           "KAB. MUARA ENIM"
          ],
          [
           "KAB. MUARO JAMBI"
          ],
          [
           "KAB. MUKOMUKO"
          ],
          [
           "KAB. MUNA"
          ],
          [
           "KAB. MUNA BARAT"
          ],
          [
           "KAB. MURUNG RAYA"
          ],
          [
           "KAB. MUSI BANYUASIN"
          ],
          [
           "KAB. MUSI RAWAS"
          ],
          [
           "KAB. NABIRE"
          ],
          [
           "KAB. NAGAN RAYA"
          ],
          [
           "KAB. NAGEKEO"
          ],
          [
           "KAB. NATUNA"
          ],
          [
           "KAB. NDUGA"
          ],
          [
           "KAB. NGADA"
          ],
          [
           "KAB. NGANJUK"
          ],
          [
           "KAB. NGAWI"
          ],
          [
           "KAB. NIAS"
          ],
          [
           "KAB. NIAS BARAT"
          ],
          [
           "KAB. NIAS SELATAN"
          ],
          [
           "KAB. NIAS UTARA"
          ],
          [
           "KAB. NUNUKAN"
          ],
          [
           "KAB. OGAN ILIR"
          ],
          [
           "KAB. OGAN KOMERING ILIR"
          ],
          [
           "KAB. OGAN KOMERING ULU"
          ],
          [
           "KAB. OKU SELATAN"
          ],
          [
           "KAB. OKU TIMUR"
          ],
          [
           "KAB. PACITAN"
          ],
          [
           "KAB. PADANG LAWAS"
          ],
          [
           "KAB. PADANG LAWAS UTARA"
          ],
          [
           "KAB. PADANG PARIAMAN"
          ],
          [
           "KAB. PAKPAK BHARAT"
          ],
          [
           "KAB. PAMEKASAN"
          ],
          [
           "KAB. PANDEGLANG"
          ],
          [
           "KAB. PANGANDARAN"
          ],
          [
           "KAB. PANGKAJENE KEPULAUAN"
          ],
          [
           "KAB. PANIAI"
          ],
          [
           "KAB. PARIGI MOUTONG"
          ],
          [
           "KAB. PASAMAN"
          ],
          [
           "KAB. PASAMAN BARAT"
          ],
          [
           "KAB. PASER"
          ],
          [
           "KAB. PASURUAN"
          ],
          [
           "KAB. PATI"
          ],
          [
           "KAB. PEGUNUNGAN ARFAK"
          ],
          [
           "KAB. PEGUNUNGAN BINTANG"
          ],
          [
           "KAB. PEKALONGAN"
          ],
          [
           "KAB. PELALAWAN"
          ],
          [
           "KAB. PEMALANG"
          ],
          [
           "KAB. PENAJAM PASER UTARA"
          ],
          [
           "KAB. PENUKAL ABAB LEMATANG ILIR"
          ],
          [
           "KAB. PESAWARAN"
          ],
          [
           "KAB. PESISIR BARAT"
          ],
          [
           "KAB. PESISIR SELATAN"
          ],
          [
           "KAB. PIDIE"
          ],
          [
           "KAB. PIDIE JAYA"
          ],
          [
           "KAB. PINRANG"
          ],
          [
           "KAB. POHUWATO"
          ],
          [
           "KAB. POLEWALI MANDAR"
          ],
          [
           "KAB. PONOROGO"
          ],
          [
           "KAB. POSO"
          ],
          [
           "KAB. PRINGSEWU"
          ],
          [
           "KAB. PROBOLINGGO"
          ],
          [
           "KAB. PULANG PISAU"
          ],
          [
           "KAB. PULAU MOROTAI"
          ],
          [
           "KAB. PULAU TALIABU"
          ],
          [
           "KAB. PUNCAK"
          ],
          [
           "KAB. PUNCAK JAYA"
          ],
          [
           "KAB. PURBALINGGA"
          ],
          [
           "KAB. PURWAKARTA"
          ],
          [
           "KAB. PURWOREJO"
          ],
          [
           "KAB. RAJA AMPAT"
          ],
          [
           "KAB. REJANG LEBONG"
          ],
          [
           "KAB. REMBANG"
          ],
          [
           "KAB. ROKAN HILIR"
          ],
          [
           "KAB. ROKAN HULU"
          ],
          [
           "KAB. ROTE NDAO"
          ],
          [
           "KAB. SABU RAIJUA"
          ],
          [
           "KAB. SAMBAS"
          ],
          [
           "KAB. SAMOSIR"
          ],
          [
           "KAB. SAMPANG"
          ],
          [
           "KAB. SANGGAU"
          ],
          [
           "KAB. SANGIHE"
          ],
          [
           "KAB. SARMI"
          ],
          [
           "KAB. SAROLANGUN"
          ],
          [
           "KAB. SEKADAU"
          ],
          [
           "KAB. SELUMA"
          ],
          [
           "KAB. SEMARANG"
          ],
          [
           "KAB. SERAM BAGIAN BARAT"
          ],
          [
           "KAB. SERAM BAGIAN TIMUR"
          ],
          [
           "KAB. SERANG"
          ],
          [
           "KAB. SERDANG BEDAGAI"
          ],
          [
           "KAB. SERUYAN"
          ],
          [
           "KAB. SIAK"
          ],
          [
           "KAB. SIDENRENG RAPPANG"
          ],
          [
           "KAB. SIDOARJO"
          ],
          [
           "KAB. SIGI"
          ],
          [
           "KAB. SIJUNJUNG"
          ],
          [
           "KAB. SIKKA"
          ],
          [
           "KAB. SIMALUNGUN"
          ],
          [
           "KAB. SIMEULUE"
          ],
          [
           "KAB. SINJAI"
          ],
          [
           "KAB. SINTANG"
          ],
          [
           "KAB. SITUBONDO"
          ],
          [
           "KAB. SLEMAN"
          ],
          [
           "KAB. SOLOK"
          ],
          [
           "KAB. SOLOK SELATAN"
          ],
          [
           "KAB. SOPPENG"
          ],
          [
           "KAB. SORONG"
          ],
          [
           "KAB. SORONG SELATAN"
          ],
          [
           "KAB. SRAGEN"
          ],
          [
           "KAB. SUBANG"
          ],
          [
           "KAB. SUKABUMI"
          ],
          [
           "KAB. SUKAMARA"
          ],
          [
           "KAB. SUKOHARJO"
          ],
          [
           "KAB. SUMBA BARAT"
          ],
          [
           "KAB. SUMBA BARAT DAYA"
          ],
          [
           "KAB. SUMBA TENGAH"
          ],
          [
           "KAB. SUMBA TIMUR"
          ],
          [
           "KAB. SUMBAWA"
          ],
          [
           "KAB. SUMBAWA BARAT"
          ],
          [
           "KAB. SUMEDANG"
          ],
          [
           "KAB. SUMENEP"
          ],
          [
           "KAB. SUPIORI"
          ],
          [
           "KAB. TABALONG"
          ],
          [
           "KAB. TABANAN"
          ],
          [
           "KAB. TAKALAR"
          ],
          [
           "KAB. TAMBRAUW"
          ],
          [
           "KAB. TANA TIDUNG"
          ],
          [
           "KAB. TANA TORAJA"
          ],
          [
           "KAB. TANAH BUMBU"
          ],
          [
           "KAB. TANAH DATAR"
          ],
          [
           "KAB. TANAH LAUT"
          ],
          [
           "KAB. TANGERANG"
          ],
          [
           "KAB. TANGGAMUS"
          ],
          [
           "KAB. TANJUNG JABUNG BARAT"
          ],
          [
           "KAB. TANJUNG JABUNG TIMUR"
          ],
          [
           "KAB. TAPANULI SELATAN"
          ],
          [
           "KAB. TAPANULI TENGAH"
          ],
          [
           "KAB. TAPANULI UTARA"
          ],
          [
           "KAB. TAPIN"
          ],
          [
           "KAB. TASIKMALAYA"
          ],
          [
           "KAB. TEBO"
          ],
          [
           "KAB. TEGAL"
          ],
          [
           "KAB. TELUK BINTUNI"
          ],
          [
           "KAB. TELUK WONDAMA"
          ],
          [
           "KAB. TEMANGGUNG"
          ],
          [
           "KAB. TIMOR TENGAH SELATAN"
          ],
          [
           "KAB. TIMOR TENGAH UTARA"
          ],
          [
           "KAB. TOBA SAMOSIR"
          ],
          [
           "KAB. TOJO UNA UNA"
          ],
          [
           "KAB. TOLI-TOLI"
          ],
          [
           "KAB. TOLIKARA"
          ],
          [
           "KAB. TORAJA UTARA"
          ],
          [
           "KAB. TRENGGALEK"
          ],
          [
           "KAB. TUBAN"
          ],
          [
           "KAB. TULANG BAWANG"
          ],
          [
           "KAB. TULANG BAWANG BARAT"
          ],
          [
           "KAB. TULUNGAGUNG"
          ],
          [
           "KAB. WAJO"
          ],
          [
           "KAB. WAKATOBI"
          ],
          [
           "KAB. WAY KANAN"
          ],
          [
           "KAB. WONOGIRI"
          ],
          [
           "KAB. WONOSOBO"
          ],
          [
           "KAB. YAHUKIMO"
          ],
          [
           "KAB. YALIMO"
          ]
         ],
         "hovertemplate": "jenis_pemda=KABUPATEN<br>risiko_defisit=%{x}<br>risiko_mandatory_spending=%{y}<br>risiko_keselarasan=%{z}<br>nama_pemda=%{customdata[0]}<extra></extra>",
         "legendgroup": "KABUPATEN",
         "marker": {
          "color": "#636efa",
          "symbol": "circle"
         },
         "mode": "markers",
         "name": "KABUPATEN",
         "scene": "scene",
         "showlegend": true,
         "type": "scatter3d",
         "x": [
          100.19276806005341,
          101.55807133429802,
          103.45182558062953,
          104.10204361159774,
          111.28455608682613,
          105.46606290884901,
          102.55488785234176,
          101.38442244900105,
          100.56222298510691,
          100.57510825393076,
          104.55948152702457,
          104.12045652952129,
          100,
          100.86013820077689,
          106.41601109370656,
          99.62473416153227,
          100.92049733961261,
          100,
          108.81325717229105,
          112.26150159611133,
          109.1138818060321,
          107.34984113041928,
          102.58653238169764,
          105.11451745425045,
          99.50143621096376,
          111.5968212244668,
          114.90618653539669,
          104.84772250095187,
          106.29204964267782,
          107.79709193138555,
          0,
          114.6008479512307,
          103.92985425358926,
          99.86378632979505,
          104.88167763349472,
          94.35839275923853,
          0,
          100.5351219770247,
          101.83045081104956,
          0,
          104.3704441379148,
          103.95541839084848,
          100.81834365859301,
          103.38986957770344,
          0,
          112.43978102037266,
          115.41516937714236,
          112.58573536548744,
          111.42342947288692,
          103.24204006812458,
          100.79550637229629,
          114.97809783430985,
          124.93619480398212,
          104.0995466656488,
          103.12503864167357,
          102.12490693857123,
          100,
          102.32636343050679,
          101.67121275676988,
          103.50045639938692,
          100.63819670910472,
          102.9910144787745,
          110.04953147512228,
          100.08788341689238,
          108.10399787753397,
          143.3811494037246,
          102.70434943559594,
          100.92950466188017,
          101.99210531618601,
          101.94048849301387,
          103.39962426088887,
          102.3877571676348,
          116.78011799029247,
          99.9968556347622,
          0,
          0,
          0,
          102.3680429314493,
          107.80299683564571,
          101.59020154354246,
          100.41152423682738,
          100.96295672658617,
          99.31363051871607,
          102.45629296878411,
          98.63975506342723,
          97.44590974960005,
          107.24397840116583,
          130.30814680371014,
          0,
          100.89048894358874,
          0,
          102.98114978835578,
          103.29756130381276,
          92.76480910597168,
          100.64246931306936,
          104.44195543058055,
          106.7427333273699,
          0,
          102.51755995025238,
          99.67339375981422,
          99.80184327714245,
          110.51237347917765,
          93.44456400536497,
          107.16756125848687,
          99.6474483757067,
          104.39418286385921,
          99.75467894629631,
          106.67676570584517,
          108.53228697739343,
          128.53204342347874,
          111.50149062398427,
          107.07577663522953,
          105.22744471083494,
          104.2360798268519,
          108.14438312612768,
          123.74027055227408,
          97.08039687636646,
          115.18962775810384,
          104.40005182022878,
          104.69936971610376,
          113.25136879811284,
          115.38238947237072,
          131.3303379487718,
          102.84260483960783,
          111.91205390123467,
          109.35372096147273,
          102.0976147741515,
          99.90300599720791,
          106.88619305450813,
          105.24073280901783,
          115.38758264589055,
          103.55447230194707,
          100.08263196200488,
          106.8665424288412,
          105.72797037628467,
          110.14420841150712,
          102.3325145287019,
          112.96655286968517,
          101.27642532792571,
          100.8297633592589,
          103.0756777744392,
          103.87045324602244,
          102.92674170381824,
          100.74716821038156,
          114.07992339684962,
          0,
          102.7598457738959,
          103.55760320261302,
          114.95958346359876,
          97.6025876979433,
          0,
          103.26157302637102,
          108.51603444669638,
          103.24025244869108,
          100.42214171814237,
          0,
          120.97696189617069,
          107.36722065905744,
          103.38702581818413,
          110.24652386045055,
          109.32531878816339,
          118.6685580379508,
          101.41147371871972,
          104.43557198984672,
          0,
          124.7099780240703,
          100.32836825233191,
          108.4259825854596,
          103.06427127299295,
          97.8255199734939,
          118.5800255124994,
          130.19442251158583,
          101.68684824131171,
          108.17884046334045,
          0,
          100.50632550240253,
          99.18060488528741,
          105.76249287605945,
          99.6992065280968,
          110.49537107924334,
          99.83076317467913,
          101.61352704540118,
          104.3141775603343,
          101.38702071271366,
          104.66320992960824,
          114.45004169693817,
          104.73293217907451,
          107.4871508365703,
          102.66559367345354,
          104.6772324516166,
          106.92740008160911,
          106.9032792000423,
          103.38664601505891,
          99.84251687272206,
          101.28199775097922,
          102.2582956230693,
          100.71629848360486,
          128.30848589900526,
          101.71856845044354,
          97.81588828374139,
          108.08081650612536,
          110.29979003867565,
          99.62052090071498,
          106.50537946218716,
          100.72970726023169,
          102.99788077779802,
          113.25749681256849,
          104.14762270302649,
          105.50918694121043,
          104.65685796611413,
          100,
          0,
          100.17555288939441,
          102.78494084484964,
          107.8431634698735,
          108.63712432312589,
          126.34133757115048,
          101.99724623816833,
          109.51301443852306,
          123.41350025099848,
          98.76743638808712,
          109.63025155293798,
          101.89257361902754,
          99.73023868084462,
          102.38811422862632,
          100.87085795673913,
          123.22917508005035,
          115.39378162069376,
          111.99547034428734,
          101.60430042663839,
          87.76757300898484,
          0,
          100.89123780183348,
          100.67972058974475,
          0,
          105.75990901644722,
          98.22231899263605,
          99.66734411159494,
          107.93177164571908,
          107.05627666533913,
          105.07558409471312,
          99.83641319984856,
          98.52550963659242,
          100.20128623490156,
          104.2012422070843,
          100.57660520207263,
          103.21123590248204,
          103.34907737758824,
          102.48514186002431,
          116.98887594662486,
          133.82711713929143,
          104.5948384928899,
          92.68969049716559,
          100.59158074700636,
          96.58305545547722,
          101.47627464710052,
          104.70977012627371,
          101.61970789893257,
          96.26436008498017,
          118.49504821045949,
          111.7984486394443,
          107.75997464723015,
          103.30849121577856,
          104.57001205258835,
          102.91790099147038,
          117.02412454480178,
          102.92982199847278,
          99.90109087173818,
          106.5691096242085,
          105.81742328188078,
          108.25504261910261,
          98.53254310858412,
          100.94616907175198,
          103.33580613800196,
          119.08133973009434,
          104.10042778450257,
          103.70711616992413,
          120.8234882842711,
          100.668319650789,
          100.47019460236417,
          100.65770033737267,
          107.5748137754639,
          101.24942513851582,
          104.54823358992601,
          0,
          149.23315959966266,
          107.68128320023489,
          103.36363320888292,
          99.88509811702612,
          100,
          100.20312038458931,
          124.48667837359775,
          101.61315421321788,
          94.79072544840685,
          127.46183367394246,
          112.11452513605711,
          99.55183464205713,
          101.88531571096908,
          104.50015547354647,
          99.88596188119533,
          103.77720858812592,
          110.98672737558508,
          100,
          109.56394378772605,
          100,
          103.35834315488206,
          105.4361696303079,
          104.06105705109012,
          0,
          156.32925447040847,
          0,
          101.05692337401204,
          102.84673705536058,
          0,
          0,
          99.92592592592592,
          99.74679979804384,
          117.52911028604136,
          112.9013242402024,
          100.8889676774468,
          101.5959292435834,
          107.50551179411325,
          98.98929681045477,
          102.47378769364744,
          113.85802849818158,
          109.0945884456838,
          107.11831326606394,
          99.51234331256785,
          103.63253713073952,
          106.2847799700757,
          104.09955009607359,
          104.8990062741179,
          107.60070655985159,
          100,
          104.90839054455647,
          99.092330456165,
          0,
          109.34752082819605,
          101.87420816566797,
          121.0207587458807,
          105.4428465032944,
          107.3631163613007,
          115.45283999442269,
          99.77958640098782,
          101.77672289755503,
          102.53010542165659,
          100.7074535515381,
          120.59079101665387,
          104.95002859991101,
          103.61918396972402,
          110.44560026184665,
          106.76076909004529,
          101.71408287450015,
          109.29919730504145,
          110.65809218197442,
          102.9836063689813,
          99.32525383533395,
          107.67438144311525,
          0,
          99.189104996078,
          108.64581127760819,
          102.93753447657248,
          0,
          101.32114232872762,
          104.11875018525186,
          99.55543652685385,
          112.55795135388375,
          101.71471029745283,
          112.68402848676935,
          103.3743036783235,
          120.6701358276059,
          92.51679696616546,
          104.87039512575396,
          0,
          108.14716956113438,
          104.41940130405347,
          109.43716269682908,
          0,
          104.01466295758442,
          0,
          106.41015899750796,
          108.23458827871377,
          97.50465983792068,
          105.35875630903232,
          152.91037156478097,
          102.92763286615025,
          99.69477737097449,
          106.6206847940589,
          100,
          102.0916959315744,
          105.49388277795167,
          99.99999999997038,
          104.60786214047249,
          105.13331460669579,
          103.88988737453239,
          100,
          0,
          100.19105831975664,
          112.96418163382731,
          106.17396299559626,
          103.03393418067488,
          0,
          106.30304793036925,
          98.00444197430139,
          105.52691176071119,
          100.18545357923598,
          104.34181731881387,
          103.23284762910374,
          101.19116239413839,
          100
         ],
         "y": [
          10.126855673501073,
          0,
          0,
          6.075783969025052,
          6.857150148972158,
          7.285982054539282,
          9.982984533252555,
          7.39938191105681,
          8.966343429806482,
          6.45392706419665,
          5.7014759778666475,
          6.825985618516776,
          6.400314110013072,
          6.781156452325442,
          7.099435253117709,
          12.441639346527078,
          7.101875800929744,
          10.205699523880845,
          12.540824525064721,
          6.215074977815383,
          5.020623442123187,
          9.790162635997886,
          7.4659798555147265,
          6.07286377650684,
          4.677691386879207,
          7.95512498289836,
          9.02876370122866,
          0,
          9.364691571401352,
          7.631334278259901,
          0,
          5.24028618348532,
          7.4599646886578235,
          8.611705670286025,
          10.18689002987525,
          8.444293838036865,
          0,
          8.805801385694679,
          7.948431902446828,
          0,
          5.643252616038599,
          9.189792324125015,
          9.899489001851517,
          9.227471733125977,
          0,
          7.410423384527604,
          11.502266953035866,
          7.8483397916238555,
          8.02617377330238,
          11.345093504295956,
          6.026704477450004,
          7.412786076453019,
          8.174582255908742,
          5.151971827181339,
          6.918052914354655,
          6.7937431408426345,
          8.632625992100643,
          10.967114380107269,
          7.817760742689177,
          7.36177769165811,
          6.256759561715665,
          6.482248815679656,
          6.476423143070962,
          0,
          26.23378671613365,
          6.231245560541442,
          8.21351976561958,
          0,
          12.028252995143973,
          12.833063355700638,
          8.250497623004701,
          7.560825686762833,
          7.621904369326153,
          7.806753128571279,
          0,
          0,
          0,
          10.148098819066433,
          6.652096009239511,
          12.803902629663094,
          8.42079644158108,
          7.870560517610429,
          7.8457417926966135,
          5.60434156092002,
          8.197804871781596,
          9.025372189159647,
          9.89193598465829,
          5.912469448115662,
          0,
          16.481256520361065,
          0,
          32.03454926014881,
          8.197042665845462,
          8.929444508037648,
          9.412440822039713,
          8.14982405584171,
          8.39509647824159,
          0,
          7.111596426422883,
          8.097731856176464,
          10.348317940034043,
          11.06902444113092,
          10.238188754769531,
          0,
          0,
          8.410682672023862,
          9.229594850753394,
          8.659626262558291,
          5.496991307025799,
          10.337940695550213,
          9.410873556760016,
          8.886831436578136,
          7.491945396056545,
          29.41161305626639,
          8.43195245523066,
          0,
          9.83212386027314,
          7.956721709381251,
          0,
          0,
          11.1075858967855,
          10.872070191434378,
          10.588953547330386,
          7.603754817176462,
          5.043831962684566,
          5.882396471979185,
          7.51577294360077,
          5.149569535987528,
          6.975232059646429,
          10.70399771008994,
          8.061645396436797,
          8.825290536124026,
          9.145899081373823,
          11.281671838839728,
          14.40755136265507,
          5.780514919280527,
          9.299728259400641,
          6.2115570048813336,
          6.741241398302689,
          6.541262779629236,
          8.611946255537347,
          8.535546210718975,
          5.905166978251248,
          5.81836951514661,
          7.551030119068411,
          0,
          9.773773934725927,
          5.77185041343535,
          6.733511495466988,
          6.621553674920713,
          0,
          0,
          6.297838850487205,
          5.696922107586014,
          8.312413278427265,
          0,
          5.370400615960687,
          0,
          8.527964967569151,
          14.877352893170643,
          7.400569537104218,
          7.655240244235719,
          5.866162961102453,
          8.405666294740819,
          0,
          8.924607592404051,
          11.076578773664407,
          8.598038923287923,
          7.140847021682822,
          6.2435674014558415,
          16.987775282073695,
          4.875114523973794,
          6.958397805486925,
          8.640322751967599,
          0,
          8.92182612831968,
          11.449648964298156,
          9.84182576999012,
          6.156179090005974,
          5.3269766708071,
          6.860873195213646,
          6.810700161157821,
          10.296019802222494,
          0,
          0,
          8.559553601069208,
          8.205560975927897,
          9.31717145105592,
          7.695047167780256,
          9.456193578379889,
          6.637852552351372,
          6.2412925088014735,
          10.805801407670785,
          2.452685977071734,
          10.278061599901584,
          7.46480615527779,
          5.827014602713174,
          6.3927796443642535,
          8.29131797712273,
          10.727497588885115,
          8.447708350674137,
          0,
          7.623093491162644,
          8.777014689868729,
          9.449492603324034,
          10.830184057215526,
          7.602114499914576,
          6.90231346835565,
          7.113055848821144,
          6.526634109850177,
          7.045185013899099,
          0,
          9.933510110567306,
          10.48358391070631,
          7.820287885658293,
          7.528760689359411,
          7.217030803156755,
          7.907216173091602,
          5.84414271428278,
          8.347267145454165,
          0,
          0,
          10.252155020792664,
          0,
          11.035475806759301,
          7.401692667954848,
          11.793629800050763,
          0,
          11.13282858895252,
          0,
          4.430808157319429,
          0,
          8.383935184560478,
          0,
          0,
          12.400517627060736,
          7.259372777602715,
          7.19776155514906,
          11.025640211608746,
          5.532809440321926,
          9.458058306956044,
          6.098892390309103,
          7.301935782488989,
          9.324017543109537,
          6.421535162748842,
          0,
          8.862939939330104,
          5.73396214112333,
          7.867724689455317,
          8.60679916396226,
          11.61535888722531,
          7.2832043111654965,
          6.2980399467809836,
          6.821640789653996,
          9.000153159279336,
          5.924018288794362,
          7.588066082636869,
          19.073877891536554,
          9.531556878154664,
          10.76316690929423,
          6.1364536473045925,
          6.676172190572213,
          10.370665729032664,
          12.313084337120815,
          10.493211846540806,
          10.604381352889536,
          5.858434942539338,
          6.932368881935163,
          7.044317546084709,
          5.880582803485433,
          0,
          7.403853382525618,
          7.759324473533281,
          6.630833939004751,
          0,
          7.236559238176728,
          20.829642682004575,
          6.86191014388562,
          7.181135567850173,
          11.379166198586127,
          11.55571163787325,
          9.45521790451435,
          0,
          8.677961644502968,
          0,
          6.758461605471306,
          8.983123580737004,
          8.159780457915987,
          7.396023286164931,
          7.941412008764234,
          7.401025882314676,
          4.62025523062139,
          10.307326834178848,
          6.760033041051915,
          6.722074368895548,
          6.83335355436376,
          5.5527734897623215,
          28.674423220936198,
          5.094170929828065,
          6.663200659527395,
          10.152909447904099,
          0,
          13.411138124322866,
          5.985736653346168,
          0,
          9.327318017129334,
          6.028229208687342,
          6.634206422451689,
          0,
          5.731545337905284,
          0,
          0,
          8.261714620291057,
          0,
          0,
          7.543058519236471,
          8.244791485120523,
          0,
          21.111160016590084,
          1.7302437245465945,
          9.561500603997457,
          7.452469050646629,
          24.728885825548993,
          5.697807861065912,
          9.521914034716561,
          8.071873309105289,
          8.70116892783189,
          9.781480672945605,
          7.4775483011411765,
          24.31873041351094,
          6.6903569194708385,
          7.9024882651446475,
          8.294439810749404,
          7.906515150379235,
          6.93506660732454,
          8.839650467104512,
          0,
          7.304951269208814,
          8.017082840340423,
          9.94253908499207,
          8.30593414107772,
          9.853262048638776,
          0,
          7.433349862520692,
          9.062631935254469,
          9.163595477281751,
          6.700974308493308,
          7.67615434842718,
          8.50184131726878,
          7.200053694330252,
          11.473846561041427,
          6.91122756192034,
          0,
          7.22437072566106,
          6.613239623001929,
          28.04889503284263,
          10.026744324422822,
          9.04829115080479,
          0,
          9.515289968949816,
          10.345245245865943,
          11.342989764755547,
          0,
          9.03426217409955,
          6.169306587656207,
          30.94756014599359,
          6.840653922373255,
          0,
          3.754761071685568,
          6.1931069639607035,
          15.123637815753668,
          15.58275394448255,
          8.27547925496612,
          0,
          8.67975227138919,
          5.759452228743861,
          5.816278300603338,
          0,
          6.173520958882484,
          0,
          6.250917094019659,
          6.927632326862598,
          8.464021641858587,
          0,
          4.9911593914004655,
          6.8718688910501795,
          10.601018711421426,
          8.123918459165376,
          4.968916006644964,
          6.94486109156667,
          0,
          13.979334247819857,
          12.14813964795714,
          0,
          7.759142676334093,
          0,
          0,
          0,
          6.96300548005647,
          6.302361128766984,
          9.44385694114018,
          0,
          6.467316431338588,
          9.246838080114847,
          10.274285961452389,
          7.644082956957951,
          34.692009196714125,
          7.808277033925888,
          8.717066754503733,
          6.230683753820307
         ],
         "z": [
          14.151496918683016,
          21.73964777482002,
          15.969131576054323,
          21.000486097935063,
          19.60359003577952,
          19.140582502684687,
          21.310353857699425,
          22.84008742163926,
          21.16036820957789,
          21.406627860139587,
          20.525873691376745,
          19.249930973399238,
          22.931100144771268,
          21.17293626038232,
          26.76967828579763,
          23.028889339600525,
          24.54651407288705,
          16.257718185321618,
          22.151033605077394,
          19.785552308937845,
          20.37027491980289,
          21.754244746662494,
          18.66878660015739,
          19.94706748912444,
          18.66854110323227,
          22.88690272174239,
          20.57762901719024,
          23.267919362923443,
          25.144661514452626,
          20.095733171628787,
          25.53082728586387,
          27.608082579893562,
          22.728919289096908,
          23.392292212950668,
          18.32101005838461,
          19.19404396515617,
          22.329256980944123,
          19.866155880664998,
          23.771764779422345,
          21.866155011320956,
          21.420942108390697,
          22.11448121933674,
          28.86299924749859,
          23.75441801770294,
          21.213420020502816,
          20.607512093938006,
          21.336002005059512,
          24.462819822479346,
          24.507259063806316,
          24.926483950958787,
          19.127816690773884,
          16.607833013119432,
          19.46548374216437,
          26.014613614744437,
          22.52325961199319,
          25.882543231758593,
          16.897291371464977,
          19.67258573452487,
          24.473983394151876,
          23.078968091399357,
          21.420824396175718,
          24.21077680048961,
          20.816678017349304,
          24.34367195003506,
          18.625880084732756,
          12.519620034041093,
          23.54614136268531,
          21.492451897109866,
          23.029112633864816,
          23.041059002698198,
          16.66495819245338,
          27.12087385377241,
          23.12187743521845,
          24.97248859895637,
          0,
          25.821704300073186,
          21.286086236528554,
          25.565670710701994,
          22.83261672364219,
          23.83427511792719,
          25.594078107599465,
          25.652897085377255,
          22.159491709718623,
          16.364891694848595,
          22.51097668521504,
          18.258037219255257,
          20.442875223724684,
          14.3629266495223,
          0,
          26.551762962047505,
          22.509684380606306,
          24.42908260842554,
          24.181671866270708,
          16.11248964767372,
          25.012594327695,
          21.94874106945691,
          23.762625772975216,
          12.40880333891068,
          24.960567370317847,
          23.775442956958614,
          18.030356833326884,
          21.501990495526563,
          26.188455396531577,
          20.396285266361737,
          24.313556527407066,
          22.89932673731743,
          19.615210806702933,
          16.67739472744403,
          22.850199802567275,
          18.5045622024463,
          23.92279882505472,
          17.90740051754839,
          22.086148436204333,
          24.677180882568962,
          23.108772268059937,
          17.584234573340566,
          17.960904529878974,
          9.627162767406649,
          18.838601377199396,
          18.51486035401915,
          26.75312475080129,
          21.305797276631537,
          23.71141851080479,
          23.499700594899473,
          23.94464552592864,
          25.5715305256576,
          22.863813418669594,
          13.554758490364586,
          16.62935656202125,
          17.44829015778355,
          20.420503623732877,
          21.6355505164893,
          27.987034513073866,
          24.38994206166804,
          26.243540035026733,
          14.367835187675464,
          24.037650468728078,
          18.020464635702417,
          18.39083342092173,
          24.214476566133293,
          27.02870504467578,
          21.37528752530502,
          18.318709687838222,
          24.345721133326933,
          20.03079371545622,
          21.413911432282667,
          21.90501765395392,
          24.211378908939306,
          20.359438506768797,
          17.915204983970526,
          23.52283723880548,
          23.09737344341805,
          22.956465198767376,
          21.692234152977285,
          17.124315780266333,
          20.44630303025811,
          16.584597732224974,
          18.918007846682634,
          21.29353828393921,
          22.600667629861483,
          18.485270544993885,
          16.013096566575953,
          23.714934325678236,
          21.244673274113286,
          25.43309152590425,
          22.16534217690873,
          23.943060207062416,
          18.328142437604264,
          20.64883556810105,
          20.57955958800182,
          20.515239735955134,
          15.37955707764413,
          24.81632532521325,
          21.86493934723206,
          26.440124401528877,
          26.14378594447134,
          27.08497367770812,
          24.350802075921543,
          15.000411327198105,
          19.87866991816994,
          18.55833269061985,
          22.595765612906753,
          22.592925872895812,
          26.685530463919047,
          21.281139334744733,
          20.554252737087573,
          19.008332928266103,
          21.998095235629467,
          22.036824560428112,
          25.286700671776877,
          22.30314416520855,
          24.42008807864903,
          23.852937972721648,
          29.985754623714797,
          14.436543437522513,
          24.633947380260736,
          21.199861659201673,
          17.688206373842668,
          22.628359304140048,
          23.902592020443095,
          22.94768930638455,
          22.553163785397476,
          19.84273606167124,
          19.886982246462814,
          24.37858970571117,
          16.7846457556085,
          20.627604568892473,
          21.794787397821437,
          21.934237671288294,
          26.294086165602078,
          11.366064815412104,
          19.453718745571628,
          26.455471359598523,
          23.008352288871855,
          23.01087105516142,
          20.93702476097574,
          13.234003833812775,
          20.882453011059525,
          14.02657617901182,
          24.010750825098423,
          12.828736663750075,
          14.576214107076327,
          25.89014225698712,
          18.404372308686426,
          21.643748089764486,
          26.650096189782772,
          21.878549947392308,
          16.394425073504898,
          18.88484974301565,
          16.221036891968154,
          10.815408823247896,
          17.60521025795601,
          23.80698790431728,
          16.47527204001736,
          21.02757499667885,
          27.330738418249283,
          23.062635495981798,
          17.657898328462032,
          18.981964523565566,
          11.371975377991486,
          25.608439302692233,
          24.909329168471203,
          20.20417474469258,
          23.868761160869035,
          18.253469304456353,
          15.555788067391028,
          22.6706870317137,
          24.319449208899997,
          22.216495724348228,
          23.424456942316592,
          17.566300714169913,
          19.794932040451606,
          15.743225875096531,
          19.778097311237698,
          21.452647694554244,
          20.17675628323284,
          21.978512704299455,
          19.11305872026959,
          9.43029642227339,
          21.148594710285558,
          25.41856584780099,
          25.112336358057846,
          20.21075147545618,
          21.825358328831406,
          17.81897228627644,
          13.234309854435725,
          21.501158613805902,
          22.53608119270303,
          21.48741624651582,
          20.841373280829348,
          20.65740042706443,
          24.273670275955453,
          25.55949162441844,
          19.793429875381968,
          17.900881162667602,
          28.819185745503034,
          24.35494397491071,
          21.434777089808957,
          27.51945562331446,
          20.168874770942978,
          28.04908513576278,
          16.006527299565374,
          25.484186217266377,
          26.06265501495657,
          28.012235397913813,
          16.572789140096322,
          21.216705268822047,
          24.352488975603407,
          10.79601968081717,
          14.37223982529535,
          23.328889568422404,
          17.937396490245764,
          29.377047468464916,
          22.086016756008746,
          11.588814801074543,
          19.256934947339012,
          16.37586203302356,
          25.107062113357827,
          19.133976667150712,
          18.56708582287586,
          26.73450401304577,
          20.720035716748633,
          28.436669551795237,
          20.508275010986353,
          27.652382777173166,
          27.284029082878703,
          21.06322130612,
          23.706623134722182,
          16.759045949984138,
          8.309039328711709,
          0,
          13.9204315305502,
          23.772691720146987,
          23.634846964486584,
          20.37323221439889,
          16.88666586194511,
          24.754457457283394,
          19.715914612257002,
          21.09146804828679,
          24.58229710893115,
          22.867611141861197,
          18.631570098808393,
          20.677523417064897,
          20.451594442544263,
          21.911890719910055,
          19.837861822327092,
          26.623493423718912,
          14.63826521292993,
          21.795208063982518,
          22.28000117771468,
          23.55054897309975,
          21.6787772033294,
          22.487515505343545,
          19.368860204451543,
          23.652380795052835,
          23.59776335618415,
          22.064918005390844,
          20.851217727282368,
          25.102160857775505,
          17.194567787944223,
          23.94522626523539,
          26.89929200600554,
          23.62207022321801,
          27.219749502334583,
          20.820291575091105,
          26.46980706084706,
          21.049203938629972,
          22.821058503699014,
          19.381632943813653,
          28.896522494137123,
          25.03920745670792,
          28.6864181669648,
          16.144978902172596,
          19.08370291148271,
          25.6069699283864,
          26.00168752056528,
          21.087784121087363,
          19.581641376556632,
          22.550734630925177,
          16.950794541956434,
          18.66644504522327,
          19.699604552458265,
          19.79449411999225,
          25.831255455791748,
          21.29874065018868,
          27.255853503884712,
          23.318045658434713,
          19.184298792368367,
          20.51489617974314,
          26.33026350301647,
          25.256560688315226,
          11.977050907085932,
          23.378341445474017,
          24.68891466884495,
          15.189749144532488,
          27.072290534648744,
          20.979419940325492,
          21.295421147423465,
          19.40595475415147,
          20.63064151353601,
          21.211344447041363,
          20.585360460280516,
          23.09839476096566,
          24.95369608002226,
          16.74427052559216,
          23.667972597036005,
          21.56153795650281,
          22.3003292005418,
          8.982957291104883,
          14.512518792971793,
          24.439856522231707,
          36.66416028996,
          21.89784785258213,
          24.795104636163796,
          22.03668293802246,
          23.985035878943382,
          0,
          24.362583903123465,
          22.139164866626114,
          22.63899013492521,
          22.404560367681395,
          21.16073244897249,
          24.355665514542984,
          26.10506191991762,
          22.6607017853402,
          24.41540097440094,
          31.141332813495147,
          23.56916031241011,
          15.151548264955125,
          14.75087562330313
         ]
        },
        {
         "customdata": [
          [
           "KAB. KOTABARU"
          ],
          [
           "KAB. KOTAWARINGIN BARAT"
          ],
          [
           "KAB. KOTAWARINGIN TIMUR"
          ],
          [
           "KAB. LIMAPULUH KOTA"
          ],
          [
           "KOTA AMBON"
          ],
          [
           "KOTA BALIKPAPAN"
          ],
          [
           "KOTA BANDA ACEH"
          ],
          [
           "KOTA BANDAR LAMPUNG"
          ],
          [
           "KOTA BANDUNG"
          ],
          [
           "KOTA BANJAR"
          ],
          [
           "KOTA BANJARBARU"
          ],
          [
           "KOTA BANJARMASIN"
          ],
          [
           "KOTA BATAM"
          ],
          [
           "KOTA BATU"
          ],
          [
           "KOTA BAUBAU"
          ],
          [
           "KOTA BEKASI"
          ],
          [
           "KOTA BENGKULU"
          ],
          [
           "KOTA BIMA"
          ],
          [
           "KOTA BINJAI"
          ],
          [
           "KOTA BITUNG"
          ],
          [
           "KOTA BLITAR"
          ],
          [
           "KOTA BOGOR"
          ],
          [
           "KOTA BONTANG"
          ],
          [
           "KOTA BUKIT TINGGI"
          ],
          [
           "KOTA CILEGON"
          ],
          [
           "KOTA CIMAHI"
          ],
          [
           "KOTA CIREBON"
          ],
          [
           "KOTA DENPASAR"
          ],
          [
           "KOTA DEPOK"
          ],
          [
           "KOTA DUMAI"
          ],
          [
           "KOTA GORONTALO"
          ],
          [
           "KOTA GUNUNGSITOLI"
          ],
          [
           "KOTA JAMBI"
          ],
          [
           "KOTA JAYAPURA"
          ],
          [
           "KOTA KEDIRI"
          ],
          [
           "KOTA KENDARI"
          ],
          [
           "KOTA KOTAMOBAGU"
          ],
          [
           "KOTA KUPANG"
          ],
          [
           "KOTA LANGSA"
          ],
          [
           "KOTA LHOKSEUMAWE"
          ],
          [
           "KOTA LUBUK LINGGAU"
          ],
          [
           "KOTA MADIUN"
          ],
          [
           "KOTA MAGELANG"
          ],
          [
           "KOTA MAKASSAR"
          ],
          [
           "KOTA MALANG"
          ],
          [
           "KOTA MANADO"
          ],
          [
           "KOTA MATARAM"
          ],
          [
           "KOTA MEDAN"
          ],
          [
           "KOTA METRO"
          ],
          [
           "KOTA MOJOKERTO"
          ],
          [
           "KOTA PADANG"
          ],
          [
           "KOTA PADANG PANJANG"
          ],
          [
           "KOTA PADANG SIDEMPUAN"
          ],
          [
           "KOTA PAGAR ALAM"
          ],
          [
           "KOTA PALANGKARAYA"
          ],
          [
           "KOTA PALEMBANG"
          ],
          [
           "KOTA PALOPO"
          ],
          [
           "KOTA PALU"
          ],
          [
           "KOTA PANGKAL PINANG"
          ],
          [
           "KOTA PARE-PARE"
          ],
          [
           "KOTA PARIAMAN"
          ],
          [
           "KOTA PASURUAN"
          ],
          [
           "KOTA PAYAKUMBUH"
          ],
          [
           "KOTA PEKALONGAN"
          ],
          [
           "KOTA PEKANBARU"
          ],
          [
           "KOTA PEMATANG SIANTAR"
          ],
          [
           "KOTA PONTIANAK"
          ],
          [
           "KOTA PRABUMULIH"
          ],
          [
           "KOTA PROBOLINGGO"
          ],
          [
           "KOTA SABANG"
          ],
          [
           "KOTA SALATIGA"
          ],
          [
           "KOTA SAMARINDA"
          ],
          [
           "KOTA SAWAHLUNTO"
          ],
          [
           "KOTA SEMARANG"
          ],
          [
           "KOTA SERANG"
          ],
          [
           "KOTA SIBOLGA"
          ],
          [
           "KOTA SINGKAWANG"
          ],
          [
           "KOTA SOLOK"
          ],
          [
           "KOTA SORONG"
          ],
          [
           "KOTA SUBULUSSALAM"
          ],
          [
           "KOTA SUKABUMI"
          ],
          [
           "KOTA SUNGAI PENUH"
          ],
          [
           "KOTA SURABAYA"
          ],
          [
           "KOTA SURAKARTA"
          ],
          [
           "KOTA TANGERANG"
          ],
          [
           "KOTA TANGERANG SELATAN"
          ],
          [
           "KOTA TANJUNG BALAI"
          ],
          [
           "KOTA TANJUNG PINANG"
          ],
          [
           "KOTA TARAKAN"
          ],
          [
           "KOTA TASIKMALAYA"
          ],
          [
           "KOTA TEBING TINGGI"
          ],
          [
           "KOTA TEGAL"
          ],
          [
           "KOTA TERNATE"
          ],
          [
           "KOTA TIDORE KEPULAUAN"
          ],
          [
           "KOTA TOMOHON"
          ],
          [
           "KOTA TUAL"
          ],
          [
           "KOTA YOGYAKARTA"
          ]
         ],
         "hovertemplate": "jenis_pemda=KOTA<br>risiko_defisit=%{x}<br>risiko_mandatory_spending=%{y}<br>risiko_keselarasan=%{z}<br>nama_pemda=%{customdata[0]}<extra></extra>",
         "legendgroup": "KOTA",
         "marker": {
          "color": "#EF553B",
          "symbol": "circle"
         },
         "mode": "markers",
         "name": "KOTA",
         "scene": "scene",
         "showlegend": true,
         "type": "scatter3d",
         "x": [
          105.64584522212692,
          97.71178460278034,
          103.37831937126687,
          102.08180844246897,
          100.1552195039487,
          106.10001086423956,
          100.34199932196626,
          0,
          100.81505284015945,
          105.09500541271153,
          101.26287542716013,
          115.38918626548384,
          102.70269413563437,
          121.24451302184858,
          122.45284669433738,
          0,
          93.49929770179173,
          101.70364531518355,
          99.70424243764903,
          100.28403742050047,
          116.5023093911602,
          108.28655798106755,
          114.10826100803683,
          117.39405683071737,
          124.78689600439101,
          115.74959059137436,
          0,
          0,
          114.13780927762858,
          112.10096769409104,
          127.18536799210463,
          104.0626675105534,
          104.90343231221576,
          101.6411376567806,
          123.36214589915768,
          118.74994000042092,
          103.31861674122,
          101.94075054196581,
          100.29243141916604,
          104.05771767251349,
          0,
          117.79378740287738,
          109.50453174252148,
          118.05131376492952,
          106.8517902290899,
          118.04627402655994,
          100.9002103044147,
          104.67129726804862,
          103.90324943684189,
          136.1996613931283,
          0,
          0,
          112.64117352153093,
          104.35983664092319,
          108.88751935996932,
          99.19476823810605,
          102.50644466082441,
          118.8487397142614,
          103.80620904685756,
          101.89095185156127,
          104.86275519917172,
          127.02716536920431,
          108.08623591184423,
          0,
          0,
          106.76355151948671,
          0,
          113.36504959904634,
          117.6575665886649,
          122.57233637065733,
          104.4612604276836,
          111.28222560336279,
          0,
          103.86478857368952,
          111.26105164842075,
          115.00786023646556,
          92.61115472962832,
          137.42904152113047,
          84.41385031935046,
          0,
          101.76485912686822,
          105.97784945029363,
          0,
          0,
          110.24099266624923,
          105.59280462890031,
          100.24257144404811,
          109.08345799854587,
          105.92063401674213,
          105.00498328662728,
          100.15981899419815,
          107.33672268540526,
          100,
          107.63808088398021,
          112.34127836316401,
          0,
          105.19611223938452
         ],
         "y": [
          6.874896124916699,
          0,
          8.975116430055254,
          5.627396337557093,
          6.37608987651012,
          24.062397238791988,
          10.189405264566968,
          0,
          8.875301080892461,
          4.921323054183365,
          10.76910413349772,
          9.063129254384867,
          8.183126540784407,
          6.795572516410038,
          7.844361023010839,
          0,
          6.585769172931185,
          9.500935796691222,
          0,
          7.998155380695325,
          8.579830788113547,
          25.4466308872261,
          5.153102919197506,
          8.70603183988936,
          6.88867596877451,
          12.22742334230685,
          0,
          0,
          22.236600933393866,
          5.863941000424587,
          7.417357016654648,
          6.750893276541703,
          8.792176589744283,
          8.622944128230213,
          6.458632144475412,
          7.923607263261649,
          10.071872870699497,
          7.246077566269675,
          12.361876916266915,
          7.185360857449414,
          0,
          7.381599596746433,
          6.0444326560264034,
          10.313082121409181,
          10.468230977181307,
          7.073452687868521,
          6.859589773038134,
          7.7858546698271205,
          6.023446825112046,
          7.011633633146113,
          0,
          0,
          6.123380780030537,
          9.655610172112553,
          6.8318028965912525,
          7.375308654999096,
          10.87966016600527,
          5.811306852251742,
          9.482864754058303,
          12.916208260308,
          5.662033335882586,
          9.141239156530613,
          6.937996738230276,
          0,
          0,
          7.184947877174805,
          0,
          2.297509838247095,
          27.980319164502582,
          9.951150897056007,
          6.499695696231993,
          6.926655884428039,
          0,
          6.89749035472804,
          6.399888824816282,
          6.25180075589936,
          33.13781005960648,
          6.060847814430444,
          0,
          0,
          6.287710645599187,
          8.43799111341604,
          0,
          0,
          9.960762454270563,
          6.950236315907461,
          6.764663136709284,
          10.452604609720286,
          7.129941514923162,
          6.825076959875524,
          7.609528168219391,
          6.852011284647474,
          5.888178953245887,
          0,
          6.569286700170489,
          0,
          0
         ],
         "z": [
          21.234391263605968,
          20.956102286502627,
          21.030143355533596,
          27.605356348986128,
          22.908844953102463,
          21.194633606335103,
          20.056729460003712,
          22.171757544965757,
          24.856674590530652,
          24.09066591641878,
          23.998670235623987,
          22.886559413180237,
          22.607183076412355,
          20.268661560084773,
          24.004844360004327,
          24.60969765497034,
          26.490531591431854,
          28.192830841478845,
          26.169228379474752,
          25.79385675062121,
          19.737028562951018,
          24.799316655223677,
          21.535469419381727,
          22.10378409454308,
          22.879481162499324,
          28.0597616279952,
          29.58643952440703,
          0,
          0,
          26.805399867134156,
          21.296936767486763,
          21.915357991873112,
          22.607956982308725,
          22.98511624535101,
          24.89164338108862,
          22.302928480921857,
          23.565757778952715,
          24.302022663557768,
          26.816185312331996,
          21.966929421887126,
          28.388366361900065,
          21.997014828161568,
          23.0409513920131,
          18.31438571153866,
          24.694352586046556,
          19.26904164851646,
          22.88522552272366,
          18.62034768208443,
          20.73940896544682,
          17.360929950478784,
          0,
          22.74653790596186,
          25.396960319936625,
          24.08468199168175,
          26.524182336529993,
          23.63806190790539,
          25.83890407871809,
          21.39769537251633,
          26.27751698191068,
          27.339005801034737,
          25.385750981826668,
          21.257013930694356,
          26.241894771999668,
          22.405195406562488,
          0.027949433192122914,
          27.342645807169358,
          0,
          23.880018262266685,
          21.72136667787546,
          21.701278312056324,
          22.27945494820071,
          20.341758177441292,
          0,
          18.87037983884768,
          25.13685837213874,
          22.079156783549138,
          24.05719606990877,
          21.384328232654752,
          19.450371249002323,
          16.663484932996884,
          22.094473309060962,
          24.608356775239677,
          0,
          0,
          20.021696605225863,
          16.096537080174052,
          28.397057575550484,
          28.42028647856671,
          22.67554856260486,
          27.134013783587065,
          25.987027478424544,
          21.2177506893359,
          25.537028200417083,
          22.069596566359415,
          23.134069277534795,
          16.404305211582766,
          22.05736618603156
         ]
        },
        {
         "customdata": [
          [
           "PROVINSI ACEH"
          ],
          [
           "PROVINSI BALI"
          ],
          [
           "PROVINSI BANGKA BELITUNG"
          ],
          [
           "PROVINSI BANTEN"
          ],
          [
           "PROVINSI BENGKULU"
          ],
          [
           "PROVINSI DI YOGYAKARTA"
          ],
          [
           "PROVINSI DKI JAKARTA"
          ],
          [
           "PROVINSI GORONTALO"
          ],
          [
           "PROVINSI JAMBI"
          ],
          [
           "PROVINSI JAWA BARAT"
          ],
          [
           "PROVINSI JAWA TENGAH"
          ],
          [
           "PROVINSI JAWA TIMUR"
          ],
          [
           "PROVINSI KALIMANTAN BARAT"
          ],
          [
           "PROVINSI KALIMANTAN SELATAN"
          ],
          [
           "PROVINSI KALIMANTAN TENGAH"
          ],
          [
           "PROVINSI KALIMANTAN TIMUR"
          ],
          [
           "PROVINSI KALIMANTAN UTARA"
          ],
          [
           "PROVINSI KEPULAUAN RIAU"
          ],
          [
           "PROVINSI LAMPUNG"
          ],
          [
           "PROVINSI MALUKU"
          ],
          [
           "PROVINSI MALUKU UTARA"
          ],
          [
           "PROVINSI NUSA TENGGARA BARAT"
          ],
          [
           "PROVINSI NUSA TENGGARA TIMUR"
          ],
          [
           "PROVINSI PAPUA"
          ],
          [
           "PROVINSI PAPUA BARAT"
          ],
          [
           "PROVINSI RIAU"
          ],
          [
           "PROVINSI SULAWESI BARAT"
          ],
          [
           "PROVINSI SULAWESI SELATAN"
          ],
          [
           "PROVINSI SULAWESI TENGAH"
          ],
          [
           "PROVINSI SULAWESI TENGGARA"
          ],
          [
           "PROVINSI SULAWESI UTARA"
          ],
          [
           "PROVINSI SUMATERA BARAT"
          ],
          [
           "PROVINSI SUMATERA SELATAN"
          ],
          [
           "PROVINSI SUMATERA UTARA"
          ]
         ],
         "hovertemplate": "jenis_pemda=PROVINSI<br>risiko_defisit=%{x}<br>risiko_mandatory_spending=%{y}<br>risiko_keselarasan=%{z}<br>nama_pemda=%{customdata[0]}<extra></extra>",
         "legendgroup": "PROVINSI",
         "marker": {
          "color": "#00cc96",
          "symbol": "circle"
         },
         "mode": "markers",
         "name": "PROVINSI",
         "scene": "scene",
         "showlegend": true,
         "type": "scatter3d",
         "x": [
          121.1014062693053,
          120.9692089257375,
          107.89239251801801,
          0,
          102.85142006746564,
          107.39543330759051,
          99.21116416698268,
          98.98573666313982,
          113.7721317176163,
          99.95191611568237,
          0,
          106.55767305971646,
          105.4049155991338,
          99.4425721000447,
          100.4725665495364,
          105.89194042757985,
          112.05004614125784,
          111.20585620869893,
          0,
          107.68874758133691,
          103.82098393669892,
          110.41844690913555,
          108.42803409404766,
          109.83443049892887,
          107.38942310370085,
          0,
          110.32170286815915,
          98.76562390812663,
          108.98117353715064,
          124.13360519709067,
          95.43843079271454,
          104.72631183668852,
          98.62560945467955,
          105.31152088129714
         ],
         "y": [
          20.151128512878095,
          18.427956325019572,
          6.975453703381799,
          0,
          7.927672571584397,
          12.514421313895134,
          21.509704634778203,
          9.437792084975213,
          6.051090897937014,
          11.050899138610625,
          0,
          8.812376216925188,
          10.600998374419094,
          24.401691344354184,
          5.428688087713385,
          5.98378239577576,
          5.628954171291638,
          6.331915129686552,
          0,
          10.579758380827267,
          10.861465372753536,
          11.981520325112687,
          11.178902100148282,
          2.514322426613802,
          4.695660860090089,
          0,
          8.358894844207661,
          7.409384545336847,
          6.890671967673308,
          9.970097829363038,
          12.338851255877149,
          7.055440106818364,
          5.875529658094269,
          9.490693460853127
         ],
         "z": [
          10.519040852825356,
          14.49649693190944,
          20.554328329873968,
          11.445239037322496,
          23.2897818205421,
          15.628438879708234,
          14.989115113638501,
          20.179097892824192,
          19.05270793562869,
          10.361136096945993,
          14.08066418184979,
          15.171215939531226,
          14.633325232254238,
          14.334827156972057,
          14.81226572279611,
          11.219525303594969,
          18.2260790060989,
          14.546458275102871,
          15.164326032939128,
          19.278623958272213,
          11.888098211876986,
          17.6375757400409,
          19.995326560933822,
          12.71721086925572,
          9.485154079283685,
          0.0751001506817123,
          17.50137203787694,
          18.088376699909677,
          18.00630083041652,
          16.342267830723703,
          20.324229858509888,
          19.173998270901407,
          14.461321885335604,
          14.8780016388453
         ]
        }
       ],
       "layout": {
        "autosize": false,
        "height": 800,
        "legend": {
         "title": {
          "text": "jenis_pemda"
         },
         "tracegroupgap": 0
        },
        "margin": {
         "b": 20,
         "l": 20,
         "r": 20,
         "t": 20
        },
        "scene": {
         "domain": {
          "x": [
           0,
           1
          ],
          "y": [
           0,
           1
          ]
         },
         "xaxis": {
          "title": {
           "text": "risiko_defisit"
          }
         },
         "yaxis": {
          "title": {
           "text": "risiko_mandatory_spending"
          }
         },
         "zaxis": {
          "title": {
           "text": "risiko_keselarasan"
          }
         }
        },
        "template": {
         "data": {
          "bar": [
           {
            "error_x": {
             "color": "#2a3f5f"
            },
            "error_y": {
             "color": "#2a3f5f"
            },
            "marker": {
             "line": {
              "color": "#E5ECF6",
              "width": 0.5
             },
             "pattern": {
              "fillmode": "overlay",
              "size": 10,
              "solidity": 0.2
             }
            },
            "type": "bar"
           }
          ],
          "barpolar": [
           {
            "marker": {
             "line": {
              "color": "#E5ECF6",
              "width": 0.5
             },
             "pattern": {
              "fillmode": "overlay",
              "size": 10,
              "solidity": 0.2
             }
            },
            "type": "barpolar"
           }
          ],
          "carpet": [
           {
            "aaxis": {
             "endlinecolor": "#2a3f5f",
             "gridcolor": "white",
             "linecolor": "white",
             "minorgridcolor": "white",
             "startlinecolor": "#2a3f5f"
            },
            "baxis": {
             "endlinecolor": "#2a3f5f",
             "gridcolor": "white",
             "linecolor": "white",
             "minorgridcolor": "white",
             "startlinecolor": "#2a3f5f"
            },
            "type": "carpet"
           }
          ],
          "choropleth": [
           {
            "colorbar": {
             "outlinewidth": 0,
             "ticks": ""
            },
            "type": "choropleth"
           }
          ],
          "contour": [
           {
            "colorbar": {
             "outlinewidth": 0,
             "ticks": ""
            },
            "colorscale": [
             [
              0,
              "#0d0887"
             ],
             [
              0.1111111111111111,
              "#46039f"
             ],
             [
              0.2222222222222222,
              "#7201a8"
             ],
             [
              0.3333333333333333,
              "#9c179e"
             ],
             [
              0.4444444444444444,
              "#bd3786"
             ],
             [
              0.5555555555555556,
              "#d8576b"
             ],
             [
              0.6666666666666666,
              "#ed7953"
             ],
             [
              0.7777777777777778,
              "#fb9f3a"
             ],
             [
              0.8888888888888888,
              "#fdca26"
             ],
             [
              1,
              "#f0f921"
             ]
            ],
            "type": "contour"
           }
          ],
          "contourcarpet": [
           {
            "colorbar": {
             "outlinewidth": 0,
             "ticks": ""
            },
            "type": "contourcarpet"
           }
          ],
          "heatmap": [
           {
            "colorbar": {
             "outlinewidth": 0,
             "ticks": ""
            },
            "colorscale": [
             [
              0,
              "#0d0887"
             ],
             [
              0.1111111111111111,
              "#46039f"
             ],
             [
              0.2222222222222222,
              "#7201a8"
             ],
             [
              0.3333333333333333,
              "#9c179e"
             ],
             [
              0.4444444444444444,
              "#bd3786"
             ],
             [
              0.5555555555555556,
              "#d8576b"
             ],
             [
              0.6666666666666666,
              "#ed7953"
             ],
             [
              0.7777777777777778,
              "#fb9f3a"
             ],
             [
              0.8888888888888888,
              "#fdca26"
             ],
             [
              1,
              "#f0f921"
             ]
            ],
            "type": "heatmap"
           }
          ],
          "heatmapgl": [
           {
            "colorbar": {
             "outlinewidth": 0,
             "ticks": ""
            },
            "colorscale": [
             [
              0,
              "#0d0887"
             ],
             [
              0.1111111111111111,
              "#46039f"
             ],
             [
              0.2222222222222222,
              "#7201a8"
             ],
             [
              0.3333333333333333,
              "#9c179e"
             ],
             [
              0.4444444444444444,
              "#bd3786"
             ],
             [
              0.5555555555555556,
              "#d8576b"
             ],
             [
              0.6666666666666666,
              "#ed7953"
             ],
             [
              0.7777777777777778,
              "#fb9f3a"
             ],
             [
              0.8888888888888888,
              "#fdca26"
             ],
             [
              1,
              "#f0f921"
             ]
            ],
            "type": "heatmapgl"
           }
          ],
          "histogram": [
           {
            "marker": {
             "pattern": {
              "fillmode": "overlay",
              "size": 10,
              "solidity": 0.2
             }
            },
            "type": "histogram"
           }
          ],
          "histogram2d": [
           {
            "colorbar": {
             "outlinewidth": 0,
             "ticks": ""
            },
            "colorscale": [
             [
              0,
              "#0d0887"
             ],
             [
              0.1111111111111111,
              "#46039f"
             ],
             [
              0.2222222222222222,
              "#7201a8"
             ],
             [
              0.3333333333333333,
              "#9c179e"
             ],
             [
              0.4444444444444444,
              "#bd3786"
             ],
             [
              0.5555555555555556,
              "#d8576b"
             ],
             [
              0.6666666666666666,
              "#ed7953"
             ],
             [
              0.7777777777777778,
              "#fb9f3a"
             ],
             [
              0.8888888888888888,
              "#fdca26"
             ],
             [
              1,
              "#f0f921"
             ]
            ],
            "type": "histogram2d"
           }
          ],
          "histogram2dcontour": [
           {
            "colorbar": {
             "outlinewidth": 0,
             "ticks": ""
            },
            "colorscale": [
             [
              0,
              "#0d0887"
             ],
             [
              0.1111111111111111,
              "#46039f"
             ],
             [
              0.2222222222222222,
              "#7201a8"
             ],
             [
              0.3333333333333333,
              "#9c179e"
             ],
             [
              0.4444444444444444,
              "#bd3786"
             ],
             [
              0.5555555555555556,
              "#d8576b"
             ],
             [
              0.6666666666666666,
              "#ed7953"
             ],
             [
              0.7777777777777778,
              "#fb9f3a"
             ],
             [
              0.8888888888888888,
              "#fdca26"
             ],
             [
              1,
              "#f0f921"
             ]
            ],
            "type": "histogram2dcontour"
           }
          ],
          "mesh3d": [
           {
            "colorbar": {
             "outlinewidth": 0,
             "ticks": ""
            },
            "type": "mesh3d"
           }
          ],
          "parcoords": [
           {
            "line": {
             "colorbar": {
              "outlinewidth": 0,
              "ticks": ""
             }
            },
            "type": "parcoords"
           }
          ],
          "pie": [
           {
            "automargin": true,
            "type": "pie"
           }
          ],
          "scatter": [
           {
            "fillpattern": {
             "fillmode": "overlay",
             "size": 10,
             "solidity": 0.2
            },
            "type": "scatter"
           }
          ],
          "scatter3d": [
           {
            "line": {
             "colorbar": {
              "outlinewidth": 0,
              "ticks": ""
             }
            },
            "marker": {
             "colorbar": {
              "outlinewidth": 0,
              "ticks": ""
             }
            },
            "type": "scatter3d"
           }
          ],
          "scattercarpet": [
           {
            "marker": {
             "colorbar": {
              "outlinewidth": 0,
              "ticks": ""
             }
            },
            "type": "scattercarpet"
           }
          ],
          "scattergeo": [
           {
            "marker": {
             "colorbar": {
              "outlinewidth": 0,
              "ticks": ""
             }
            },
            "type": "scattergeo"
           }
          ],
          "scattergl": [
           {
            "marker": {
             "colorbar": {
              "outlinewidth": 0,
              "ticks": ""
             }
            },
            "type": "scattergl"
           }
          ],
          "scattermapbox": [
           {
            "marker": {
             "colorbar": {
              "outlinewidth": 0,
              "ticks": ""
             }
            },
            "type": "scattermapbox"
           }
          ],
          "scatterpolar": [
           {
            "marker": {
             "colorbar": {
              "outlinewidth": 0,
              "ticks": ""
             }
            },
            "type": "scatterpolar"
           }
          ],
          "scatterpolargl": [
           {
            "marker": {
             "colorbar": {
              "outlinewidth": 0,
              "ticks": ""
             }
            },
            "type": "scatterpolargl"
           }
          ],
          "scatterternary": [
           {
            "marker": {
             "colorbar": {
              "outlinewidth": 0,
              "ticks": ""
             }
            },
            "type": "scatterternary"
           }
          ],
          "surface": [
           {
            "colorbar": {
             "outlinewidth": 0,
             "ticks": ""
            },
            "colorscale": [
             [
              0,
              "#0d0887"
             ],
             [
              0.1111111111111111,
              "#46039f"
             ],
             [
              0.2222222222222222,
              "#7201a8"
             ],
             [
              0.3333333333333333,
              "#9c179e"
             ],
             [
              0.4444444444444444,
              "#bd3786"
             ],
             [
              0.5555555555555556,
              "#d8576b"
             ],
             [
              0.6666666666666666,
              "#ed7953"
             ],
             [
              0.7777777777777778,
              "#fb9f3a"
             ],
             [
              0.8888888888888888,
              "#fdca26"
             ],
             [
              1,
              "#f0f921"
             ]
            ],
            "type": "surface"
           }
          ],
          "table": [
           {
            "cells": {
             "fill": {
              "color": "#EBF0F8"
             },
             "line": {
              "color": "white"
             }
            },
            "header": {
             "fill": {
              "color": "#C8D4E3"
             },
             "line": {
              "color": "white"
             }
            },
            "type": "table"
           }
          ]
         },
         "layout": {
          "annotationdefaults": {
           "arrowcolor": "#2a3f5f",
           "arrowhead": 0,
           "arrowwidth": 1
          },
          "autotypenumbers": "strict",
          "coloraxis": {
           "colorbar": {
            "outlinewidth": 0,
            "ticks": ""
           }
          },
          "colorscale": {
           "diverging": [
            [
             0,
             "#8e0152"
            ],
            [
             0.1,
             "#c51b7d"
            ],
            [
             0.2,
             "#de77ae"
            ],
            [
             0.3,
             "#f1b6da"
            ],
            [
             0.4,
             "#fde0ef"
            ],
            [
             0.5,
             "#f7f7f7"
            ],
            [
             0.6,
             "#e6f5d0"
            ],
            [
             0.7,
             "#b8e186"
            ],
            [
             0.8,
             "#7fbc41"
            ],
            [
             0.9,
             "#4d9221"
            ],
            [
             1,
             "#276419"
            ]
           ],
           "sequential": [
            [
             0,
             "#0d0887"
            ],
            [
             0.1111111111111111,
             "#46039f"
            ],
            [
             0.2222222222222222,
             "#7201a8"
            ],
            [
             0.3333333333333333,
             "#9c179e"
            ],
            [
             0.4444444444444444,
             "#bd3786"
            ],
            [
             0.5555555555555556,
             "#d8576b"
            ],
            [
             0.6666666666666666,
             "#ed7953"
            ],
            [
             0.7777777777777778,
             "#fb9f3a"
            ],
            [
             0.8888888888888888,
             "#fdca26"
            ],
            [
             1,
             "#f0f921"
            ]
           ],
           "sequentialminus": [
            [
             0,
             "#0d0887"
            ],
            [
             0.1111111111111111,
             "#46039f"
            ],
            [
             0.2222222222222222,
             "#7201a8"
            ],
            [
             0.3333333333333333,
             "#9c179e"
            ],
            [
             0.4444444444444444,
             "#bd3786"
            ],
            [
             0.5555555555555556,
             "#d8576b"
            ],
            [
             0.6666666666666666,
             "#ed7953"
            ],
            [
             0.7777777777777778,
             "#fb9f3a"
            ],
            [
             0.8888888888888888,
             "#fdca26"
            ],
            [
             1,
             "#f0f921"
            ]
           ]
          },
          "colorway": [
           "#636efa",
           "#EF553B",
           "#00cc96",
           "#ab63fa",
           "#FFA15A",
           "#19d3f3",
           "#FF6692",
           "#B6E880",
           "#FF97FF",
           "#FECB52"
          ],
          "font": {
           "color": "#2a3f5f"
          },
          "geo": {
           "bgcolor": "white",
           "lakecolor": "white",
           "landcolor": "#E5ECF6",
           "showlakes": true,
           "showland": true,
           "subunitcolor": "white"
          },
          "hoverlabel": {
           "align": "left"
          },
          "hovermode": "closest",
          "mapbox": {
           "style": "light"
          },
          "paper_bgcolor": "white",
          "plot_bgcolor": "#E5ECF6",
          "polar": {
           "angularaxis": {
            "gridcolor": "white",
            "linecolor": "white",
            "ticks": ""
           },
           "bgcolor": "#E5ECF6",
           "radialaxis": {
            "gridcolor": "white",
            "linecolor": "white",
            "ticks": ""
           }
          },
          "scene": {
           "xaxis": {
            "backgroundcolor": "#E5ECF6",
            "gridcolor": "white",
            "gridwidth": 2,
            "linecolor": "white",
            "showbackground": true,
            "ticks": "",
            "zerolinecolor": "white"
           },
           "yaxis": {
            "backgroundcolor": "#E5ECF6",
            "gridcolor": "white",
            "gridwidth": 2,
            "linecolor": "white",
            "showbackground": true,
            "ticks": "",
            "zerolinecolor": "white"
           },
           "zaxis": {
            "backgroundcolor": "#E5ECF6",
            "gridcolor": "white",
            "gridwidth": 2,
            "linecolor": "white",
            "showbackground": true,
            "ticks": "",
            "zerolinecolor": "white"
           }
          },
          "shapedefaults": {
           "line": {
            "color": "#2a3f5f"
           }
          },
          "ternary": {
           "aaxis": {
            "gridcolor": "white",
            "linecolor": "white",
            "ticks": ""
           },
           "baxis": {
            "gridcolor": "white",
            "linecolor": "white",
            "ticks": ""
           },
           "bgcolor": "#E5ECF6",
           "caxis": {
            "gridcolor": "white",
            "linecolor": "white",
            "ticks": ""
           }
          },
          "title": {
           "x": 0.05
          },
          "xaxis": {
           "automargin": true,
           "gridcolor": "white",
           "linecolor": "white",
           "ticks": "",
           "title": {
            "standoff": 15
           },
           "zerolinecolor": "white",
           "zerolinewidth": 2
          },
          "yaxis": {
           "automargin": true,
           "gridcolor": "white",
           "linecolor": "white",
           "ticks": "",
           "title": {
            "standoff": 15
           },
           "zerolinecolor": "white",
           "zerolinewidth": 2
          }
         }
        },
        "width": 1600
       }
      },
      "text/html": [
       "<div>                            <div id=\"54e9eadb-da74-4b12-96a9-1e0b2040cfb3\" class=\"plotly-graph-div\" style=\"height:800px; width:1600px;\"></div>            <script type=\"text/javascript\">                require([\"plotly\"], function(Plotly) {                    window.PLOTLYENV=window.PLOTLYENV || {};                                    if (document.getElementById(\"54e9eadb-da74-4b12-96a9-1e0b2040cfb3\")) {                    Plotly.newPlot(                        \"54e9eadb-da74-4b12-96a9-1e0b2040cfb3\",                        [{\"customdata\":[[\"KAB KONAWE KEPULAUAN\"],[\"KAB MOROWALI UTARA\"],[\"KAB MUSI RAWAS UTARA\"],[\"KAB. ACEH BARAT\"],[\"KAB. ACEH BARAT DAYA\"],[\"KAB. ACEH BESAR\"],[\"KAB. ACEH JAYA\"],[\"KAB. ACEH SELATAN\"],[\"KAB. ACEH SINGKIL\"],[\"KAB. ACEH TAMIANG\"],[\"KAB. ACEH TENGAH\"],[\"KAB. ACEH TENGGARA\"],[\"KAB. ACEH TIMUR\"],[\"KAB. ACEH UTARA\"],[\"KAB. AGAM\"],[\"KAB. ALOR\"],[\"KAB. ASAHAN\"],[\"KAB. ASMAT\"],[\"KAB. BADUNG\"],[\"KAB. BALANGAN\"],[\"KAB. BANDUNG\"],[\"KAB. BANDUNG BARAT\"],[\"KAB. BANGGAI\"],[\"KAB. BANGGAI KEPULAUAN\"],[\"KAB. BANGGAI LAUT\"],[\"KAB. BANGKA\"],[\"KAB. BANGKA BARAT\"],[\"KAB. BANGKA SELATAN\"],[\"KAB. BANGKA TENGAH\"],[\"KAB. BANGKALAN\"],[\"KAB. BANGLI\"],[\"KAB. BANJAR\"],[\"KAB. BANJARNEGARA\"],[\"KAB. BANTAENG\"],[\"KAB. BANTUL\"],[\"KAB. BANYUASIN\"],[\"KAB. BANYUMAS\"],[\"KAB. BANYUWANGI\"],[\"KAB. BARITO KUALA\"],[\"KAB. BARITO SELATAN\"],[\"KAB. BARITO TIMUR\"],[\"KAB. BARITO UTARA\"],[\"KAB. BARRU\"],[\"KAB. BATANG\"],[\"KAB. BATANGHARI\"],[\"KAB. BATU BARA\"],[\"KAB. BEKASI\"],[\"KAB. BELITUNG\"],[\"KAB. BELITUNG TIMUR\"],[\"KAB. BELU\"],[\"KAB. BENER MERIAH\"],[\"KAB. BENGKALIS\"],[\"KAB. BENGKAYANG\"],[\"KAB. BENGKULU SELATAN\"],[\"KAB. BENGKULU TENGAH\"],[\"KAB. BENGKULU UTARA\"],[\"KAB. BERAU\"],[\"KAB. BIAK NUMFOR\"],[\"KAB. BIMA\"],[\"KAB. BINTAN\"],[\"KAB. BIREUEN\"],[\"KAB. BLITAR\"],[\"KAB. BLORA\"],[\"KAB. BOALEMO\"],[\"KAB. BOGOR\"],[\"KAB. BOJONEGORO\"],[\"KAB. BOLAANG MONGONDOW\"],[\"KAB. BOLAANG MONGONDOW SELATAN\"],[\"KAB. BOLAANG MONGONDOW TIMUR\"],[\"KAB. BOLAANG MONGONDOW UTARA\"],[\"KAB. BOMBANA\"],[\"KAB. BONDOWOSO\"],[\"KAB. BONE\"],[\"KAB. BONE BOLANGO\"],[\"KAB. BOVEN DIGOEL\"],[\"KAB. BOYOLALI\"],[\"KAB. BREBES\"],[\"KAB. BULELENG\"],[\"KAB. BULUKUMBA\"],[\"KAB. BULUNGAN\"],[\"KAB. BUNGO\"],[\"KAB. BUOL\"],[\"KAB. BURU\"],[\"KAB. BURU SELATAN\"],[\"KAB. BUTON\"],[\"KAB. BUTON SELATAN\"],[\"KAB. BUTON TENGAH\"],[\"KAB. BUTON UTARA\"],[\"KAB. CIAMIS\"],[\"KAB. CIANJUR\"],[\"KAB. CILACAP\"],[\"KAB. CIREBON\"],[\"KAB. DAIRI\"],[\"KAB. DEIYAI\"],[\"KAB. DELI SERDANG\"],[\"KAB. DEMAK\"],[\"KAB. DHARMASRAYA\"],[\"KAB. DOGIYAI\"],[\"KAB. DOMPU\"],[\"KAB. DONGGALA\"],[\"KAB. EMPAT LAWANG\"],[\"KAB. ENDE\"],[\"KAB. ENREKANG\"],[\"KAB. FAK FAK\"],[\"KAB. FLORES TIMUR\"],[\"KAB. GARUT\"],[\"KAB. GAYO LUES\"],[\"KAB. GIANYAR\"],[\"KAB. GORONTALO\"],[\"KAB. GORONTALO UTARA\"],[\"KAB. GOWA\"],[\"KAB. GRESIK\"],[\"KAB. GROBOGAN\"],[\"KAB. GUNUNG KIDUL\"],[\"KAB. GUNUNG MAS\"],[\"KAB. HALMAHERA BARAT\"],[\"KAB. HALMAHERA SELATAN\"],[\"KAB. HALMAHERA TENGAH\"],[\"KAB. HALMAHERA TIMUR\"],[\"KAB. HALMAHERA UTARA\"],[\"KAB. HULU SUNGAI SELATAN\"],[\"KAB. HULU SUNGAI TENGAH\"],[\"KAB. HULU SUNGAI UTARA\"],[\"KAB. HUMBANG HASUNDUTAN\"],[\"KAB. INDRAGIRI HILIR\"],[\"KAB. INDRAGIRI HULU\"],[\"KAB. INDRAMAYU\"],[\"KAB. INTAN JAYA\"],[\"KAB. JAYAPURA\"],[\"KAB. JAYAWIJAYA\"],[\"KAB. JEMBER\"],[\"KAB. JEMBRANA\"],[\"KAB. JENEPONTO\"],[\"KAB. JEPARA\"],[\"KAB. JOMBANG\"],[\"KAB. KAIMANA\"],[\"KAB. KAMPAR\"],[\"KAB. KAPUAS\"],[\"KAB. KAPUAS HULU\"],[\"KAB. KARANGANYAR\"],[\"KAB. KARANGASEM\"],[\"KAB. KARAWANG\"],[\"KAB. KARIMUN\"],[\"KAB. KARO\"],[\"KAB. KATINGAN\"],[\"KAB. KAUR\"],[\"KAB. KAYONG UTARA\"],[\"KAB. KEBUMEN\"],[\"KAB. KEDIRI\"],[\"KAB. KEEROM\"],[\"KAB. KENDAL\"],[\"KAB. KEP. SIAU TAGULANDANG BIARO\"],[\"KAB. KEPAHIANG\"],[\"KAB. KEPULAUAN ANAMBAS\"],[\"KAB. KEPULAUAN ARU\"],[\"KAB. KEPULAUAN MENTAWAI\"],[\"KAB. KEPULAUAN MERANTI\"],[\"KAB. KEPULAUAN SELAYAR\"],[\"KAB. KEPULAUAN SULA\"],[\"KAB. KEPULAUAN TALAUD\"],[\"KAB. KEPULAUAN TANIMBAR\"],[\"KAB. KEPULAUAN YAPEN\"],[\"KAB. KERINCI\"],[\"KAB. KETAPANG\"],[\"KAB. KLATEN\"],[\"KAB. KLUNGKUNG\"],[\"KAB. KOLAKA\"],[\"KAB. KOLAKA TIMUR\"],[\"KAB. KOLAKA UTARA\"],[\"KAB. KONAWE\"],[\"KAB. KONAWE SELATAN\"],[\"KAB. KONAWE UTARA\"],[\"KAB. KUANTAN SINGINGI\"],[\"KAB. KUBU RAYA\"],[\"KAB. KUDUS\"],[\"KAB. KULON PROGO\"],[\"KAB. KUNINGAN\"],[\"KAB. KUPANG\"],[\"KAB. KUTAI BARAT\"],[\"KAB. KUTAI KARTANEGARA\"],[\"KAB. KUTAI TIMUR\"],[\"KAB. LABUHANBATU\"],[\"KAB. LABUHANBATU SELATAN\"],[\"KAB. LABUHANBATU UTARA\"],[\"KAB. LAHAT\"],[\"KAB. LAMANDAU\"],[\"KAB. LAMONGAN\"],[\"KAB. LAMPUNG BARAT\"],[\"KAB. LAMPUNG SELATAN\"],[\"KAB. LAMPUNG TENGAH\"],[\"KAB. LAMPUNG TIMUR\"],[\"KAB. LAMPUNG UTARA\"],[\"KAB. LANDAK\"],[\"KAB. LANGKAT\"],[\"KAB. LANNY JAYA\"],[\"KAB. LEBAK\"],[\"KAB. LEBONG\"],[\"KAB. LEMBATA\"],[\"KAB. LINGGA\"],[\"KAB. LOMBOK BARAT\"],[\"KAB. LOMBOK TENGAH\"],[\"KAB. LOMBOK TIMUR\"],[\"KAB. LOMBOK UTARA\"],[\"KAB. LUMAJANG\"],[\"KAB. LUWU\"],[\"KAB. LUWU TIMUR\"],[\"KAB. LUWU UTARA\"],[\"KAB. MADIUN\"],[\"KAB. MAGELANG\"],[\"KAB. MAGETAN\"],[\"KAB. MAHAKAM ULU\"],[\"KAB. MAJALENGKA\"],[\"KAB. MAJENE\"],[\"KAB. MALAKA\"],[\"KAB. MALANG\"],[\"KAB. MALINAU\"],[\"KAB. MALUKU BARAT DAYA\"],[\"KAB. MALUKU TENGAH\"],[\"KAB. MALUKU TENGGARA\"],[\"KAB. MAMASA\"],[\"KAB. MAMBERAMO RAYA\"],[\"KAB. MAMBERAMO TENGAH\"],[\"KAB. MAMUJU\"],[\"KAB. MAMUJU TENGAH\"],[\"KAB. MAMUJU UTARA\"],[\"KAB. MANDAILING NATAL\"],[\"KAB. MANGGARAI\"],[\"KAB. MANGGARAI BARAT\"],[\"KAB. MANGGARAI TIMUR\"],[\"KAB. MANOKWARI\"],[\"KAB. MANOKWARI SELATAN\"],[\"KAB. MAPPI\"],[\"KAB. MAROS\"],[\"KAB. MAYBRAT\"],[\"KAB. MELAWI\"],[\"KAB. MEMPAWAH\"],[\"KAB. MERANGIN\"],[\"KAB. MERAUKE\"],[\"KAB. MESUJI\"],[\"KAB. MIMIKA\"],[\"KAB. MINAHASA\"],[\"KAB. MINAHASA SELATAN\"],[\"KAB. MINAHASA TENGGARA\"],[\"KAB. MINAHASA UTARA\"],[\"KAB. MOJOKERTO\"],[\"KAB. MOROWALI\"],[\"KAB. MUARA ENIM\"],[\"KAB. MUARO JAMBI\"],[\"KAB. MUKOMUKO\"],[\"KAB. MUNA\"],[\"KAB. MUNA BARAT\"],[\"KAB. MURUNG RAYA\"],[\"KAB. MUSI BANYUASIN\"],[\"KAB. MUSI RAWAS\"],[\"KAB. NABIRE\"],[\"KAB. NAGAN RAYA\"],[\"KAB. NAGEKEO\"],[\"KAB. NATUNA\"],[\"KAB. NDUGA\"],[\"KAB. NGADA\"],[\"KAB. NGANJUK\"],[\"KAB. NGAWI\"],[\"KAB. NIAS\"],[\"KAB. NIAS BARAT\"],[\"KAB. NIAS SELATAN\"],[\"KAB. NIAS UTARA\"],[\"KAB. NUNUKAN\"],[\"KAB. OGAN ILIR\"],[\"KAB. OGAN KOMERING ILIR\"],[\"KAB. OGAN KOMERING ULU\"],[\"KAB. OKU SELATAN\"],[\"KAB. OKU TIMUR\"],[\"KAB. PACITAN\"],[\"KAB. PADANG LAWAS\"],[\"KAB. PADANG LAWAS UTARA\"],[\"KAB. PADANG PARIAMAN\"],[\"KAB. PAKPAK BHARAT\"],[\"KAB. PAMEKASAN\"],[\"KAB. PANDEGLANG\"],[\"KAB. PANGANDARAN\"],[\"KAB. PANGKAJENE KEPULAUAN\"],[\"KAB. PANIAI\"],[\"KAB. PARIGI MOUTONG\"],[\"KAB. PASAMAN\"],[\"KAB. PASAMAN BARAT\"],[\"KAB. PASER\"],[\"KAB. PASURUAN\"],[\"KAB. PATI\"],[\"KAB. PEGUNUNGAN ARFAK\"],[\"KAB. PEGUNUNGAN BINTANG\"],[\"KAB. PEKALONGAN\"],[\"KAB. PELALAWAN\"],[\"KAB. PEMALANG\"],[\"KAB. PENAJAM PASER UTARA\"],[\"KAB. PENUKAL ABAB LEMATANG ILIR\"],[\"KAB. PESAWARAN\"],[\"KAB. PESISIR BARAT\"],[\"KAB. PESISIR SELATAN\"],[\"KAB. PIDIE\"],[\"KAB. PIDIE JAYA\"],[\"KAB. PINRANG\"],[\"KAB. POHUWATO\"],[\"KAB. POLEWALI MANDAR\"],[\"KAB. PONOROGO\"],[\"KAB. POSO\"],[\"KAB. PRINGSEWU\"],[\"KAB. PROBOLINGGO\"],[\"KAB. PULANG PISAU\"],[\"KAB. PULAU MOROTAI\"],[\"KAB. PULAU TALIABU\"],[\"KAB. PUNCAK\"],[\"KAB. PUNCAK JAYA\"],[\"KAB. PURBALINGGA\"],[\"KAB. PURWAKARTA\"],[\"KAB. PURWOREJO\"],[\"KAB. RAJA AMPAT\"],[\"KAB. REJANG LEBONG\"],[\"KAB. REMBANG\"],[\"KAB. ROKAN HILIR\"],[\"KAB. ROKAN HULU\"],[\"KAB. ROTE NDAO\"],[\"KAB. SABU RAIJUA\"],[\"KAB. SAMBAS\"],[\"KAB. SAMOSIR\"],[\"KAB. SAMPANG\"],[\"KAB. SANGGAU\"],[\"KAB. SANGIHE\"],[\"KAB. SARMI\"],[\"KAB. SAROLANGUN\"],[\"KAB. SEKADAU\"],[\"KAB. SELUMA\"],[\"KAB. SEMARANG\"],[\"KAB. SERAM BAGIAN BARAT\"],[\"KAB. SERAM BAGIAN TIMUR\"],[\"KAB. SERANG\"],[\"KAB. SERDANG BEDAGAI\"],[\"KAB. SERUYAN\"],[\"KAB. SIAK\"],[\"KAB. SIDENRENG RAPPANG\"],[\"KAB. SIDOARJO\"],[\"KAB. SIGI\"],[\"KAB. SIJUNJUNG\"],[\"KAB. SIKKA\"],[\"KAB. SIMALUNGUN\"],[\"KAB. SIMEULUE\"],[\"KAB. SINJAI\"],[\"KAB. SINTANG\"],[\"KAB. SITUBONDO\"],[\"KAB. SLEMAN\"],[\"KAB. SOLOK\"],[\"KAB. SOLOK SELATAN\"],[\"KAB. SOPPENG\"],[\"KAB. SORONG\"],[\"KAB. SORONG SELATAN\"],[\"KAB. SRAGEN\"],[\"KAB. SUBANG\"],[\"KAB. SUKABUMI\"],[\"KAB. SUKAMARA\"],[\"KAB. SUKOHARJO\"],[\"KAB. SUMBA BARAT\"],[\"KAB. SUMBA BARAT DAYA\"],[\"KAB. SUMBA TENGAH\"],[\"KAB. SUMBA TIMUR\"],[\"KAB. SUMBAWA\"],[\"KAB. SUMBAWA BARAT\"],[\"KAB. SUMEDANG\"],[\"KAB. SUMENEP\"],[\"KAB. SUPIORI\"],[\"KAB. TABALONG\"],[\"KAB. TABANAN\"],[\"KAB. TAKALAR\"],[\"KAB. TAMBRAUW\"],[\"KAB. TANA TIDUNG\"],[\"KAB. TANA TORAJA\"],[\"KAB. TANAH BUMBU\"],[\"KAB. TANAH DATAR\"],[\"KAB. TANAH LAUT\"],[\"KAB. TANGERANG\"],[\"KAB. TANGGAMUS\"],[\"KAB. TANJUNG JABUNG BARAT\"],[\"KAB. TANJUNG JABUNG TIMUR\"],[\"KAB. TAPANULI SELATAN\"],[\"KAB. TAPANULI TENGAH\"],[\"KAB. TAPANULI UTARA\"],[\"KAB. TAPIN\"],[\"KAB. TASIKMALAYA\"],[\"KAB. TEBO\"],[\"KAB. TEGAL\"],[\"KAB. TELUK BINTUNI\"],[\"KAB. TELUK WONDAMA\"],[\"KAB. TEMANGGUNG\"],[\"KAB. TIMOR TENGAH SELATAN\"],[\"KAB. TIMOR TENGAH UTARA\"],[\"KAB. TOBA SAMOSIR\"],[\"KAB. TOJO UNA UNA\"],[\"KAB. TOLI-TOLI\"],[\"KAB. TOLIKARA\"],[\"KAB. TORAJA UTARA\"],[\"KAB. TRENGGALEK\"],[\"KAB. TUBAN\"],[\"KAB. TULANG BAWANG\"],[\"KAB. TULANG BAWANG BARAT\"],[\"KAB. TULUNGAGUNG\"],[\"KAB. WAJO\"],[\"KAB. WAKATOBI\"],[\"KAB. WAY KANAN\"],[\"KAB. WONOGIRI\"],[\"KAB. WONOSOBO\"],[\"KAB. YAHUKIMO\"],[\"KAB. YALIMO\"]],\"hovertemplate\":\"jenis_pemda=KABUPATEN<br>risiko_defisit=%{x}<br>risiko_mandatory_spending=%{y}<br>risiko_keselarasan=%{z}<br>nama_pemda=%{customdata[0]}<extra></extra>\",\"legendgroup\":\"KABUPATEN\",\"marker\":{\"color\":\"#636efa\",\"symbol\":\"circle\"},\"mode\":\"markers\",\"name\":\"KABUPATEN\",\"scene\":\"scene\",\"showlegend\":true,\"x\":[100.19276806005341,101.55807133429802,103.45182558062953,104.10204361159774,111.28455608682613,105.46606290884901,102.55488785234176,101.38442244900105,100.56222298510691,100.57510825393076,104.55948152702457,104.12045652952129,100.0,100.86013820077689,106.41601109370656,99.62473416153227,100.92049733961261,100.0,108.81325717229105,112.26150159611133,109.1138818060321,107.34984113041928,102.58653238169764,105.11451745425045,99.50143621096376,111.5968212244668,114.90618653539669,104.84772250095187,106.29204964267782,107.79709193138555,0.0,114.6008479512307,103.92985425358926,99.86378632979505,104.88167763349472,94.35839275923853,0.0,100.5351219770247,101.83045081104956,0.0,104.3704441379148,103.95541839084848,100.81834365859301,103.38986957770344,0.0,112.43978102037266,115.41516937714236,112.58573536548744,111.42342947288692,103.24204006812458,100.79550637229629,114.97809783430985,124.93619480398212,104.0995466656488,103.12503864167357,102.12490693857123,100.0,102.32636343050679,101.67121275676988,103.50045639938692,100.63819670910472,102.9910144787745,110.04953147512228,100.08788341689238,108.10399787753397,143.3811494037246,102.70434943559594,100.92950466188017,101.99210531618601,101.94048849301387,103.39962426088887,102.3877571676348,116.78011799029247,99.9968556347622,0.0,0.0,0.0,102.3680429314493,107.80299683564571,101.59020154354246,100.41152423682738,100.96295672658617,99.31363051871607,102.45629296878411,98.63975506342723,97.44590974960005,107.24397840116583,130.30814680371014,0.0,100.89048894358874,0.0,102.98114978835578,103.29756130381276,92.76480910597168,100.64246931306936,104.44195543058055,106.7427333273699,0.0,102.51755995025238,99.67339375981422,99.80184327714245,110.51237347917765,93.44456400536497,107.16756125848687,99.6474483757067,104.39418286385921,99.75467894629631,106.67676570584517,108.53228697739343,128.53204342347874,111.50149062398427,107.07577663522953,105.22744471083494,104.2360798268519,108.14438312612768,123.74027055227408,97.08039687636646,115.18962775810384,104.40005182022878,104.69936971610376,113.25136879811284,115.38238947237072,131.3303379487718,102.84260483960783,111.91205390123467,109.35372096147273,102.0976147741515,99.90300599720791,106.88619305450813,105.24073280901783,115.38758264589055,103.55447230194707,100.08263196200488,106.8665424288412,105.72797037628467,110.14420841150712,102.3325145287019,112.96655286968517,101.27642532792571,100.8297633592589,103.0756777744392,103.87045324602244,102.92674170381824,100.74716821038156,114.07992339684962,0.0,102.7598457738959,103.55760320261302,114.95958346359876,97.6025876979433,0.0,103.26157302637102,108.51603444669638,103.24025244869108,100.42214171814237,0.0,120.97696189617069,107.36722065905744,103.38702581818413,110.24652386045055,109.32531878816339,118.6685580379508,101.41147371871972,104.43557198984672,0.0,124.7099780240703,100.32836825233191,108.4259825854596,103.06427127299295,97.8255199734939,118.5800255124994,130.19442251158583,101.68684824131171,108.17884046334045,0.0,100.50632550240253,99.18060488528741,105.76249287605945,99.6992065280968,110.49537107924334,99.83076317467913,101.61352704540118,104.3141775603343,101.38702071271366,104.66320992960824,114.45004169693817,104.73293217907451,107.4871508365703,102.66559367345354,104.6772324516166,106.92740008160911,106.9032792000423,103.38664601505891,99.84251687272206,101.28199775097922,102.2582956230693,100.71629848360486,128.30848589900526,101.71856845044354,97.81588828374139,108.08081650612536,110.29979003867565,99.62052090071498,106.50537946218716,100.72970726023169,102.99788077779802,113.25749681256849,104.14762270302649,105.50918694121043,104.65685796611413,100.0,0.0,100.17555288939441,102.78494084484964,107.8431634698735,108.63712432312589,126.34133757115048,101.99724623816833,109.51301443852306,123.41350025099848,98.76743638808712,109.63025155293798,101.89257361902754,99.73023868084462,102.38811422862632,100.87085795673913,123.22917508005035,115.39378162069376,111.99547034428734,101.60430042663839,87.76757300898484,0.0,100.89123780183348,100.67972058974475,0.0,105.75990901644722,98.22231899263605,99.66734411159494,107.93177164571908,107.05627666533913,105.07558409471312,99.83641319984856,98.52550963659242,100.20128623490156,104.2012422070843,100.57660520207263,103.21123590248204,103.34907737758824,102.48514186002431,116.98887594662486,133.82711713929143,104.5948384928899,92.68969049716559,100.59158074700636,96.58305545547722,101.47627464710052,104.70977012627371,101.61970789893257,96.26436008498017,118.49504821045949,111.7984486394443,107.75997464723015,103.30849121577856,104.57001205258835,102.91790099147038,117.02412454480178,102.92982199847278,99.90109087173818,106.5691096242085,105.81742328188078,108.25504261910261,98.53254310858412,100.94616907175198,103.33580613800196,119.08133973009434,104.10042778450257,103.70711616992413,120.8234882842711,100.668319650789,100.47019460236417,100.65770033737267,107.5748137754639,101.24942513851582,104.54823358992601,0.0,149.23315959966266,107.68128320023489,103.36363320888292,99.88509811702612,100.0,100.20312038458931,124.48667837359775,101.61315421321788,94.79072544840685,127.46183367394246,112.11452513605711,99.55183464205713,101.88531571096908,104.50015547354647,99.88596188119533,103.77720858812592,110.98672737558508,100.0,109.56394378772605,100.0,103.35834315488206,105.4361696303079,104.06105705109012,0.0,156.32925447040847,0.0,101.05692337401204,102.84673705536058,0.0,0.0,99.92592592592592,99.74679979804384,117.52911028604136,112.9013242402024,100.8889676774468,101.5959292435834,107.50551179411325,98.98929681045477,102.47378769364744,113.85802849818158,109.0945884456838,107.11831326606394,99.51234331256785,103.63253713073952,106.2847799700757,104.09955009607359,104.8990062741179,107.60070655985159,100.0,104.90839054455647,99.092330456165,0.0,109.34752082819605,101.87420816566797,121.0207587458807,105.4428465032944,107.3631163613007,115.45283999442269,99.77958640098782,101.77672289755503,102.53010542165659,100.7074535515381,120.59079101665387,104.95002859991101,103.61918396972402,110.44560026184665,106.76076909004529,101.71408287450015,109.29919730504145,110.65809218197442,102.9836063689813,99.32525383533395,107.67438144311525,0.0,99.189104996078,108.64581127760819,102.93753447657248,0.0,101.32114232872762,104.11875018525186,99.55543652685385,112.55795135388375,101.71471029745283,112.68402848676935,103.3743036783235,120.6701358276059,92.51679696616546,104.87039512575396,0.0,108.14716956113438,104.41940130405347,109.43716269682908,0.0,104.01466295758442,0.0,106.41015899750796,108.23458827871377,97.50465983792068,105.35875630903232,152.91037156478097,102.92763286615025,99.69477737097449,106.6206847940589,100.0,102.0916959315744,105.49388277795167,99.99999999997038,104.60786214047249,105.13331460669579,103.88988737453239,100.0,0.0,100.19105831975664,112.96418163382731,106.17396299559626,103.03393418067488,0.0,106.30304793036925,98.00444197430139,105.52691176071119,100.18545357923598,104.34181731881387,103.23284762910374,101.19116239413839,100.0],\"y\":[10.126855673501073,0.0,0.0,6.075783969025052,6.857150148972158,7.285982054539282,9.982984533252555,7.39938191105681,8.966343429806482,6.45392706419665,5.7014759778666475,6.825985618516776,6.400314110013072,6.781156452325442,7.099435253117709,12.441639346527078,7.101875800929744,10.205699523880845,12.540824525064721,6.215074977815383,5.020623442123187,9.790162635997886,7.4659798555147265,6.07286377650684,4.677691386879207,7.95512498289836,9.02876370122866,0.0,9.364691571401352,7.631334278259901,0.0,5.24028618348532,7.4599646886578235,8.611705670286025,10.18689002987525,8.444293838036865,0.0,8.805801385694679,7.948431902446828,0.0,5.643252616038599,9.189792324125015,9.899489001851517,9.227471733125977,0.0,7.410423384527604,11.502266953035866,7.8483397916238555,8.02617377330238,11.345093504295956,6.026704477450004,7.412786076453019,8.174582255908742,5.151971827181339,6.918052914354655,6.7937431408426345,8.632625992100643,10.967114380107269,7.817760742689177,7.36177769165811,6.256759561715665,6.482248815679656,6.476423143070962,0.0,26.23378671613365,6.231245560541442,8.21351976561958,0.0,12.028252995143973,12.833063355700638,8.250497623004701,7.560825686762833,7.621904369326153,7.806753128571279,0.0,0.0,0.0,10.148098819066433,6.652096009239511,12.803902629663094,8.42079644158108,7.870560517610429,7.8457417926966135,5.60434156092002,8.197804871781596,9.025372189159647,9.89193598465829,5.912469448115662,0.0,16.481256520361065,0.0,32.03454926014881,8.197042665845462,8.929444508037648,9.412440822039713,8.14982405584171,8.39509647824159,0.0,7.111596426422883,8.097731856176464,10.348317940034043,11.06902444113092,10.238188754769531,0.0,0.0,8.410682672023862,9.229594850753394,8.659626262558291,5.496991307025799,10.337940695550213,9.410873556760016,8.886831436578136,7.491945396056545,29.41161305626639,8.43195245523066,0.0,9.83212386027314,7.956721709381251,0.0,0.0,11.1075858967855,10.872070191434378,10.588953547330386,7.603754817176462,5.043831962684566,5.882396471979185,7.51577294360077,5.149569535987528,6.975232059646429,10.70399771008994,8.061645396436797,8.825290536124026,9.145899081373823,11.281671838839728,14.40755136265507,5.780514919280527,9.299728259400641,6.2115570048813336,6.741241398302689,6.541262779629236,8.611946255537347,8.535546210718975,5.905166978251248,5.81836951514661,7.551030119068411,0.0,9.773773934725927,5.77185041343535,6.733511495466988,6.621553674920713,0.0,0.0,6.297838850487205,5.696922107586014,8.312413278427265,0.0,5.370400615960687,0.0,8.527964967569151,14.877352893170643,7.400569537104218,7.655240244235719,5.866162961102453,8.405666294740819,0.0,8.924607592404051,11.076578773664407,8.598038923287923,7.140847021682822,6.2435674014558415,16.987775282073695,4.875114523973794,6.958397805486925,8.640322751967599,0.0,8.92182612831968,11.449648964298156,9.84182576999012,6.156179090005974,5.3269766708071,6.860873195213646,6.810700161157821,10.296019802222494,0.0,0.0,8.559553601069208,8.205560975927897,9.31717145105592,7.695047167780256,9.456193578379889,6.637852552351372,6.2412925088014735,10.805801407670785,2.452685977071734,10.278061599901584,7.46480615527779,5.827014602713174,6.3927796443642535,8.29131797712273,10.727497588885115,8.447708350674137,0.0,7.623093491162644,8.777014689868729,9.449492603324034,10.830184057215526,7.602114499914576,6.90231346835565,7.113055848821144,6.526634109850177,7.045185013899099,0.0,9.933510110567306,10.48358391070631,7.820287885658293,7.528760689359411,7.217030803156755,7.907216173091602,5.84414271428278,8.347267145454165,0.0,0.0,10.252155020792664,0.0,11.035475806759301,7.401692667954848,11.793629800050763,0.0,11.13282858895252,0.0,4.430808157319429,0.0,8.383935184560478,0.0,0.0,12.400517627060736,7.259372777602715,7.19776155514906,11.025640211608746,5.532809440321926,9.458058306956044,6.098892390309103,7.301935782488989,9.324017543109537,6.421535162748842,0.0,8.862939939330104,5.73396214112333,7.867724689455317,8.60679916396226,11.61535888722531,7.2832043111654965,6.2980399467809836,6.821640789653996,9.000153159279336,5.924018288794362,7.588066082636869,19.073877891536554,9.531556878154664,10.76316690929423,6.1364536473045925,6.676172190572213,10.370665729032664,12.313084337120815,10.493211846540806,10.604381352889536,5.858434942539338,6.932368881935163,7.044317546084709,5.880582803485433,0.0,7.403853382525618,7.759324473533281,6.630833939004751,0.0,7.236559238176728,20.829642682004575,6.86191014388562,7.181135567850173,11.379166198586127,11.55571163787325,9.45521790451435,0.0,8.677961644502968,0.0,6.758461605471306,8.983123580737004,8.159780457915987,7.396023286164931,7.941412008764234,7.401025882314676,4.62025523062139,10.307326834178848,6.760033041051915,6.722074368895548,6.83335355436376,5.5527734897623215,28.674423220936198,5.094170929828065,6.663200659527395,10.152909447904099,0.0,13.411138124322866,5.985736653346168,0.0,9.327318017129334,6.028229208687342,6.634206422451689,0.0,5.731545337905284,0.0,0.0,8.261714620291057,0.0,0.0,7.543058519236471,8.244791485120523,0.0,21.111160016590084,1.7302437245465945,9.561500603997457,7.452469050646629,24.728885825548993,5.697807861065912,9.521914034716561,8.071873309105289,8.70116892783189,9.781480672945605,7.4775483011411765,24.31873041351094,6.6903569194708385,7.9024882651446475,8.294439810749404,7.906515150379235,6.93506660732454,8.839650467104512,0.0,7.304951269208814,8.017082840340423,9.94253908499207,8.30593414107772,9.853262048638776,0.0,7.433349862520692,9.062631935254469,9.163595477281751,6.700974308493308,7.67615434842718,8.50184131726878,7.200053694330252,11.473846561041427,6.91122756192034,0.0,7.22437072566106,6.613239623001929,28.04889503284263,10.026744324422822,9.04829115080479,0.0,9.515289968949816,10.345245245865943,11.342989764755547,0.0,9.03426217409955,6.169306587656207,30.94756014599359,6.840653922373255,0.0,3.754761071685568,6.1931069639607035,15.123637815753668,15.58275394448255,8.27547925496612,0.0,8.67975227138919,5.759452228743861,5.816278300603338,0.0,6.173520958882484,0.0,6.250917094019659,6.927632326862598,8.464021641858587,0.0,4.9911593914004655,6.8718688910501795,10.601018711421426,8.123918459165376,4.968916006644964,6.94486109156667,0.0,13.979334247819857,12.14813964795714,0.0,7.759142676334093,0.0,0.0,0.0,6.96300548005647,6.302361128766984,9.44385694114018,0.0,6.467316431338588,9.246838080114847,10.274285961452389,7.644082956957951,34.692009196714125,7.808277033925888,8.717066754503733,6.230683753820307],\"z\":[14.151496918683016,21.73964777482002,15.969131576054323,21.000486097935063,19.60359003577952,19.140582502684687,21.310353857699425,22.84008742163926,21.16036820957789,21.406627860139587,20.525873691376745,19.249930973399238,22.931100144771268,21.17293626038232,26.76967828579763,23.028889339600525,24.54651407288705,16.257718185321618,22.151033605077394,19.785552308937845,20.37027491980289,21.754244746662494,18.66878660015739,19.94706748912444,18.66854110323227,22.88690272174239,20.57762901719024,23.267919362923443,25.144661514452626,20.095733171628787,25.53082728586387,27.608082579893562,22.728919289096908,23.392292212950668,18.32101005838461,19.19404396515617,22.329256980944123,19.866155880664998,23.771764779422345,21.866155011320956,21.420942108390697,22.11448121933674,28.86299924749859,23.75441801770294,21.213420020502816,20.607512093938006,21.336002005059512,24.462819822479346,24.507259063806316,24.926483950958787,19.127816690773884,16.607833013119432,19.46548374216437,26.014613614744437,22.52325961199319,25.882543231758593,16.897291371464977,19.67258573452487,24.473983394151876,23.078968091399357,21.420824396175718,24.21077680048961,20.816678017349304,24.34367195003506,18.625880084732756,12.519620034041093,23.54614136268531,21.492451897109866,23.029112633864816,23.041059002698198,16.66495819245338,27.12087385377241,23.12187743521845,24.97248859895637,0.0,25.821704300073186,21.286086236528554,25.565670710701994,22.83261672364219,23.83427511792719,25.594078107599465,25.652897085377255,22.159491709718623,16.364891694848595,22.51097668521504,18.258037219255257,20.442875223724684,14.3629266495223,0.0,26.551762962047505,22.509684380606306,24.42908260842554,24.181671866270708,16.11248964767372,25.012594327695,21.94874106945691,23.762625772975216,12.40880333891068,24.960567370317847,23.775442956958614,18.030356833326884,21.501990495526563,26.188455396531577,20.396285266361737,24.313556527407066,22.89932673731743,19.615210806702933,16.67739472744403,22.850199802567275,18.5045622024463,23.92279882505472,17.90740051754839,22.086148436204333,24.677180882568962,23.108772268059937,17.584234573340566,17.960904529878974,9.627162767406649,18.838601377199396,18.51486035401915,26.75312475080129,21.305797276631537,23.71141851080479,23.499700594899473,23.94464552592864,25.5715305256576,22.863813418669594,13.554758490364586,16.62935656202125,17.44829015778355,20.420503623732877,21.6355505164893,27.987034513073866,24.38994206166804,26.243540035026733,14.367835187675464,24.037650468728078,18.020464635702417,18.39083342092173,24.214476566133293,27.02870504467578,21.37528752530502,18.318709687838222,24.345721133326933,20.03079371545622,21.413911432282667,21.90501765395392,24.211378908939306,20.359438506768797,17.915204983970526,23.52283723880548,23.09737344341805,22.956465198767376,21.692234152977285,17.124315780266333,20.44630303025811,16.584597732224974,18.918007846682634,21.29353828393921,22.600667629861483,18.485270544993885,16.013096566575953,23.714934325678236,21.244673274113286,25.43309152590425,22.16534217690873,23.943060207062416,18.328142437604264,20.64883556810105,20.57955958800182,20.515239735955134,15.37955707764413,24.81632532521325,21.86493934723206,26.440124401528877,26.14378594447134,27.08497367770812,24.350802075921543,15.000411327198105,19.87866991816994,18.55833269061985,22.595765612906753,22.592925872895812,26.685530463919047,21.281139334744733,20.554252737087573,19.008332928266103,21.998095235629467,22.036824560428112,25.286700671776877,22.30314416520855,24.42008807864903,23.852937972721648,29.985754623714797,14.436543437522513,24.633947380260736,21.199861659201673,17.688206373842668,22.628359304140048,23.902592020443095,22.94768930638455,22.553163785397476,19.84273606167124,19.886982246462814,24.37858970571117,16.7846457556085,20.627604568892473,21.794787397821437,21.934237671288294,26.294086165602078,11.366064815412104,19.453718745571628,26.455471359598523,23.008352288871855,23.01087105516142,20.93702476097574,13.234003833812775,20.882453011059525,14.02657617901182,24.010750825098423,12.828736663750075,14.576214107076327,25.89014225698712,18.404372308686426,21.643748089764486,26.650096189782772,21.878549947392308,16.394425073504898,18.88484974301565,16.221036891968154,10.815408823247896,17.60521025795601,23.80698790431728,16.47527204001736,21.02757499667885,27.330738418249283,23.062635495981798,17.657898328462032,18.981964523565566,11.371975377991486,25.608439302692233,24.909329168471203,20.20417474469258,23.868761160869035,18.253469304456353,15.555788067391028,22.6706870317137,24.319449208899997,22.216495724348228,23.424456942316592,17.566300714169913,19.794932040451606,15.743225875096531,19.778097311237698,21.452647694554244,20.17675628323284,21.978512704299455,19.11305872026959,9.43029642227339,21.148594710285558,25.41856584780099,25.112336358057846,20.21075147545618,21.825358328831406,17.81897228627644,13.234309854435725,21.501158613805902,22.53608119270303,21.48741624651582,20.841373280829348,20.65740042706443,24.273670275955453,25.55949162441844,19.793429875381968,17.900881162667602,28.819185745503034,24.35494397491071,21.434777089808957,27.51945562331446,20.168874770942978,28.04908513576278,16.006527299565374,25.484186217266377,26.06265501495657,28.012235397913813,16.572789140096322,21.216705268822047,24.352488975603407,10.79601968081717,14.37223982529535,23.328889568422404,17.937396490245764,29.377047468464916,22.086016756008746,11.588814801074543,19.256934947339012,16.37586203302356,25.107062113357827,19.133976667150712,18.56708582287586,26.73450401304577,20.720035716748633,28.436669551795237,20.508275010986353,27.652382777173166,27.284029082878703,21.06322130612,23.706623134722182,16.759045949984138,8.309039328711709,0.0,13.9204315305502,23.772691720146987,23.634846964486584,20.37323221439889,16.88666586194511,24.754457457283394,19.715914612257002,21.09146804828679,24.58229710893115,22.867611141861197,18.631570098808393,20.677523417064897,20.451594442544263,21.911890719910055,19.837861822327092,26.623493423718912,14.63826521292993,21.795208063982518,22.28000117771468,23.55054897309975,21.6787772033294,22.487515505343545,19.368860204451543,23.652380795052835,23.59776335618415,22.064918005390844,20.851217727282368,25.102160857775505,17.194567787944223,23.94522626523539,26.89929200600554,23.62207022321801,27.219749502334583,20.820291575091105,26.46980706084706,21.049203938629972,22.821058503699014,19.381632943813653,28.896522494137123,25.03920745670792,28.6864181669648,16.144978902172596,19.08370291148271,25.6069699283864,26.00168752056528,21.087784121087363,19.581641376556632,22.550734630925177,16.950794541956434,18.66644504522327,19.699604552458265,19.79449411999225,25.831255455791748,21.29874065018868,27.255853503884712,23.318045658434713,19.184298792368367,20.51489617974314,26.33026350301647,25.256560688315226,11.977050907085932,23.378341445474017,24.68891466884495,15.189749144532488,27.072290534648744,20.979419940325492,21.295421147423465,19.40595475415147,20.63064151353601,21.211344447041363,20.585360460280516,23.09839476096566,24.95369608002226,16.74427052559216,23.667972597036005,21.56153795650281,22.3003292005418,8.982957291104883,14.512518792971793,24.439856522231707,36.66416028996,21.89784785258213,24.795104636163796,22.03668293802246,23.985035878943382,0.0,24.362583903123465,22.139164866626114,22.63899013492521,22.404560367681395,21.16073244897249,24.355665514542984,26.10506191991762,22.6607017853402,24.41540097440094,31.141332813495147,23.56916031241011,15.151548264955125,14.75087562330313],\"type\":\"scatter3d\"},{\"customdata\":[[\"KAB. KOTABARU\"],[\"KAB. KOTAWARINGIN BARAT\"],[\"KAB. KOTAWARINGIN TIMUR\"],[\"KAB. LIMAPULUH KOTA\"],[\"KOTA AMBON\"],[\"KOTA BALIKPAPAN\"],[\"KOTA BANDA ACEH\"],[\"KOTA BANDAR LAMPUNG\"],[\"KOTA BANDUNG\"],[\"KOTA BANJAR\"],[\"KOTA BANJARBARU\"],[\"KOTA BANJARMASIN\"],[\"KOTA BATAM\"],[\"KOTA BATU\"],[\"KOTA BAUBAU\"],[\"KOTA BEKASI\"],[\"KOTA BENGKULU\"],[\"KOTA BIMA\"],[\"KOTA BINJAI\"],[\"KOTA BITUNG\"],[\"KOTA BLITAR\"],[\"KOTA BOGOR\"],[\"KOTA BONTANG\"],[\"KOTA BUKIT TINGGI\"],[\"KOTA CILEGON\"],[\"KOTA CIMAHI\"],[\"KOTA CIREBON\"],[\"KOTA DENPASAR\"],[\"KOTA DEPOK\"],[\"KOTA DUMAI\"],[\"KOTA GORONTALO\"],[\"KOTA GUNUNGSITOLI\"],[\"KOTA JAMBI\"],[\"KOTA JAYAPURA\"],[\"KOTA KEDIRI\"],[\"KOTA KENDARI\"],[\"KOTA KOTAMOBAGU\"],[\"KOTA KUPANG\"],[\"KOTA LANGSA\"],[\"KOTA LHOKSEUMAWE\"],[\"KOTA LUBUK LINGGAU\"],[\"KOTA MADIUN\"],[\"KOTA MAGELANG\"],[\"KOTA MAKASSAR\"],[\"KOTA MALANG\"],[\"KOTA MANADO\"],[\"KOTA MATARAM\"],[\"KOTA MEDAN\"],[\"KOTA METRO\"],[\"KOTA MOJOKERTO\"],[\"KOTA PADANG\"],[\"KOTA PADANG PANJANG\"],[\"KOTA PADANG SIDEMPUAN\"],[\"KOTA PAGAR ALAM\"],[\"KOTA PALANGKARAYA\"],[\"KOTA PALEMBANG\"],[\"KOTA PALOPO\"],[\"KOTA PALU\"],[\"KOTA PANGKAL PINANG\"],[\"KOTA PARE-PARE\"],[\"KOTA PARIAMAN\"],[\"KOTA PASURUAN\"],[\"KOTA PAYAKUMBUH\"],[\"KOTA PEKALONGAN\"],[\"KOTA PEKANBARU\"],[\"KOTA PEMATANG SIANTAR\"],[\"KOTA PONTIANAK\"],[\"KOTA PRABUMULIH\"],[\"KOTA PROBOLINGGO\"],[\"KOTA SABANG\"],[\"KOTA SALATIGA\"],[\"KOTA SAMARINDA\"],[\"KOTA SAWAHLUNTO\"],[\"KOTA SEMARANG\"],[\"KOTA SERANG\"],[\"KOTA SIBOLGA\"],[\"KOTA SINGKAWANG\"],[\"KOTA SOLOK\"],[\"KOTA SORONG\"],[\"KOTA SUBULUSSALAM\"],[\"KOTA SUKABUMI\"],[\"KOTA SUNGAI PENUH\"],[\"KOTA SURABAYA\"],[\"KOTA SURAKARTA\"],[\"KOTA TANGERANG\"],[\"KOTA TANGERANG SELATAN\"],[\"KOTA TANJUNG BALAI\"],[\"KOTA TANJUNG PINANG\"],[\"KOTA TARAKAN\"],[\"KOTA TASIKMALAYA\"],[\"KOTA TEBING TINGGI\"],[\"KOTA TEGAL\"],[\"KOTA TERNATE\"],[\"KOTA TIDORE KEPULAUAN\"],[\"KOTA TOMOHON\"],[\"KOTA TUAL\"],[\"KOTA YOGYAKARTA\"]],\"hovertemplate\":\"jenis_pemda=KOTA<br>risiko_defisit=%{x}<br>risiko_mandatory_spending=%{y}<br>risiko_keselarasan=%{z}<br>nama_pemda=%{customdata[0]}<extra></extra>\",\"legendgroup\":\"KOTA\",\"marker\":{\"color\":\"#EF553B\",\"symbol\":\"circle\"},\"mode\":\"markers\",\"name\":\"KOTA\",\"scene\":\"scene\",\"showlegend\":true,\"x\":[105.64584522212692,97.71178460278034,103.37831937126687,102.08180844246897,100.1552195039487,106.10001086423956,100.34199932196626,0.0,100.81505284015945,105.09500541271153,101.26287542716013,115.38918626548384,102.70269413563437,121.24451302184858,122.45284669433738,0.0,93.49929770179173,101.70364531518355,99.70424243764903,100.28403742050047,116.5023093911602,108.28655798106755,114.10826100803683,117.39405683071737,124.78689600439101,115.74959059137436,0.0,0.0,114.13780927762858,112.10096769409104,127.18536799210463,104.0626675105534,104.90343231221576,101.6411376567806,123.36214589915768,118.74994000042092,103.31861674122,101.94075054196581,100.29243141916604,104.05771767251349,0.0,117.79378740287738,109.50453174252148,118.05131376492952,106.8517902290899,118.04627402655994,100.9002103044147,104.67129726804862,103.90324943684189,136.1996613931283,0.0,0.0,112.64117352153093,104.35983664092319,108.88751935996932,99.19476823810605,102.50644466082441,118.8487397142614,103.80620904685756,101.89095185156127,104.86275519917172,127.02716536920431,108.08623591184423,0.0,0.0,106.76355151948671,0.0,113.36504959904634,117.6575665886649,122.57233637065733,104.4612604276836,111.28222560336279,0.0,103.86478857368952,111.26105164842075,115.00786023646556,92.61115472962832,137.42904152113047,84.41385031935046,0.0,101.76485912686822,105.97784945029363,0.0,0.0,110.24099266624923,105.59280462890031,100.24257144404811,109.08345799854587,105.92063401674213,105.00498328662728,100.15981899419815,107.33672268540526,100.0,107.63808088398021,112.34127836316401,0.0,105.19611223938452],\"y\":[6.874896124916699,0.0,8.975116430055254,5.627396337557093,6.37608987651012,24.062397238791988,10.189405264566968,0.0,8.875301080892461,4.921323054183365,10.76910413349772,9.063129254384867,8.183126540784407,6.795572516410038,7.844361023010839,0.0,6.585769172931185,9.500935796691222,0.0,7.998155380695325,8.579830788113547,25.4466308872261,5.153102919197506,8.70603183988936,6.88867596877451,12.22742334230685,0.0,0.0,22.236600933393866,5.863941000424587,7.417357016654648,6.750893276541703,8.792176589744283,8.622944128230213,6.458632144475412,7.923607263261649,10.071872870699497,7.246077566269675,12.361876916266915,7.185360857449414,0.0,7.381599596746433,6.0444326560264034,10.313082121409181,10.468230977181307,7.073452687868521,6.859589773038134,7.7858546698271205,6.023446825112046,7.011633633146113,0.0,0.0,6.123380780030537,9.655610172112553,6.8318028965912525,7.375308654999096,10.87966016600527,5.811306852251742,9.482864754058303,12.916208260308,5.662033335882586,9.141239156530613,6.937996738230276,0.0,0.0,7.184947877174805,0.0,2.297509838247095,27.980319164502582,9.951150897056007,6.499695696231993,6.926655884428039,0.0,6.89749035472804,6.399888824816282,6.25180075589936,33.13781005960648,6.060847814430444,0.0,0.0,6.287710645599187,8.43799111341604,0.0,0.0,9.960762454270563,6.950236315907461,6.764663136709284,10.452604609720286,7.129941514923162,6.825076959875524,7.609528168219391,6.852011284647474,5.888178953245887,0.0,6.569286700170489,0.0,0.0],\"z\":[21.234391263605968,20.956102286502627,21.030143355533596,27.605356348986128,22.908844953102463,21.194633606335103,20.056729460003712,22.171757544965757,24.856674590530652,24.09066591641878,23.998670235623987,22.886559413180237,22.607183076412355,20.268661560084773,24.004844360004327,24.60969765497034,26.490531591431854,28.192830841478845,26.169228379474752,25.79385675062121,19.737028562951018,24.799316655223677,21.535469419381727,22.10378409454308,22.879481162499324,28.0597616279952,29.58643952440703,0.0,0.0,26.805399867134156,21.296936767486763,21.915357991873112,22.607956982308725,22.98511624535101,24.89164338108862,22.302928480921857,23.565757778952715,24.302022663557768,26.816185312331996,21.966929421887126,28.388366361900065,21.997014828161568,23.0409513920131,18.31438571153866,24.694352586046556,19.26904164851646,22.88522552272366,18.62034768208443,20.73940896544682,17.360929950478784,0.0,22.74653790596186,25.396960319936625,24.08468199168175,26.524182336529993,23.63806190790539,25.83890407871809,21.39769537251633,26.27751698191068,27.339005801034737,25.385750981826668,21.257013930694356,26.241894771999668,22.405195406562488,0.027949433192122914,27.342645807169358,0.0,23.880018262266685,21.72136667787546,21.701278312056324,22.27945494820071,20.341758177441292,0.0,18.87037983884768,25.13685837213874,22.079156783549138,24.05719606990877,21.384328232654752,19.450371249002323,16.663484932996884,22.094473309060962,24.608356775239677,0.0,0.0,20.021696605225863,16.096537080174052,28.397057575550484,28.42028647856671,22.67554856260486,27.134013783587065,25.987027478424544,21.2177506893359,25.537028200417083,22.069596566359415,23.134069277534795,16.404305211582766,22.05736618603156],\"type\":\"scatter3d\"},{\"customdata\":[[\"PROVINSI ACEH\"],[\"PROVINSI BALI\"],[\"PROVINSI BANGKA BELITUNG\"],[\"PROVINSI BANTEN\"],[\"PROVINSI BENGKULU\"],[\"PROVINSI DI YOGYAKARTA\"],[\"PROVINSI DKI JAKARTA\"],[\"PROVINSI GORONTALO\"],[\"PROVINSI JAMBI\"],[\"PROVINSI JAWA BARAT\"],[\"PROVINSI JAWA TENGAH\"],[\"PROVINSI JAWA TIMUR\"],[\"PROVINSI KALIMANTAN BARAT\"],[\"PROVINSI KALIMANTAN SELATAN\"],[\"PROVINSI KALIMANTAN TENGAH\"],[\"PROVINSI KALIMANTAN TIMUR\"],[\"PROVINSI KALIMANTAN UTARA\"],[\"PROVINSI KEPULAUAN RIAU\"],[\"PROVINSI LAMPUNG\"],[\"PROVINSI MALUKU\"],[\"PROVINSI MALUKU UTARA\"],[\"PROVINSI NUSA TENGGARA BARAT\"],[\"PROVINSI NUSA TENGGARA TIMUR\"],[\"PROVINSI PAPUA\"],[\"PROVINSI PAPUA BARAT\"],[\"PROVINSI RIAU\"],[\"PROVINSI SULAWESI BARAT\"],[\"PROVINSI SULAWESI SELATAN\"],[\"PROVINSI SULAWESI TENGAH\"],[\"PROVINSI SULAWESI TENGGARA\"],[\"PROVINSI SULAWESI UTARA\"],[\"PROVINSI SUMATERA BARAT\"],[\"PROVINSI SUMATERA SELATAN\"],[\"PROVINSI SUMATERA UTARA\"]],\"hovertemplate\":\"jenis_pemda=PROVINSI<br>risiko_defisit=%{x}<br>risiko_mandatory_spending=%{y}<br>risiko_keselarasan=%{z}<br>nama_pemda=%{customdata[0]}<extra></extra>\",\"legendgroup\":\"PROVINSI\",\"marker\":{\"color\":\"#00cc96\",\"symbol\":\"circle\"},\"mode\":\"markers\",\"name\":\"PROVINSI\",\"scene\":\"scene\",\"showlegend\":true,\"x\":[121.1014062693053,120.9692089257375,107.89239251801801,0.0,102.85142006746564,107.39543330759051,99.21116416698268,98.98573666313982,113.7721317176163,99.95191611568237,0.0,106.55767305971646,105.4049155991338,99.4425721000447,100.4725665495364,105.89194042757985,112.05004614125784,111.20585620869893,0.0,107.68874758133691,103.82098393669892,110.41844690913555,108.42803409404766,109.83443049892887,107.38942310370085,0.0,110.32170286815915,98.76562390812663,108.98117353715064,124.13360519709067,95.43843079271454,104.72631183668852,98.62560945467955,105.31152088129714],\"y\":[20.151128512878095,18.427956325019572,6.975453703381799,0.0,7.927672571584397,12.514421313895134,21.509704634778203,9.437792084975213,6.051090897937014,11.050899138610625,0.0,8.812376216925188,10.600998374419094,24.401691344354184,5.428688087713385,5.98378239577576,5.628954171291638,6.331915129686552,0.0,10.579758380827267,10.861465372753536,11.981520325112687,11.178902100148282,2.514322426613802,4.695660860090089,0.0,8.358894844207661,7.409384545336847,6.890671967673308,9.970097829363038,12.338851255877149,7.055440106818364,5.875529658094269,9.490693460853127],\"z\":[10.519040852825356,14.49649693190944,20.554328329873968,11.445239037322496,23.2897818205421,15.628438879708234,14.989115113638501,20.179097892824192,19.05270793562869,10.361136096945993,14.08066418184979,15.171215939531226,14.633325232254238,14.334827156972057,14.81226572279611,11.219525303594969,18.2260790060989,14.546458275102871,15.164326032939128,19.278623958272213,11.888098211876986,17.6375757400409,19.995326560933822,12.71721086925572,9.485154079283685,0.0751001506817123,17.50137203787694,18.088376699909677,18.00630083041652,16.342267830723703,20.324229858509888,19.173998270901407,14.461321885335604,14.8780016388453],\"type\":\"scatter3d\"}],                        {\"template\":{\"data\":{\"histogram2dcontour\":[{\"type\":\"histogram2dcontour\",\"colorbar\":{\"outlinewidth\":0,\"ticks\":\"\"},\"colorscale\":[[0.0,\"#0d0887\"],[0.1111111111111111,\"#46039f\"],[0.2222222222222222,\"#7201a8\"],[0.3333333333333333,\"#9c179e\"],[0.4444444444444444,\"#bd3786\"],[0.5555555555555556,\"#d8576b\"],[0.6666666666666666,\"#ed7953\"],[0.7777777777777778,\"#fb9f3a\"],[0.8888888888888888,\"#fdca26\"],[1.0,\"#f0f921\"]]}],\"choropleth\":[{\"type\":\"choropleth\",\"colorbar\":{\"outlinewidth\":0,\"ticks\":\"\"}}],\"histogram2d\":[{\"type\":\"histogram2d\",\"colorbar\":{\"outlinewidth\":0,\"ticks\":\"\"},\"colorscale\":[[0.0,\"#0d0887\"],[0.1111111111111111,\"#46039f\"],[0.2222222222222222,\"#7201a8\"],[0.3333333333333333,\"#9c179e\"],[0.4444444444444444,\"#bd3786\"],[0.5555555555555556,\"#d8576b\"],[0.6666666666666666,\"#ed7953\"],[0.7777777777777778,\"#fb9f3a\"],[0.8888888888888888,\"#fdca26\"],[1.0,\"#f0f921\"]]}],\"heatmap\":[{\"type\":\"heatmap\",\"colorbar\":{\"outlinewidth\":0,\"ticks\":\"\"},\"colorscale\":[[0.0,\"#0d0887\"],[0.1111111111111111,\"#46039f\"],[0.2222222222222222,\"#7201a8\"],[0.3333333333333333,\"#9c179e\"],[0.4444444444444444,\"#bd3786\"],[0.5555555555555556,\"#d8576b\"],[0.6666666666666666,\"#ed7953\"],[0.7777777777777778,\"#fb9f3a\"],[0.8888888888888888,\"#fdca26\"],[1.0,\"#f0f921\"]]}],\"heatmapgl\":[{\"type\":\"heatmapgl\",\"colorbar\":{\"outlinewidth\":0,\"ticks\":\"\"},\"colorscale\":[[0.0,\"#0d0887\"],[0.1111111111111111,\"#46039f\"],[0.2222222222222222,\"#7201a8\"],[0.3333333333333333,\"#9c179e\"],[0.4444444444444444,\"#bd3786\"],[0.5555555555555556,\"#d8576b\"],[0.6666666666666666,\"#ed7953\"],[0.7777777777777778,\"#fb9f3a\"],[0.8888888888888888,\"#fdca26\"],[1.0,\"#f0f921\"]]}],\"contourcarpet\":[{\"type\":\"contourcarpet\",\"colorbar\":{\"outlinewidth\":0,\"ticks\":\"\"}}],\"contour\":[{\"type\":\"contour\",\"colorbar\":{\"outlinewidth\":0,\"ticks\":\"\"},\"colorscale\":[[0.0,\"#0d0887\"],[0.1111111111111111,\"#46039f\"],[0.2222222222222222,\"#7201a8\"],[0.3333333333333333,\"#9c179e\"],[0.4444444444444444,\"#bd3786\"],[0.5555555555555556,\"#d8576b\"],[0.6666666666666666,\"#ed7953\"],[0.7777777777777778,\"#fb9f3a\"],[0.8888888888888888,\"#fdca26\"],[1.0,\"#f0f921\"]]}],\"surface\":[{\"type\":\"surface\",\"colorbar\":{\"outlinewidth\":0,\"ticks\":\"\"},\"colorscale\":[[0.0,\"#0d0887\"],[0.1111111111111111,\"#46039f\"],[0.2222222222222222,\"#7201a8\"],[0.3333333333333333,\"#9c179e\"],[0.4444444444444444,\"#bd3786\"],[0.5555555555555556,\"#d8576b\"],[0.6666666666666666,\"#ed7953\"],[0.7777777777777778,\"#fb9f3a\"],[0.8888888888888888,\"#fdca26\"],[1.0,\"#f0f921\"]]}],\"mesh3d\":[{\"type\":\"mesh3d\",\"colorbar\":{\"outlinewidth\":0,\"ticks\":\"\"}}],\"scatter\":[{\"fillpattern\":{\"fillmode\":\"overlay\",\"size\":10,\"solidity\":0.2},\"type\":\"scatter\"}],\"parcoords\":[{\"type\":\"parcoords\",\"line\":{\"colorbar\":{\"outlinewidth\":0,\"ticks\":\"\"}}}],\"scatterpolargl\":[{\"type\":\"scatterpolargl\",\"marker\":{\"colorbar\":{\"outlinewidth\":0,\"ticks\":\"\"}}}],\"bar\":[{\"error_x\":{\"color\":\"#2a3f5f\"},\"error_y\":{\"color\":\"#2a3f5f\"},\"marker\":{\"line\":{\"color\":\"#E5ECF6\",\"width\":0.5},\"pattern\":{\"fillmode\":\"overlay\",\"size\":10,\"solidity\":0.2}},\"type\":\"bar\"}],\"scattergeo\":[{\"type\":\"scattergeo\",\"marker\":{\"colorbar\":{\"outlinewidth\":0,\"ticks\":\"\"}}}],\"scatterpolar\":[{\"type\":\"scatterpolar\",\"marker\":{\"colorbar\":{\"outlinewidth\":0,\"ticks\":\"\"}}}],\"histogram\":[{\"marker\":{\"pattern\":{\"fillmode\":\"overlay\",\"size\":10,\"solidity\":0.2}},\"type\":\"histogram\"}],\"scattergl\":[{\"type\":\"scattergl\",\"marker\":{\"colorbar\":{\"outlinewidth\":0,\"ticks\":\"\"}}}],\"scatter3d\":[{\"type\":\"scatter3d\",\"line\":{\"colorbar\":{\"outlinewidth\":0,\"ticks\":\"\"}},\"marker\":{\"colorbar\":{\"outlinewidth\":0,\"ticks\":\"\"}}}],\"scattermapbox\":[{\"type\":\"scattermapbox\",\"marker\":{\"colorbar\":{\"outlinewidth\":0,\"ticks\":\"\"}}}],\"scatterternary\":[{\"type\":\"scatterternary\",\"marker\":{\"colorbar\":{\"outlinewidth\":0,\"ticks\":\"\"}}}],\"scattercarpet\":[{\"type\":\"scattercarpet\",\"marker\":{\"colorbar\":{\"outlinewidth\":0,\"ticks\":\"\"}}}],\"carpet\":[{\"aaxis\":{\"endlinecolor\":\"#2a3f5f\",\"gridcolor\":\"white\",\"linecolor\":\"white\",\"minorgridcolor\":\"white\",\"startlinecolor\":\"#2a3f5f\"},\"baxis\":{\"endlinecolor\":\"#2a3f5f\",\"gridcolor\":\"white\",\"linecolor\":\"white\",\"minorgridcolor\":\"white\",\"startlinecolor\":\"#2a3f5f\"},\"type\":\"carpet\"}],\"table\":[{\"cells\":{\"fill\":{\"color\":\"#EBF0F8\"},\"line\":{\"color\":\"white\"}},\"header\":{\"fill\":{\"color\":\"#C8D4E3\"},\"line\":{\"color\":\"white\"}},\"type\":\"table\"}],\"barpolar\":[{\"marker\":{\"line\":{\"color\":\"#E5ECF6\",\"width\":0.5},\"pattern\":{\"fillmode\":\"overlay\",\"size\":10,\"solidity\":0.2}},\"type\":\"barpolar\"}],\"pie\":[{\"automargin\":true,\"type\":\"pie\"}]},\"layout\":{\"autotypenumbers\":\"strict\",\"colorway\":[\"#636efa\",\"#EF553B\",\"#00cc96\",\"#ab63fa\",\"#FFA15A\",\"#19d3f3\",\"#FF6692\",\"#B6E880\",\"#FF97FF\",\"#FECB52\"],\"font\":{\"color\":\"#2a3f5f\"},\"hovermode\":\"closest\",\"hoverlabel\":{\"align\":\"left\"},\"paper_bgcolor\":\"white\",\"plot_bgcolor\":\"#E5ECF6\",\"polar\":{\"bgcolor\":\"#E5ECF6\",\"angularaxis\":{\"gridcolor\":\"white\",\"linecolor\":\"white\",\"ticks\":\"\"},\"radialaxis\":{\"gridcolor\":\"white\",\"linecolor\":\"white\",\"ticks\":\"\"}},\"ternary\":{\"bgcolor\":\"#E5ECF6\",\"aaxis\":{\"gridcolor\":\"white\",\"linecolor\":\"white\",\"ticks\":\"\"},\"baxis\":{\"gridcolor\":\"white\",\"linecolor\":\"white\",\"ticks\":\"\"},\"caxis\":{\"gridcolor\":\"white\",\"linecolor\":\"white\",\"ticks\":\"\"}},\"coloraxis\":{\"colorbar\":{\"outlinewidth\":0,\"ticks\":\"\"}},\"colorscale\":{\"sequential\":[[0.0,\"#0d0887\"],[0.1111111111111111,\"#46039f\"],[0.2222222222222222,\"#7201a8\"],[0.3333333333333333,\"#9c179e\"],[0.4444444444444444,\"#bd3786\"],[0.5555555555555556,\"#d8576b\"],[0.6666666666666666,\"#ed7953\"],[0.7777777777777778,\"#fb9f3a\"],[0.8888888888888888,\"#fdca26\"],[1.0,\"#f0f921\"]],\"sequentialminus\":[[0.0,\"#0d0887\"],[0.1111111111111111,\"#46039f\"],[0.2222222222222222,\"#7201a8\"],[0.3333333333333333,\"#9c179e\"],[0.4444444444444444,\"#bd3786\"],[0.5555555555555556,\"#d8576b\"],[0.6666666666666666,\"#ed7953\"],[0.7777777777777778,\"#fb9f3a\"],[0.8888888888888888,\"#fdca26\"],[1.0,\"#f0f921\"]],\"diverging\":[[0,\"#8e0152\"],[0.1,\"#c51b7d\"],[0.2,\"#de77ae\"],[0.3,\"#f1b6da\"],[0.4,\"#fde0ef\"],[0.5,\"#f7f7f7\"],[0.6,\"#e6f5d0\"],[0.7,\"#b8e186\"],[0.8,\"#7fbc41\"],[0.9,\"#4d9221\"],[1,\"#276419\"]]},\"xaxis\":{\"gridcolor\":\"white\",\"linecolor\":\"white\",\"ticks\":\"\",\"title\":{\"standoff\":15},\"zerolinecolor\":\"white\",\"automargin\":true,\"zerolinewidth\":2},\"yaxis\":{\"gridcolor\":\"white\",\"linecolor\":\"white\",\"ticks\":\"\",\"title\":{\"standoff\":15},\"zerolinecolor\":\"white\",\"automargin\":true,\"zerolinewidth\":2},\"scene\":{\"xaxis\":{\"backgroundcolor\":\"#E5ECF6\",\"gridcolor\":\"white\",\"linecolor\":\"white\",\"showbackground\":true,\"ticks\":\"\",\"zerolinecolor\":\"white\",\"gridwidth\":2},\"yaxis\":{\"backgroundcolor\":\"#E5ECF6\",\"gridcolor\":\"white\",\"linecolor\":\"white\",\"showbackground\":true,\"ticks\":\"\",\"zerolinecolor\":\"white\",\"gridwidth\":2},\"zaxis\":{\"backgroundcolor\":\"#E5ECF6\",\"gridcolor\":\"white\",\"linecolor\":\"white\",\"showbackground\":true,\"ticks\":\"\",\"zerolinecolor\":\"white\",\"gridwidth\":2}},\"shapedefaults\":{\"line\":{\"color\":\"#2a3f5f\"}},\"annotationdefaults\":{\"arrowcolor\":\"#2a3f5f\",\"arrowhead\":0,\"arrowwidth\":1},\"geo\":{\"bgcolor\":\"white\",\"landcolor\":\"#E5ECF6\",\"subunitcolor\":\"white\",\"showland\":true,\"showlakes\":true,\"lakecolor\":\"white\"},\"title\":{\"x\":0.05},\"mapbox\":{\"style\":\"light\"}}},\"scene\":{\"domain\":{\"x\":[0.0,1.0],\"y\":[0.0,1.0]},\"xaxis\":{\"title\":{\"text\":\"risiko_defisit\"}},\"yaxis\":{\"title\":{\"text\":\"risiko_mandatory_spending\"}},\"zaxis\":{\"title\":{\"text\":\"risiko_keselarasan\"}}},\"legend\":{\"title\":{\"text\":\"jenis_pemda\"},\"tracegroupgap\":0},\"margin\":{\"t\":20,\"l\":20,\"r\":20,\"b\":20},\"autosize\":false,\"height\":800,\"width\":1600},                        {\"responsive\": true}                    ).then(function(){\n",
       "                            \n",
       "var gd = document.getElementById('54e9eadb-da74-4b12-96a9-1e0b2040cfb3');\n",
       "var x = new MutationObserver(function (mutations, observer) {{\n",
       "        var display = window.getComputedStyle(gd).display;\n",
       "        if (!display || display === 'none') {{\n",
       "            console.log([gd, 'removed!']);\n",
       "            Plotly.purge(gd);\n",
       "            observer.disconnect();\n",
       "        }}\n",
       "}});\n",
       "\n",
       "// Listen for the removal of the full notebook cells\n",
       "var notebookContainer = gd.closest('#notebook-container');\n",
       "if (notebookContainer) {{\n",
       "    x.observe(notebookContainer, {childList: true});\n",
       "}}\n",
       "\n",
       "// Listen for the clearing of the current output cell\n",
       "var outputEl = gd.closest('.output');\n",
       "if (outputEl) {{\n",
       "    x.observe(outputEl, {childList: true});\n",
       "}}\n",
       "\n",
       "                        })                };                });            </script>        </div>"
      ]
     },
     "metadata": {},
     "output_type": "display_data"
    }
   ],
   "source": [
    "fig = px.scatter_3d(df_risiko, x=\"risiko_defisit\", y=\"risiko_mandatory_spending\", z=\"risiko_keselarasan\", color=\"jenis_pemda\", hover_data=[\"nama_pemda\"])\n",
    "fig.update_layout(autosize=False, height=800, width=1600, margin=dict(l=20, r=20, t=20, b=20))\n",
    "fig.show()"
   ]
  },
  {
   "cell_type": "code",
   "execution_count": 92,
   "metadata": {},
   "outputs": [
    {
     "data": {
      "text/html": [
       "<div>\n",
       "<style scoped>\n",
       "    .dataframe tbody tr th:only-of-type {\n",
       "        vertical-align: middle;\n",
       "    }\n",
       "\n",
       "    .dataframe tbody tr th {\n",
       "        vertical-align: top;\n",
       "    }\n",
       "\n",
       "    .dataframe thead th {\n",
       "        text-align: right;\n",
       "    }\n",
       "</style>\n",
       "<table border=\"1\" class=\"dataframe\">\n",
       "  <thead>\n",
       "    <tr style=\"text-align: right;\">\n",
       "      <th></th>\n",
       "      <th>pemda</th>\n",
       "      <th>nama_pemda</th>\n",
       "      <th>jenis_pemda</th>\n",
       "      <th>risiko_defisit</th>\n",
       "      <th>risiko_mandatory_spending</th>\n",
       "      <th>risiko_keselarasan</th>\n",
       "      <th>cluster</th>\n",
       "    </tr>\n",
       "  </thead>\n",
       "  <tbody>\n",
       "    <tr>\n",
       "      <th>0</th>\n",
       "      <td>KAB KONAWE KEPULAUAN</td>\n",
       "      <td>KAB KONAWE KEPULAUAN</td>\n",
       "      <td>KABUPATEN</td>\n",
       "      <td>100.19</td>\n",
       "      <td>10.13</td>\n",
       "      <td>14.15</td>\n",
       "      <td>2</td>\n",
       "    </tr>\n",
       "    <tr>\n",
       "      <th>7</th>\n",
       "      <td>ACEH SELATAN</td>\n",
       "      <td>KAB. ACEH SELATAN</td>\n",
       "      <td>KABUPATEN</td>\n",
       "      <td>101.38</td>\n",
       "      <td>7.40</td>\n",
       "      <td>22.84</td>\n",
       "      <td>4</td>\n",
       "    </tr>\n",
       "    <tr>\n",
       "      <th>12</th>\n",
       "      <td>ACEH TIMUR</td>\n",
       "      <td>KAB. ACEH TIMUR</td>\n",
       "      <td>KABUPATEN</td>\n",
       "      <td>100.00</td>\n",
       "      <td>6.40</td>\n",
       "      <td>22.93</td>\n",
       "      <td>4</td>\n",
       "    </tr>\n",
       "    <tr>\n",
       "      <th>14</th>\n",
       "      <td>AGAM</td>\n",
       "      <td>KAB. AGAM</td>\n",
       "      <td>KABUPATEN</td>\n",
       "      <td>106.42</td>\n",
       "      <td>7.10</td>\n",
       "      <td>26.77</td>\n",
       "      <td>4</td>\n",
       "    </tr>\n",
       "    <tr>\n",
       "      <th>15</th>\n",
       "      <td>ALOR</td>\n",
       "      <td>KAB. ALOR</td>\n",
       "      <td>KABUPATEN</td>\n",
       "      <td>99.62</td>\n",
       "      <td>12.44</td>\n",
       "      <td>23.03</td>\n",
       "      <td>4</td>\n",
       "    </tr>\n",
       "  </tbody>\n",
       "</table>\n",
       "</div>"
      ],
      "text/plain": [
       "                   pemda            nama_pemda jenis_pemda  risiko_defisit  \\\n",
       "0   KAB KONAWE KEPULAUAN  KAB KONAWE KEPULAUAN   KABUPATEN          100.19   \n",
       "7           ACEH SELATAN     KAB. ACEH SELATAN   KABUPATEN          101.38   \n",
       "12            ACEH TIMUR       KAB. ACEH TIMUR   KABUPATEN          100.00   \n",
       "14                  AGAM             KAB. AGAM   KABUPATEN          106.42   \n",
       "15                  ALOR             KAB. ALOR   KABUPATEN           99.62   \n",
       "\n",
       "    risiko_mandatory_spending  risiko_keselarasan  cluster  \n",
       "0                       10.13               14.15        2  \n",
       "7                        7.40               22.84        4  \n",
       "12                       6.40               22.93        4  \n",
       "14                       7.10               26.77        4  \n",
       "15                      12.44               23.03        4  "
      ]
     },
     "execution_count": 92,
     "metadata": {},
     "output_type": "execute_result"
    }
   ],
   "source": [
    "df_risiko_nonzero = df_risiko[~(df_risiko==0).any(axis=1)]\n",
    "df_risiko_nonzero.head()"
   ]
  },
  {
   "cell_type": "code",
   "execution_count": 93,
   "metadata": {},
   "outputs": [],
   "source": [
    "scaler = StandardScaler()\n",
    "X_risiko_scaled = scaler.fit_transform(df_risiko_nonzero.iloc[:, 3:].values)"
   ]
  },
  {
   "cell_type": "code",
   "execution_count": 94,
   "metadata": {},
   "outputs": [
    {
     "data": {
      "image/png": "[encoded data removed]",
      "text/plain": [
       "<Figure size 576x396 with 2 Axes>"
      ]
     },
     "metadata": {},
     "output_type": "display_data"
    },
    {
     "data": {
      "text/plain": [
       "<AxesSubplot:title={'center':'Distortion Score Elbow for KMeans Clustering'}, xlabel='k', ylabel='distortion score'>"
      ]
     },
     "execution_count": 94,
     "metadata": {},
     "output_type": "execute_result"
    }
   ],
   "source": [
    "model = KMeans(random_state=0)\n",
    "visualizer = KElbowVisualizer(model, k=(4,12))\n",
    "visualizer.fit(X_risiko_scaled)\n",
    "visualizer.show()"
   ]
  },
  {
   "cell_type": "code",
   "execution_count": 95,
   "metadata": {},
   "outputs": [
    {
     "data": {
      "image/png": "[encoded data removed]",
      "text/plain": [
       "<Figure size 576x396 with 1 Axes>"
      ]
     },
     "metadata": {},
     "output_type": "display_data"
    },
    {
     "data": {
      "text/plain": [
       "<AxesSubplot:title={'center':'Silhouette Plot of KMeans Clustering for 273 Samples in 6 Centers'}, xlabel='silhouette coefficient values', ylabel='cluster label'>"
      ]
     },
     "execution_count": 95,
     "metadata": {},
     "output_type": "execute_result"
    }
   ],
   "source": [
    "model = KMeans(n_clusters=6, random_state=0)\n",
    "visualizer = SilhouetteVisualizer(model, colors='yellowbrick')\n",
    "visualizer.fit(X_risiko_scaled)\n",
    "visualizer.show()"
   ]
  },
  {
   "cell_type": "code",
   "execution_count": 96,
   "metadata": {},
   "outputs": [],
   "source": [
    "kmeans = KMeans(n_clusters=6, random_state=0).fit(X_risiko_scaled)"
   ]
  },
  {
   "cell_type": "code",
   "execution_count": 99,
   "metadata": {},
   "outputs": [
    {
     "data": {
      "text/html": [
       "<div>\n",
       "<style scoped>\n",
       "    .dataframe tbody tr th:only-of-type {\n",
       "        vertical-align: middle;\n",
       "    }\n",
       "\n",
       "    .dataframe tbody tr th {\n",
       "        vertical-align: top;\n",
       "    }\n",
       "\n",
       "    .dataframe thead th {\n",
       "        text-align: right;\n",
       "    }\n",
       "</style>\n",
       "<table border=\"1\" class=\"dataframe\">\n",
       "  <thead>\n",
       "    <tr style=\"text-align: right;\">\n",
       "      <th></th>\n",
       "      <th>pemda</th>\n",
       "      <th>nama_pemda</th>\n",
       "      <th>jenis_pemda</th>\n",
       "      <th>risiko_defisit</th>\n",
       "      <th>risiko_mandatory_spending</th>\n",
       "      <th>risiko_keselarasan</th>\n",
       "      <th>cluster</th>\n",
       "    </tr>\n",
       "  </thead>\n",
       "  <tbody>\n",
       "    <tr>\n",
       "      <th>0</th>\n",
       "      <td>KAB KONAWE KEPULAUAN</td>\n",
       "      <td>KAB KONAWE KEPULAUAN</td>\n",
       "      <td>KABUPATEN</td>\n",
       "      <td>100.19</td>\n",
       "      <td>10.13</td>\n",
       "      <td>14.15</td>\n",
       "      <td>1</td>\n",
       "    </tr>\n",
       "    <tr>\n",
       "      <th>1</th>\n",
       "      <td>KAB MOROWALI UTARA</td>\n",
       "      <td>KAB MOROWALI UTARA</td>\n",
       "      <td>KABUPATEN</td>\n",
       "      <td>101.56</td>\n",
       "      <td>0.00</td>\n",
       "      <td>21.74</td>\n",
       "      <td>1</td>\n",
       "    </tr>\n",
       "    <tr>\n",
       "      <th>2</th>\n",
       "      <td>KAB MUSI RAWAS UTARA</td>\n",
       "      <td>KAB MUSI RAWAS UTARA</td>\n",
       "      <td>KABUPATEN</td>\n",
       "      <td>103.45</td>\n",
       "      <td>0.00</td>\n",
       "      <td>15.97</td>\n",
       "      <td>1</td>\n",
       "    </tr>\n",
       "    <tr>\n",
       "      <th>3</th>\n",
       "      <td>ACEH BARAT</td>\n",
       "      <td>KAB. ACEH BARAT</td>\n",
       "      <td>KABUPATEN</td>\n",
       "      <td>104.10</td>\n",
       "      <td>6.08</td>\n",
       "      <td>21.00</td>\n",
       "      <td>1</td>\n",
       "    </tr>\n",
       "    <tr>\n",
       "      <th>4</th>\n",
       "      <td>ACEH BARAT DAYA</td>\n",
       "      <td>KAB. ACEH BARAT DAYA</td>\n",
       "      <td>KABUPATEN</td>\n",
       "      <td>111.28</td>\n",
       "      <td>6.86</td>\n",
       "      <td>19.60</td>\n",
       "      <td>1</td>\n",
       "    </tr>\n",
       "  </tbody>\n",
       "</table>\n",
       "</div>"
      ],
      "text/plain": [
       "                  pemda            nama_pemda jenis_pemda  risiko_defisit  \\\n",
       "0  KAB KONAWE KEPULAUAN  KAB KONAWE KEPULAUAN   KABUPATEN          100.19   \n",
       "1    KAB MOROWALI UTARA    KAB MOROWALI UTARA   KABUPATEN          101.56   \n",
       "2  KAB MUSI RAWAS UTARA  KAB MUSI RAWAS UTARA   KABUPATEN          103.45   \n",
       "3            ACEH BARAT       KAB. ACEH BARAT   KABUPATEN          104.10   \n",
       "4       ACEH BARAT DAYA  KAB. ACEH BARAT DAYA   KABUPATEN          111.28   \n",
       "\n",
       "   risiko_mandatory_spending  risiko_keselarasan  cluster  \n",
       "0                      10.13               14.15        1  \n",
       "1                       0.00               21.74        1  \n",
       "2                       0.00               15.97        1  \n",
       "3                       6.08               21.00        1  \n",
       "4                       6.86               19.60        1  "
      ]
     },
     "execution_count": 99,
     "metadata": {},
     "output_type": "execute_result"
    }
   ],
   "source": [
    "risiko_all_scaled = scaler.transform(df_risiko.iloc[:, 3:].values)\n",
    "df_risiko[\"cluster\"] = kmeans.predict(risiko_all_scaled)\n",
    "\n",
    "df_risiko.to_csv(\"clustered.csv\", index=None)\n",
    "df_risiko.head()"
   ]
  },
  {
   "cell_type": "code",
   "execution_count": 100,
   "metadata": {},
   "outputs": [
    {
     "data": {
      "application/vnd.plotly.v1+json": {
       "config": {
        "plotlyServerURL": "https://plot.ly"
       },
       "data": [
        {
         "customdata": [
          [
           "KAB KONAWE KEPULAUAN"
          ],
          [
           "KAB. ACEH BARAT"
          ],
          [
           "KAB. ACEH BARAT DAYA"
          ],
          [
           "KAB. ACEH BESAR"
          ],
          [
           "KAB. ACEH JAYA"
          ],
          [
           "KAB. ACEH SELATAN"
          ],
          [
           "KAB. ACEH SINGKIL"
          ],
          [
           "KAB. ACEH TAMIANG"
          ],
          [
           "KAB. ACEH TENGAH"
          ],
          [
           "KAB. ACEH TENGGARA"
          ],
          [
           "KAB. ACEH TIMUR"
          ],
          [
           "KAB. ACEH UTARA"
          ],
          [
           "KAB. AGAM"
          ],
          [
           "KAB. ALOR"
          ],
          [
           "KAB. ASAHAN"
          ],
          [
           "KAB. ASMAT"
          ],
          [
           "KAB. BADUNG"
          ],
          [
           "KAB. BALANGAN"
          ],
          [
           "KAB. BANDUNG"
          ],
          [
           "KAB. BANDUNG BARAT"
          ],
          [
           "KAB. BANGGAI"
          ],
          [
           "KAB. BANGGAI KEPULAUAN"
          ],
          [
           "KAB. BANGGAI LAUT"
          ],
          [
           "KAB. BANGKA"
          ],
          [
           "KAB. BANGKA BARAT"
          ],
          [
           "KAB. BANGKA TENGAH"
          ],
          [
           "KAB. BANGKALAN"
          ],
          [
           "KAB. BANJARNEGARA"
          ],
          [
           "KAB. BANTAENG"
          ],
          [
           "KAB. BANTUL"
          ],
          [
           "KAB. BANYUASIN"
          ],
          [
           "KAB. BANYUWANGI"
          ],
          [
           "KAB. BARITO KUALA"
          ],
          [
           "KAB. BARITO TIMUR"
          ],
          [
           "KAB. BARITO UTARA"
          ],
          [
           "KAB. BARRU"
          ],
          [
           "KAB. BATANG"
          ],
          [
           "KAB. BATU BARA"
          ],
          [
           "KAB. BELU"
          ],
          [
           "KAB. BENER MERIAH"
          ],
          [
           "KAB. BENGKALIS"
          ],
          [
           "KAB. BENGKULU SELATAN"
          ],
          [
           "KAB. BENGKULU TENGAH"
          ],
          [
           "KAB. BENGKULU UTARA"
          ],
          [
           "KAB. BERAU"
          ],
          [
           "KAB. BIAK NUMFOR"
          ],
          [
           "KAB. BIMA"
          ],
          [
           "KAB. BINTAN"
          ],
          [
           "KAB. BIREUEN"
          ],
          [
           "KAB. BLITAR"
          ],
          [
           "KAB. BLORA"
          ],
          [
           "KAB. BOGOR"
          ],
          [
           "KAB. BOJONEGORO"
          ],
          [
           "KAB. BOLAANG MONGONDOW"
          ],
          [
           "KAB. BOLAANG MONGONDOW TIMUR"
          ],
          [
           "KAB. BOLAANG MONGONDOW UTARA"
          ],
          [
           "KAB. BOMBANA"
          ],
          [
           "KAB. BONDOWOSO"
          ],
          [
           "KAB. BONE BOLANGO"
          ],
          [
           "KAB. BULELENG"
          ],
          [
           "KAB. BULUKUMBA"
          ],
          [
           "KAB. BULUNGAN"
          ],
          [
           "KAB. BUNGO"
          ],
          [
           "KAB. BUOL"
          ],
          [
           "KAB. BURU"
          ],
          [
           "KAB. BURU SELATAN"
          ],
          [
           "KAB. BUTON"
          ],
          [
           "KAB. BUTON SELATAN"
          ],
          [
           "KAB. BUTON TENGAH"
          ],
          [
           "KAB. BUTON UTARA"
          ],
          [
           "KAB. CIANJUR"
          ],
          [
           "KAB. CIREBON"
          ],
          [
           "KAB. DAIRI"
          ],
          [
           "KAB. DEIYAI"
          ],
          [
           "KAB. DELI SERDANG"
          ],
          [
           "KAB. DEMAK"
          ],
          [
           "KAB. DHARMASRAYA"
          ],
          [
           "KAB. DOMPU"
          ],
          [
           "KAB. DONGGALA"
          ],
          [
           "KAB. EMPAT LAWANG"
          ],
          [
           "KAB. ENDE"
          ],
          [
           "KAB. ENREKANG"
          ],
          [
           "KAB. GARUT"
          ],
          [
           "KAB. GAYO LUES"
          ],
          [
           "KAB. GIANYAR"
          ],
          [
           "KAB. GORONTALO"
          ],
          [
           "KAB. GOWA"
          ],
          [
           "KAB. GRESIK"
          ],
          [
           "KAB. GROBOGAN"
          ],
          [
           "KAB. GUNUNG KIDUL"
          ],
          [
           "KAB. GUNUNG MAS"
          ],
          [
           "KAB. HALMAHERA SELATAN"
          ],
          [
           "KAB. HALMAHERA TENGAH"
          ],
          [
           "KAB. HULU SUNGAI SELATAN"
          ],
          [
           "KAB. HUMBANG HASUNDUTAN"
          ],
          [
           "KAB. INDRAGIRI HILIR"
          ],
          [
           "KAB. INDRAMAYU"
          ],
          [
           "KAB. INTAN JAYA"
          ],
          [
           "KAB. JAYAPURA"
          ],
          [
           "KAB. JAYAWIJAYA"
          ],
          [
           "KAB. JEMBER"
          ],
          [
           "KAB. JEMBRANA"
          ],
          [
           "KAB. JENEPONTO"
          ],
          [
           "KAB. JEPARA"
          ],
          [
           "KAB. JOMBANG"
          ],
          [
           "KAB. KAIMANA"
          ],
          [
           "KAB. KAMPAR"
          ],
          [
           "KAB. KAPUAS"
          ],
          [
           "KAB. KAPUAS HULU"
          ],
          [
           "KAB. KARANGANYAR"
          ],
          [
           "KAB. KARANGASEM"
          ],
          [
           "KAB. KARAWANG"
          ],
          [
           "KAB. KARIMUN"
          ],
          [
           "KAB. KARO"
          ],
          [
           "KAB. KATINGAN"
          ],
          [
           "KAB. KAYONG UTARA"
          ],
          [
           "KAB. KEBUMEN"
          ],
          [
           "KAB. KEDIRI"
          ],
          [
           "KAB. KEEROM"
          ],
          [
           "KAB. KEPAHIANG"
          ],
          [
           "KAB. KEPULAUAN ANAMBAS"
          ],
          [
           "KAB. KEPULAUAN ARU"
          ],
          [
           "KAB. KEPULAUAN MERANTI"
          ],
          [
           "KAB. KEPULAUAN SULA"
          ],
          [
           "KAB. KEPULAUAN TALAUD"
          ],
          [
           "KAB. KEPULAUAN TANIMBAR"
          ],
          [
           "KAB. KEPULAUAN YAPEN"
          ],
          [
           "KAB. KERINCI"
          ],
          [
           "KAB. KETAPANG"
          ],
          [
           "KAB. KOLAKA"
          ],
          [
           "KAB. KOLAKA TIMUR"
          ],
          [
           "KAB. KOLAKA UTARA"
          ],
          [
           "KAB. KONAWE"
          ],
          [
           "KAB. KONAWE SELATAN"
          ],
          [
           "KAB. KONAWE UTARA"
          ],
          [
           "KAB. KOTABARU"
          ],
          [
           "KAB. KOTAWARINGIN TIMUR"
          ],
          [
           "KAB. KUANTAN SINGINGI"
          ],
          [
           "KAB. KUBU RAYA"
          ],
          [
           "KAB. KULON PROGO"
          ],
          [
           "KAB. KUNINGAN"
          ],
          [
           "KAB. KUPANG"
          ],
          [
           "KAB. KUTAI BARAT"
          ],
          [
           "KAB. KUTAI KARTANEGARA"
          ],
          [
           "KAB. KUTAI TIMUR"
          ],
          [
           "KAB. LABUHANBATU"
          ],
          [
           "KAB. LABUHANBATU SELATAN"
          ],
          [
           "KAB. LAMANDAU"
          ],
          [
           "KAB. LAMONGAN"
          ],
          [
           "KAB. LAMPUNG BARAT"
          ],
          [
           "KAB. LAMPUNG SELATAN"
          ],
          [
           "KAB. LAMPUNG TENGAH"
          ],
          [
           "KAB. LAMPUNG TIMUR"
          ],
          [
           "KAB. LAMPUNG UTARA"
          ],
          [
           "KAB. LANDAK"
          ],
          [
           "KAB. LANGKAT"
          ],
          [
           "KAB. LANNY JAYA"
          ],
          [
           "KAB. LEBAK"
          ],
          [
           "KAB. LEBONG"
          ],
          [
           "KAB. LIMAPULUH KOTA"
          ],
          [
           "KAB. LINGGA"
          ],
          [
           "KAB. LOMBOK BARAT"
          ],
          [
           "KAB. LOMBOK TENGAH"
          ],
          [
           "KAB. LOMBOK UTARA"
          ],
          [
           "KAB. LUMAJANG"
          ],
          [
           "KAB. LUWU"
          ],
          [
           "KAB. LUWU TIMUR"
          ],
          [
           "KAB. LUWU UTARA"
          ],
          [
           "KAB. MADIUN"
          ],
          [
           "KAB. MAGELANG"
          ],
          [
           "KAB. MAGETAN"
          ],
          [
           "KAB. MAHAKAM ULU"
          ],
          [
           "KAB. MAJENE"
          ],
          [
           "KAB. MALAKA"
          ],
          [
           "KAB. MALANG"
          ],
          [
           "KAB. MALINAU"
          ],
          [
           "KAB. MALUKU BARAT DAYA"
          ],
          [
           "KAB. MALUKU TENGAH"
          ],
          [
           "KAB. MALUKU TENGGARA"
          ],
          [
           "KAB. MAMUJU"
          ],
          [
           "KAB. MAMUJU UTARA"
          ],
          [
           "KAB. MANDAILING NATAL"
          ],
          [
           "KAB. MANGGARAI TIMUR"
          ],
          [
           "KAB. MANOKWARI SELATAN"
          ],
          [
           "KAB. MAROS"
          ],
          [
           "KAB. MEMPAWAH"
          ],
          [
           "KAB. MERANGIN"
          ],
          [
           "KAB. MERAUKE"
          ],
          [
           "KAB. MESUJI"
          ],
          [
           "KAB. MIMIKA"
          ],
          [
           "KAB. MINAHASA"
          ],
          [
           "KAB. MINAHASA SELATAN"
          ],
          [
           "KAB. MINAHASA TENGGARA"
          ],
          [
           "KAB. MINAHASA UTARA"
          ],
          [
           "KAB. MOJOKERTO"
          ],
          [
           "KAB. MUARA ENIM"
          ],
          [
           "KAB. MUARO JAMBI"
          ],
          [
           "KAB. MUKOMUKO"
          ],
          [
           "KAB. MUNA BARAT"
          ],
          [
           "KAB. MURUNG RAYA"
          ],
          [
           "KAB. MUSI BANYUASIN"
          ],
          [
           "KAB. MUSI RAWAS"
          ],
          [
           "KAB. NABIRE"
          ],
          [
           "KAB. NAGAN RAYA"
          ],
          [
           "KAB. NAGEKEO"
          ],
          [
           "KAB. NATUNA"
          ],
          [
           "KAB. NDUGA"
          ],
          [
           "KAB. NGADA"
          ],
          [
           "KAB. NIAS"
          ],
          [
           "KAB. NIAS BARAT"
          ],
          [
           "KAB. NIAS SELATAN"
          ],
          [
           "KAB. NIAS UTARA"
          ],
          [
           "KAB. NUNUKAN"
          ],
          [
           "KAB. OGAN ILIR"
          ],
          [
           "KAB. OGAN KOMERING ILIR"
          ],
          [
           "KAB. OGAN KOMERING ULU"
          ],
          [
           "KAB. OKU TIMUR"
          ],
          [
           "KAB. PACITAN"
          ],
          [
           "KAB. PADANG LAWAS"
          ],
          [
           "KAB. PADANG PARIAMAN"
          ],
          [
           "KAB. PAKPAK BHARAT"
          ],
          [
           "KAB. PAMEKASAN"
          ],
          [
           "KAB. PANDEGLANG"
          ],
          [
           "KAB. PANGANDARAN"
          ],
          [
           "KAB. PANGKAJENE KEPULAUAN"
          ],
          [
           "KAB. PANIAI"
          ],
          [
           "KAB. PASAMAN"
          ],
          [
           "KAB. PASER"
          ],
          [
           "KAB. PASURUAN"
          ],
          [
           "KAB. PATI"
          ],
          [
           "KAB. PEGUNUNGAN ARFAK"
          ],
          [
           "KAB. PEGUNUNGAN BINTANG"
          ],
          [
           "KAB. PEKALONGAN"
          ],
          [
           "KAB. PELALAWAN"
          ],
          [
           "KAB. PEMALANG"
          ],
          [
           "KAB. PENAJAM PASER UTARA"
          ],
          [
           "KAB. PENUKAL ABAB LEMATANG ILIR"
          ],
          [
           "KAB. PESAWARAN"
          ],
          [
           "KAB. PESISIR BARAT"
          ],
          [
           "KAB. PESISIR SELATAN"
          ],
          [
           "KAB. PIDIE"
          ],
          [
           "KAB. PIDIE JAYA"
          ],
          [
           "KAB. PINRANG"
          ],
          [
           "KAB. POLEWALI MANDAR"
          ],
          [
           "KAB. PONOROGO"
          ],
          [
           "KAB. PRINGSEWU"
          ],
          [
           "KAB. PROBOLINGGO"
          ],
          [
           "KAB. PULANG PISAU"
          ],
          [
           "KAB. PULAU TALIABU"
          ],
          [
           "KAB. PURBALINGGA"
          ],
          [
           "KAB. RAJA AMPAT"
          ],
          [
           "KAB. REJANG LEBONG"
          ],
          [
           "KAB. ROKAN HULU"
          ],
          [
           "KAB. ROTE NDAO"
          ],
          [
           "KAB. SABU RAIJUA"
          ],
          [
           "KAB. SAMBAS"
          ],
          [
           "KAB. SAMOSIR"
          ],
          [
           "KAB. SAMPANG"
          ],
          [
           "KAB. SANGGAU"
          ],
          [
           "KAB. SANGIHE"
          ],
          [
           "KAB. SARMI"
          ],
          [
           "KAB. SAROLANGUN"
          ],
          [
           "KAB. SEKADAU"
          ],
          [
           "KAB. SELUMA"
          ],
          [
           "KAB. SEMARANG"
          ],
          [
           "KAB. SERAM BAGIAN BARAT"
          ],
          [
           "KAB. SERAM BAGIAN TIMUR"
          ],
          [
           "KAB. SERANG"
          ],
          [
           "KAB. SERDANG BEDAGAI"
          ],
          [
           "KAB. SIAK"
          ],
          [
           "KAB. SIDENRENG RAPPANG"
          ],
          [
           "KAB. SIDOARJO"
          ],
          [
           "KAB. SIGI"
          ],
          [
           "KAB. SIJUNJUNG"
          ],
          [
           "KAB. SIMALUNGUN"
          ],
          [
           "KAB. SIMEULUE"
          ],
          [
           "KAB. SINJAI"
          ],
          [
           "KAB. SINTANG"
          ],
          [
           "KAB. SLEMAN"
          ],
          [
           "KAB. SOLOK"
          ],
          [
           "KAB. SOLOK SELATAN"
          ],
          [
           "KAB. SOPPENG"
          ],
          [
           "KAB. SORONG SELATAN"
          ],
          [
           "KAB. SUBANG"
          ],
          [
           "KAB. SUKABUMI"
          ],
          [
           "KAB. SUKAMARA"
          ],
          [
           "KAB. SUMBA BARAT"
          ],
          [
           "KAB. SUMBA BARAT DAYA"
          ],
          [
           "KAB. SUMBA TENGAH"
          ],
          [
           "KAB. SUMBAWA"
          ],
          [
           "KAB. SUMBAWA BARAT"
          ],
          [
           "KAB. SUMEDANG"
          ],
          [
           "KAB. SUMENEP"
          ],
          [
           "KAB. TABALONG"
          ],
          [
           "KAB. TABANAN"
          ],
          [
           "KAB. TAKALAR"
          ],
          [
           "KAB. TAMBRAUW"
          ],
          [
           "KAB. TANA TIDUNG"
          ],
          [
           "KAB. TANAH BUMBU"
          ],
          [
           "KAB. TANAH DATAR"
          ],
          [
           "KAB. TANAH LAUT"
          ],
          [
           "KAB. TANGGAMUS"
          ],
          [
           "KAB. TANJUNG JABUNG TIMUR"
          ],
          [
           "KAB. TAPANULI SELATAN"
          ],
          [
           "KAB. TAPANULI TENGAH"
          ],
          [
           "KAB. TAPIN"
          ],
          [
           "KAB. TASIKMALAYA"
          ],
          [
           "KAB. TEBO"
          ],
          [
           "KAB. TEGAL"
          ],
          [
           "KAB. TELUK BINTUNI"
          ],
          [
           "KAB. TELUK WONDAMA"
          ],
          [
           "KAB. TIMOR TENGAH SELATAN"
          ],
          [
           "KAB. TIMOR TENGAH UTARA"
          ],
          [
           "KAB. TOJO UNA UNA"
          ],
          [
           "KAB. TRENGGALEK"
          ],
          [
           "KAB. TUBAN"
          ],
          [
           "KAB. TULANG BAWANG"
          ],
          [
           "KAB. TULUNGAGUNG"
          ],
          [
           "KAB. WAJO"
          ],
          [
           "KAB. WAKATOBI"
          ],
          [
           "KAB. WAY KANAN"
          ],
          [
           "KAB. WONOGIRI"
          ],
          [
           "KAB. WONOSOBO"
          ],
          [
           "KAB. YAHUKIMO"
          ],
          [
           "KAB. YALIMO"
          ],
          [
           "KOTA AMBON"
          ],
          [
           "KOTA BALIKPAPAN"
          ],
          [
           "KOTA BANDA ACEH"
          ],
          [
           "KOTA BANDUNG"
          ],
          [
           "KOTA BANJAR"
          ],
          [
           "KOTA BANJARBARU"
          ],
          [
           "KOTA BATAM"
          ],
          [
           "KOTA BATU"
          ],
          [
           "KOTA BENGKULU"
          ],
          [
           "KOTA BIMA"
          ],
          [
           "KOTA BITUNG"
          ],
          [
           "KOTA BLITAR"
          ],
          [
           "KOTA BOGOR"
          ],
          [
           "KOTA BONTANG"
          ],
          [
           "KOTA BUKIT TINGGI"
          ],
          [
           "KOTA CIMAHI"
          ],
          [
           "KOTA GUNUNGSITOLI"
          ],
          [
           "KOTA JAMBI"
          ],
          [
           "KOTA JAYAPURA"
          ],
          [
           "KOTA KENDARI"
          ],
          [
           "KOTA KOTAMOBAGU"
          ],
          [
           "KOTA KUPANG"
          ],
          [
           "KOTA LANGSA"
          ],
          [
           "KOTA LHOKSEUMAWE"
          ],
          [
           "KOTA MADIUN"
          ],
          [
           "KOTA MAGELANG"
          ],
          [
           "KOTA MAKASSAR"
          ],
          [
           "KOTA MALANG"
          ],
          [
           "KOTA MANADO"
          ],
          [
           "KOTA MATARAM"
          ],
          [
           "KOTA MEDAN"
          ],
          [
           "KOTA METRO"
          ],
          [
           "KOTA MOJOKERTO"
          ],
          [
           "KOTA PAGAR ALAM"
          ],
          [
           "KOTA PALEMBANG"
          ],
          [
           "KOTA PALOPO"
          ],
          [
           "KOTA PALU"
          ],
          [
           "KOTA PANGKAL PINANG"
          ],
          [
           "KOTA PARE-PARE"
          ],
          [
           "KOTA PARIAMAN"
          ],
          [
           "KOTA PAYAKUMBUH"
          ],
          [
           "KOTA PEMATANG SIANTAR"
          ],
          [
           "KOTA PRABUMULIH"
          ],
          [
           "KOTA PROBOLINGGO"
          ],
          [
           "KOTA SALATIGA"
          ],
          [
           "KOTA SAMARINDA"
          ],
          [
           "KOTA SEMARANG"
          ],
          [
           "KOTA SIBOLGA"
          ],
          [
           "KOTA SINGKAWANG"
          ],
          [
           "KOTA SOLOK"
          ],
          [
           "KOTA SUKABUMI"
          ],
          [
           "KOTA SUNGAI PENUH"
          ],
          [
           "KOTA TANGERANG"
          ],
          [
           "KOTA TANGERANG SELATAN"
          ],
          [
           "KOTA TANJUNG BALAI"
          ],
          [
           "KOTA TANJUNG PINANG"
          ],
          [
           "KOTA TARAKAN"
          ],
          [
           "KOTA TASIKMALAYA"
          ],
          [
           "KOTA TEBING TINGGI"
          ],
          [
           "KOTA TEGAL"
          ],
          [
           "KOTA TERNATE"
          ],
          [
           "KOTA TOMOHON"
          ],
          [
           "PROVINSI ACEH"
          ],
          [
           "PROVINSI BALI"
          ],
          [
           "PROVINSI BANGKA BELITUNG"
          ],
          [
           "PROVINSI BENGKULU"
          ],
          [
           "PROVINSI DI YOGYAKARTA"
          ],
          [
           "PROVINSI DKI JAKARTA"
          ],
          [
           "PROVINSI GORONTALO"
          ],
          [
           "PROVINSI JAMBI"
          ],
          [
           "PROVINSI JAWA BARAT"
          ],
          [
           "PROVINSI JAWA TIMUR"
          ],
          [
           "PROVINSI KALIMANTAN BARAT"
          ],
          [
           "PROVINSI KALIMANTAN SELATAN"
          ],
          [
           "PROVINSI KALIMANTAN TENGAH"
          ],
          [
           "PROVINSI KALIMANTAN TIMUR"
          ],
          [
           "PROVINSI KALIMANTAN UTARA"
          ],
          [
           "PROVINSI KEPULAUAN RIAU"
          ],
          [
           "PROVINSI MALUKU"
          ],
          [
           "PROVINSI MALUKU UTARA"
          ],
          [
           "PROVINSI NUSA TENGGARA BARAT"
          ],
          [
           "PROVINSI NUSA TENGGARA TIMUR"
          ],
          [
           "PROVINSI PAPUA"
          ],
          [
           "PROVINSI PAPUA BARAT"
          ],
          [
           "PROVINSI SULAWESI BARAT"
          ],
          [
           "PROVINSI SULAWESI SELATAN"
          ],
          [
           "PROVINSI SULAWESI TENGAH"
          ],
          [
           "PROVINSI SULAWESI TENGGARA"
          ],
          [
           "PROVINSI SULAWESI UTARA"
          ],
          [
           "PROVINSI SUMATERA BARAT"
          ],
          [
           "PROVINSI SUMATERA SELATAN"
          ],
          [
           "PROVINSI SUMATERA UTARA"
          ]
         ],
         "hovertemplate": "risiko_defisit=%{x}<br>risiko_mandatory_spending=%{y}<br>risiko_keselarasan=%{z}<br>nama_pemda=%{customdata[0]}<br>cluster=%{marker.color}<extra></extra>",
         "legendgroup": "",
         "marker": {
          "color": [
           1,
           1,
           1,
           1,
           1,
           1,
           1,
           1,
           1,
           1,
           1,
           1,
           2,
           4,
           1,
           1,
           1,
           1,
           1,
           1,
           1,
           1,
           1,
           1,
           1,
           4,
           1,
           1,
           1,
           1,
           1,
           1,
           1,
           1,
           1,
           4,
           1,
           1,
           4,
           1,
           1,
           2,
           1,
           2,
           1,
           1,
           1,
           1,
           1,
           1,
           1,
           3,
           5,
           1,
           4,
           4,
           1,
           2,
           1,
           4,
           1,
           4,
           2,
           2,
           1,
           1,
           1,
           1,
           1,
           5,
           4,
           3,
           1,
           1,
           4,
           1,
           1,
           1,
           1,
           1,
           1,
           4,
           1,
           1,
           1,
           1,
           1,
           1,
           1,
           3,
           1,
           1,
           1,
           4,
           1,
           1,
           1,
           1,
           1,
           1,
           1,
           1,
           4,
           4,
           4,
           1,
           1,
           1,
           1,
           1,
           4,
           1,
           1,
           1,
           1,
           1,
           1,
           1,
           1,
           1,
           1,
           1,
           1,
           1,
           4,
           1,
           1,
           1,
           1,
           4,
           1,
           1,
           1,
           3,
           5,
           1,
           1,
           1,
           1,
           4,
           4,
           4,
           1,
           1,
           1,
           1,
           1,
           1,
           1,
           1,
           1,
           4,
           1,
           1,
           4,
           2,
           1,
           1,
           1,
           2,
           1,
           4,
           1,
           1,
           1,
           4,
           1,
           1,
           1,
           1,
           2,
           1,
           4,
           4,
           1,
           1,
           5,
           1,
           1,
           4,
           1,
           2,
           1,
           1,
           1,
           4,
           1,
           1,
           1,
           1,
           4,
           1,
           1,
           1,
           1,
           1,
           1,
           1,
           5,
           1,
           1,
           1,
           1,
           1,
           1,
           4,
           1,
           1,
           1,
           1,
           1,
           1,
           1,
           1,
           1,
           1,
           1,
           2,
           1,
           2,
           4,
           1,
           2,
           1,
           4,
           1,
           2,
           5,
           1,
           1,
           1,
           1,
           1,
           1,
           4,
           1,
           5,
           1,
           1,
           3,
           1,
           1,
           4,
           4,
           1,
           4,
           1,
           1,
           5,
           1,
           1,
           1,
           2,
           1,
           1,
           3,
           1,
           1,
           1,
           4,
           1,
           1,
           3,
           1,
           1,
           1,
           1,
           1,
           1,
           1,
           2,
           1,
           1,
           4,
           2,
           1,
           4,
           1,
           1,
           2,
           4,
           2,
           1,
           3,
           1,
           1,
           1,
           1,
           1,
           4,
           1,
           3,
           1,
           1,
           2,
           3,
           1,
           1,
           1,
           2,
           1,
           1,
           1,
           1,
           1,
           5,
           1,
           1,
           1,
           1,
           1,
           4,
           1,
           1,
           1,
           1,
           1,
           1,
           4,
           1,
           1,
           3,
           1,
           1,
           1,
           1,
           3,
           1,
           1,
           1,
           4,
           1,
           1,
           2,
           4,
           2,
           1,
           3,
           1,
           1,
           4,
           1,
           1,
           1,
           1,
           4,
           1,
           4,
           1,
           1,
           1,
           1,
           4,
           1,
           1,
           1,
           1,
           5,
           4,
           1,
           4,
           1,
           4,
           4,
           2,
           2,
           2,
           1,
           3,
           1,
           1,
           1,
           1,
           3,
           5,
           1,
           1,
           1,
           1,
           2,
           4,
           1,
           2,
           2,
           1,
           2,
           1,
           3,
           3,
           1,
           1,
           1,
           3,
           1,
           1,
           1,
           1,
           1,
           3,
           1,
           1,
           1,
           1,
           1,
           1,
           1,
           1,
           1,
           1,
           1,
           1,
           1,
           1,
           1,
           1,
           1,
           1
          ],
          "coloraxis": "coloraxis",
          "symbol": "circle"
         },
         "mode": "markers",
         "name": "",
         "scene": "scene",
         "showlegend": false,
         "type": "scatter3d",
         "x": [
          100.19276806005341,
          104.10204361159774,
          111.28455608682613,
          105.46606290884901,
          102.55488785234176,
          101.38442244900105,
          100.56222298510691,
          100.57510825393076,
          104.55948152702457,
          104.12045652952129,
          100,
          100.86013820077689,
          106.41601109370656,
          99.62473416153227,
          100.92049733961261,
          100,
          108.81325717229105,
          112.26150159611133,
          109.1138818060321,
          107.34984113041928,
          102.58653238169764,
          105.11451745425045,
          99.50143621096376,
          111.5968212244668,
          114.90618653539669,
          106.29204964267782,
          107.79709193138555,
          103.92985425358926,
          99.86378632979505,
          104.88167763349472,
          94.35839275923853,
          100.5351219770247,
          101.83045081104956,
          104.3704441379148,
          103.95541839084848,
          100.81834365859301,
          103.38986957770344,
          112.43978102037266,
          103.24204006812458,
          100.79550637229629,
          114.97809783430985,
          104.0995466656488,
          103.12503864167357,
          102.12490693857123,
          100,
          102.32636343050679,
          101.67121275676988,
          103.50045639938692,
          100.63819670910472,
          102.9910144787745,
          110.04953147512228,
          108.10399787753397,
          143.3811494037246,
          102.70434943559594,
          101.99210531618601,
          101.94048849301387,
          103.39962426088887,
          102.3877571676348,
          99.9968556347622,
          102.3680429314493,
          107.80299683564571,
          101.59020154354246,
          100.41152423682738,
          100.96295672658617,
          99.31363051871607,
          102.45629296878411,
          98.63975506342723,
          97.44590974960005,
          107.24397840116583,
          130.30814680371014,
          100.89048894358874,
          102.98114978835578,
          103.29756130381276,
          92.76480910597168,
          100.64246931306936,
          104.44195543058055,
          106.7427333273699,
          102.51755995025238,
          99.67339375981422,
          99.80184327714245,
          110.51237347917765,
          93.44456400536497,
          104.39418286385921,
          99.75467894629631,
          106.67676570584517,
          108.53228697739343,
          111.50149062398427,
          107.07577663522953,
          105.22744471083494,
          104.2360798268519,
          108.14438312612768,
          97.08039687636646,
          115.18962775810384,
          113.25136879811284,
          102.84260483960783,
          111.91205390123467,
          102.0976147741515,
          99.90300599720791,
          106.88619305450813,
          105.24073280901783,
          115.38758264589055,
          103.55447230194707,
          100.08263196200488,
          106.8665424288412,
          105.72797037628467,
          110.14420841150712,
          102.3325145287019,
          112.96655286968517,
          101.27642532792571,
          100.8297633592589,
          103.0756777744392,
          103.87045324602244,
          102.92674170381824,
          100.74716821038156,
          114.07992339684962,
          102.7598457738959,
          103.55760320261302,
          114.95958346359876,
          97.6025876979433,
          108.51603444669638,
          103.24025244869108,
          100.42214171814237,
          120.97696189617069,
          103.38702581818413,
          110.24652386045055,
          109.32531878816339,
          118.6685580379508,
          101.41147371871972,
          104.43557198984672,
          100.32836825233191,
          108.4259825854596,
          103.06427127299295,
          97.8255199734939,
          118.5800255124994,
          130.19442251158583,
          105.64584522212692,
          103.37831937126687,
          101.68684824131171,
          108.17884046334045,
          100.50632550240253,
          99.18060488528741,
          105.76249287605945,
          99.6992065280968,
          110.49537107924334,
          99.83076317467913,
          101.61352704540118,
          104.3141775603343,
          114.45004169693817,
          104.73293217907451,
          107.4871508365703,
          102.66559367345354,
          104.6772324516166,
          106.92740008160911,
          106.9032792000423,
          103.38664601505891,
          99.84251687272206,
          101.28199775097922,
          102.2582956230693,
          100.71629848360486,
          102.08180844246897,
          101.71856845044354,
          97.81588828374139,
          108.08081650612536,
          99.62052090071498,
          106.50537946218716,
          100.72970726023169,
          102.99788077779802,
          113.25749681256849,
          104.14762270302649,
          105.50918694121043,
          104.65685796611413,
          100,
          100.17555288939441,
          102.78494084484964,
          107.8431634698735,
          108.63712432312589,
          126.34133757115048,
          101.99724623816833,
          109.51301443852306,
          101.89257361902754,
          102.38811422862632,
          100.87085795673913,
          111.99547034428734,
          87.76757300898484,
          100.89123780183348,
          105.75990901644722,
          98.22231899263605,
          99.66734411159494,
          107.93177164571908,
          107.05627666533913,
          105.07558409471312,
          99.83641319984856,
          98.52550963659242,
          100.20128623490156,
          104.2012422070843,
          103.21123590248204,
          103.34907737758824,
          102.48514186002431,
          133.82711713929143,
          104.5948384928899,
          92.68969049716559,
          100.59158074700636,
          96.58305545547722,
          101.47627464710052,
          104.70977012627371,
          101.61970789893257,
          96.26436008498017,
          118.49504821045949,
          103.30849121577856,
          104.57001205258835,
          102.91790099147038,
          117.02412454480178,
          102.92982199847278,
          99.90109087173818,
          106.5691096242085,
          105.81742328188078,
          98.53254310858412,
          100.94616907175198,
          103.33580613800196,
          104.10042778450257,
          103.70711616992413,
          120.8234882842711,
          100.668319650789,
          100.47019460236417,
          100.65770033737267,
          107.5748137754639,
          104.54823358992601,
          149.23315959966266,
          107.68128320023489,
          103.36363320888292,
          99.88509811702612,
          100,
          100.20312038458931,
          124.48667837359775,
          101.61315421321788,
          94.79072544840685,
          127.46183367394246,
          112.11452513605711,
          99.55183464205713,
          101.88531571096908,
          104.50015547354647,
          99.88596188119533,
          103.77720858812592,
          100,
          109.56394378772605,
          103.35834315488206,
          105.4361696303079,
          104.06105705109012,
          156.32925447040847,
          102.84673705536058,
          99.92592592592592,
          99.74679979804384,
          100.8889676774468,
          101.5959292435834,
          107.50551179411325,
          98.98929681045477,
          102.47378769364744,
          113.85802849818158,
          109.0945884456838,
          107.11831326606394,
          99.51234331256785,
          103.63253713073952,
          106.2847799700757,
          104.09955009607359,
          104.8990062741179,
          107.60070655985159,
          100,
          104.90839054455647,
          99.092330456165,
          109.34752082819605,
          101.87420816566797,
          121.0207587458807,
          105.4428465032944,
          107.3631163613007,
          99.77958640098782,
          101.77672289755503,
          102.53010542165659,
          100.7074535515381,
          104.95002859991101,
          103.61918396972402,
          110.44560026184665,
          106.76076909004529,
          109.29919730504145,
          102.9836063689813,
          99.32525383533395,
          107.67438144311525,
          99.189104996078,
          108.64581127760819,
          102.93753447657248,
          101.32114232872762,
          104.11875018525186,
          99.55543652685385,
          112.55795135388375,
          112.68402848676935,
          103.3743036783235,
          120.6701358276059,
          92.51679696616546,
          104.87039512575396,
          108.14716956113438,
          104.41940130405347,
          109.43716269682908,
          104.01466295758442,
          106.41015899750796,
          108.23458827871377,
          97.50465983792068,
          152.91037156478097,
          102.92763286615025,
          99.69477737097449,
          106.6206847940589,
          100,
          102.0916959315744,
          99.99999999997038,
          104.60786214047249,
          103.88988737453239,
          112.96418163382731,
          106.17396299559626,
          103.03393418067488,
          106.30304793036925,
          98.00444197430139,
          105.52691176071119,
          100.18545357923598,
          104.34181731881387,
          103.23284762910374,
          101.19116239413839,
          100,
          100.1552195039487,
          106.10001086423956,
          100.34199932196626,
          100.81505284015945,
          105.09500541271153,
          101.26287542716013,
          102.70269413563437,
          121.24451302184858,
          93.49929770179173,
          101.70364531518355,
          100.28403742050047,
          116.5023093911602,
          108.28655798106755,
          114.10826100803683,
          117.39405683071737,
          115.74959059137436,
          104.0626675105534,
          104.90343231221576,
          101.6411376567806,
          118.74994000042092,
          103.31861674122,
          101.94075054196581,
          100.29243141916604,
          104.05771767251349,
          117.79378740287738,
          109.50453174252148,
          118.05131376492952,
          106.8517902290899,
          118.04627402655994,
          100.9002103044147,
          104.67129726804862,
          103.90324943684189,
          136.1996613931283,
          104.35983664092319,
          99.19476823810605,
          102.50644466082441,
          118.8487397142614,
          103.80620904685756,
          101.89095185156127,
          104.86275519917172,
          108.08623591184423,
          106.76355151948671,
          113.36504959904634,
          117.6575665886649,
          104.4612604276836,
          111.28222560336279,
          103.86478857368952,
          115.00786023646556,
          92.61115472962832,
          137.42904152113047,
          101.76485912686822,
          105.97784945029363,
          110.24099266624923,
          105.59280462890031,
          100.24257144404811,
          109.08345799854587,
          105.92063401674213,
          105.00498328662728,
          100.15981899419815,
          107.33672268540526,
          100,
          112.34127836316401,
          121.1014062693053,
          120.9692089257375,
          107.89239251801801,
          102.85142006746564,
          107.39543330759051,
          99.21116416698268,
          98.98573666313982,
          113.7721317176163,
          99.95191611568237,
          106.55767305971646,
          105.4049155991338,
          99.4425721000447,
          100.4725665495364,
          105.89194042757985,
          112.05004614125784,
          111.20585620869893,
          107.68874758133691,
          103.82098393669892,
          110.41844690913555,
          108.42803409404766,
          109.83443049892887,
          107.38942310370085,
          110.32170286815915,
          98.76562390812663,
          108.98117353715064,
          124.13360519709067,
          95.43843079271454,
          104.72631183668852,
          98.62560945467955,
          105.31152088129714
         ],
         "y": [
          10.126855673501073,
          6.075783969025052,
          6.857150148972158,
          7.285982054539282,
          9.982984533252555,
          7.39938191105681,
          8.966343429806482,
          6.45392706419665,
          5.7014759778666475,
          6.825985618516776,
          6.400314110013072,
          6.781156452325442,
          7.099435253117709,
          12.441639346527078,
          7.101875800929744,
          10.205699523880845,
          12.540824525064721,
          6.215074977815383,
          5.020623442123187,
          9.790162635997886,
          7.4659798555147265,
          6.07286377650684,
          4.677691386879207,
          7.95512498289836,
          9.02876370122866,
          9.364691571401352,
          7.631334278259901,
          7.4599646886578235,
          8.611705670286025,
          10.18689002987525,
          8.444293838036865,
          8.805801385694679,
          7.948431902446828,
          5.643252616038599,
          9.189792324125015,
          9.899489001851517,
          9.227471733125977,
          7.410423384527604,
          11.345093504295956,
          6.026704477450004,
          7.412786076453019,
          5.151971827181339,
          6.918052914354655,
          6.7937431408426345,
          8.632625992100643,
          10.967114380107269,
          7.817760742689177,
          7.36177769165811,
          6.256759561715665,
          6.482248815679656,
          6.476423143070962,
          26.23378671613365,
          6.231245560541442,
          8.21351976561958,
          12.028252995143973,
          12.833063355700638,
          8.250497623004701,
          7.560825686762833,
          7.806753128571279,
          10.148098819066433,
          6.652096009239511,
          12.803902629663094,
          8.42079644158108,
          7.870560517610429,
          7.8457417926966135,
          5.60434156092002,
          8.197804871781596,
          9.025372189159647,
          9.89193598465829,
          5.912469448115662,
          16.481256520361065,
          32.03454926014881,
          8.197042665845462,
          8.929444508037648,
          9.412440822039713,
          8.14982405584171,
          8.39509647824159,
          7.111596426422883,
          8.097731856176464,
          10.348317940034043,
          11.06902444113092,
          10.238188754769531,
          8.410682672023862,
          9.229594850753394,
          8.659626262558291,
          5.496991307025799,
          9.410873556760016,
          8.886831436578136,
          7.491945396056545,
          29.41161305626639,
          8.43195245523066,
          9.83212386027314,
          7.956721709381251,
          11.1075858967855,
          7.603754817176462,
          5.043831962684566,
          7.51577294360077,
          5.149569535987528,
          6.975232059646429,
          10.70399771008994,
          8.061645396436797,
          8.825290536124026,
          9.145899081373823,
          11.281671838839728,
          14.40755136265507,
          5.780514919280527,
          9.299728259400641,
          6.2115570048813336,
          6.741241398302689,
          6.541262779629236,
          8.611946255537347,
          8.535546210718975,
          5.905166978251248,
          5.81836951514661,
          7.551030119068411,
          9.773773934725927,
          5.77185041343535,
          6.733511495466988,
          6.621553674920713,
          6.297838850487205,
          5.696922107586014,
          8.312413278427265,
          5.370400615960687,
          8.527964967569151,
          14.877352893170643,
          7.400569537104218,
          7.655240244235719,
          5.866162961102453,
          8.405666294740819,
          11.076578773664407,
          8.598038923287923,
          7.140847021682822,
          6.2435674014558415,
          16.987775282073695,
          4.875114523973794,
          6.874896124916699,
          8.975116430055254,
          6.958397805486925,
          8.640322751967599,
          8.92182612831968,
          11.449648964298156,
          9.84182576999012,
          6.156179090005974,
          5.3269766708071,
          6.860873195213646,
          6.810700161157821,
          10.296019802222494,
          8.559553601069208,
          8.205560975927897,
          9.31717145105592,
          7.695047167780256,
          9.456193578379889,
          6.637852552351372,
          6.2412925088014735,
          10.805801407670785,
          2.452685977071734,
          10.278061599901584,
          7.46480615527779,
          5.827014602713174,
          5.627396337557093,
          8.29131797712273,
          10.727497588885115,
          8.447708350674137,
          7.623093491162644,
          8.777014689868729,
          9.449492603324034,
          10.830184057215526,
          7.602114499914576,
          6.90231346835565,
          7.113055848821144,
          6.526634109850177,
          7.045185013899099,
          9.933510110567306,
          10.48358391070631,
          7.820287885658293,
          7.528760689359411,
          7.217030803156755,
          7.907216173091602,
          5.84414271428278,
          10.252155020792664,
          11.035475806759301,
          7.401692667954848,
          11.13282858895252,
          4.430808157319429,
          8.383935184560478,
          12.400517627060736,
          7.259372777602715,
          7.19776155514906,
          11.025640211608746,
          5.532809440321926,
          9.458058306956044,
          6.098892390309103,
          7.301935782488989,
          9.324017543109537,
          6.421535162748842,
          8.862939939330104,
          5.73396214112333,
          7.867724689455317,
          11.61535888722531,
          7.2832043111654965,
          6.2980399467809836,
          6.821640789653996,
          9.000153159279336,
          5.924018288794362,
          7.588066082636869,
          19.073877891536554,
          9.531556878154664,
          10.76316690929423,
          10.370665729032664,
          12.313084337120815,
          10.493211846540806,
          10.604381352889536,
          5.858434942539338,
          6.932368881935163,
          7.044317546084709,
          5.880582803485433,
          7.403853382525618,
          7.759324473533281,
          6.630833939004751,
          7.236559238176728,
          20.829642682004575,
          6.86191014388562,
          7.181135567850173,
          11.379166198586127,
          11.55571163787325,
          9.45521790451435,
          8.677961644502968,
          6.758461605471306,
          8.983123580737004,
          8.159780457915987,
          7.396023286164931,
          7.941412008764234,
          7.401025882314676,
          4.62025523062139,
          10.307326834178848,
          6.760033041051915,
          6.722074368895548,
          6.83335355436376,
          5.5527734897623215,
          28.674423220936198,
          5.094170929828065,
          6.663200659527395,
          10.152909447904099,
          13.411138124322866,
          5.985736653346168,
          9.327318017129334,
          6.028229208687342,
          6.634206422451689,
          5.731545337905284,
          8.261714620291057,
          7.543058519236471,
          8.244791485120523,
          1.7302437245465945,
          9.561500603997457,
          7.452469050646629,
          24.728885825548993,
          5.697807861065912,
          9.521914034716561,
          8.071873309105289,
          8.70116892783189,
          9.781480672945605,
          7.4775483011411765,
          24.31873041351094,
          6.6903569194708385,
          7.9024882651446475,
          8.294439810749404,
          7.906515150379235,
          6.93506660732454,
          8.839650467104512,
          7.304951269208814,
          8.017082840340423,
          9.94253908499207,
          8.30593414107772,
          9.853262048638776,
          7.433349862520692,
          9.062631935254469,
          9.163595477281751,
          6.700974308493308,
          8.50184131726878,
          7.200053694330252,
          11.473846561041427,
          6.91122756192034,
          7.22437072566106,
          28.04889503284263,
          10.026744324422822,
          9.04829115080479,
          9.515289968949816,
          10.345245245865943,
          11.342989764755547,
          9.03426217409955,
          6.169306587656207,
          30.94756014599359,
          6.840653922373255,
          3.754761071685568,
          6.1931069639607035,
          15.123637815753668,
          15.58275394448255,
          8.27547925496612,
          8.67975227138919,
          5.759452228743861,
          5.816278300603338,
          6.173520958882484,
          6.250917094019659,
          6.927632326862598,
          8.464021641858587,
          4.9911593914004655,
          6.8718688910501795,
          10.601018711421426,
          8.123918459165376,
          4.968916006644964,
          6.94486109156667,
          13.979334247819857,
          12.14813964795714,
          7.759142676334093,
          6.96300548005647,
          6.302361128766984,
          9.44385694114018,
          6.467316431338588,
          9.246838080114847,
          10.274285961452389,
          7.644082956957951,
          34.692009196714125,
          7.808277033925888,
          8.717066754503733,
          6.230683753820307,
          6.37608987651012,
          24.062397238791988,
          10.189405264566968,
          8.875301080892461,
          4.921323054183365,
          10.76910413349772,
          8.183126540784407,
          6.795572516410038,
          6.585769172931185,
          9.500935796691222,
          7.998155380695325,
          8.579830788113547,
          25.4466308872261,
          5.153102919197506,
          8.70603183988936,
          12.22742334230685,
          6.750893276541703,
          8.792176589744283,
          8.622944128230213,
          7.923607263261649,
          10.071872870699497,
          7.246077566269675,
          12.361876916266915,
          7.185360857449414,
          7.381599596746433,
          6.0444326560264034,
          10.313082121409181,
          10.468230977181307,
          7.073452687868521,
          6.859589773038134,
          7.7858546698271205,
          6.023446825112046,
          7.011633633146113,
          9.655610172112553,
          7.375308654999096,
          10.87966016600527,
          5.811306852251742,
          9.482864754058303,
          12.916208260308,
          5.662033335882586,
          6.937996738230276,
          7.184947877174805,
          2.297509838247095,
          27.980319164502582,
          6.499695696231993,
          6.926655884428039,
          6.89749035472804,
          6.25180075589936,
          33.13781005960648,
          6.060847814430444,
          6.287710645599187,
          8.43799111341604,
          9.960762454270563,
          6.950236315907461,
          6.764663136709284,
          10.452604609720286,
          7.129941514923162,
          6.825076959875524,
          7.609528168219391,
          6.852011284647474,
          5.888178953245887,
          6.569286700170489,
          20.151128512878095,
          18.427956325019572,
          6.975453703381799,
          7.927672571584397,
          12.514421313895134,
          21.509704634778203,
          9.437792084975213,
          6.051090897937014,
          11.050899138610625,
          8.812376216925188,
          10.600998374419094,
          24.401691344354184,
          5.428688087713385,
          5.98378239577576,
          5.628954171291638,
          6.331915129686552,
          10.579758380827267,
          10.861465372753536,
          11.981520325112687,
          11.178902100148282,
          2.514322426613802,
          4.695660860090089,
          8.358894844207661,
          7.409384545336847,
          6.890671967673308,
          9.970097829363038,
          12.338851255877149,
          7.055440106818364,
          5.875529658094269,
          9.490693460853127
         ],
         "z": [
          14.151496918683016,
          21.000486097935063,
          19.60359003577952,
          19.140582502684687,
          21.310353857699425,
          22.84008742163926,
          21.16036820957789,
          21.406627860139587,
          20.525873691376745,
          19.249930973399238,
          22.931100144771268,
          21.17293626038232,
          26.76967828579763,
          23.028889339600525,
          24.54651407288705,
          16.257718185321618,
          22.151033605077394,
          19.785552308937845,
          20.37027491980289,
          21.754244746662494,
          18.66878660015739,
          19.94706748912444,
          18.66854110323227,
          22.88690272174239,
          20.57762901719024,
          25.144661514452626,
          20.095733171628787,
          22.728919289096908,
          23.392292212950668,
          18.32101005838461,
          19.19404396515617,
          19.866155880664998,
          23.771764779422345,
          21.420942108390697,
          22.11448121933674,
          28.86299924749859,
          23.75441801770294,
          20.607512093938006,
          24.926483950958787,
          19.127816690773884,
          16.607833013119432,
          26.014613614744437,
          22.52325961199319,
          25.882543231758593,
          16.897291371464977,
          19.67258573452487,
          24.473983394151876,
          23.078968091399357,
          21.420824396175718,
          24.21077680048961,
          20.816678017349304,
          18.625880084732756,
          12.519620034041093,
          23.54614136268531,
          23.029112633864816,
          23.041059002698198,
          16.66495819245338,
          27.12087385377241,
          24.97248859895637,
          25.565670710701994,
          22.83261672364219,
          23.83427511792719,
          25.594078107599465,
          25.652897085377255,
          22.159491709718623,
          16.364891694848595,
          22.51097668521504,
          18.258037219255257,
          20.442875223724684,
          14.3629266495223,
          26.551762962047505,
          24.42908260842554,
          24.181671866270708,
          16.11248964767372,
          25.012594327695,
          21.94874106945691,
          23.762625772975216,
          24.960567370317847,
          23.775442956958614,
          18.030356833326884,
          21.501990495526563,
          26.188455396531577,
          22.89932673731743,
          19.615210806702933,
          16.67739472744403,
          22.850199802567275,
          23.92279882505472,
          17.90740051754839,
          22.086148436204333,
          24.677180882568962,
          23.108772268059937,
          17.960904529878974,
          9.627162767406649,
          26.75312475080129,
          23.499700594899473,
          23.94464552592864,
          22.863813418669594,
          13.554758490364586,
          16.62935656202125,
          17.44829015778355,
          20.420503623732877,
          21.6355505164893,
          27.987034513073866,
          24.38994206166804,
          26.243540035026733,
          14.367835187675464,
          24.037650468728078,
          18.020464635702417,
          18.39083342092173,
          24.214476566133293,
          27.02870504467578,
          21.37528752530502,
          18.318709687838222,
          24.345721133326933,
          20.03079371545622,
          21.90501765395392,
          24.211378908939306,
          20.359438506768797,
          17.915204983970526,
          22.956465198767376,
          21.692234152977285,
          17.124315780266333,
          16.584597732224974,
          21.29353828393921,
          22.600667629861483,
          18.485270544993885,
          16.013096566575953,
          23.714934325678236,
          21.244673274113286,
          23.943060207062416,
          18.328142437604264,
          20.64883556810105,
          20.57955958800182,
          20.515239735955134,
          15.37955707764413,
          21.234391263605968,
          21.030143355533596,
          24.81632532521325,
          21.86493934723206,
          26.14378594447134,
          27.08497367770812,
          24.350802075921543,
          15.000411327198105,
          19.87866991816994,
          18.55833269061985,
          22.595765612906753,
          22.592925872895812,
          20.554252737087573,
          19.008332928266103,
          21.998095235629467,
          22.036824560428112,
          25.286700671776877,
          22.30314416520855,
          24.42008807864903,
          23.852937972721648,
          29.985754623714797,
          14.436543437522513,
          24.633947380260736,
          21.199861659201673,
          27.605356348986128,
          22.628359304140048,
          23.902592020443095,
          22.94768930638455,
          19.84273606167124,
          19.886982246462814,
          24.37858970571117,
          16.7846457556085,
          20.627604568892473,
          21.794787397821437,
          21.934237671288294,
          26.294086165602078,
          11.366064815412104,
          26.455471359598523,
          23.008352288871855,
          23.01087105516142,
          20.93702476097574,
          13.234003833812775,
          20.882453011059525,
          14.02657617901182,
          25.89014225698712,
          21.643748089764486,
          26.650096189782772,
          18.88484974301565,
          10.815408823247896,
          23.80698790431728,
          27.330738418249283,
          23.062635495981798,
          17.657898328462032,
          18.981964523565566,
          11.371975377991486,
          25.608439302692233,
          24.909329168471203,
          20.20417474469258,
          23.868761160869035,
          18.253469304456353,
          22.6706870317137,
          24.319449208899997,
          22.216495724348228,
          17.566300714169913,
          19.794932040451606,
          15.743225875096531,
          19.778097311237698,
          21.452647694554244,
          20.17675628323284,
          21.978512704299455,
          19.11305872026959,
          9.43029642227339,
          21.148594710285558,
          20.21075147545618,
          21.825358328831406,
          17.81897228627644,
          13.234309854435725,
          21.501158613805902,
          22.53608119270303,
          21.48741624651582,
          20.841373280829348,
          24.273670275955453,
          25.55949162441844,
          19.793429875381968,
          28.819185745503034,
          24.35494397491071,
          21.434777089808957,
          27.51945562331446,
          20.168874770942978,
          28.04908513576278,
          16.006527299565374,
          26.06265501495657,
          16.572789140096322,
          21.216705268822047,
          24.352488975603407,
          10.79601968081717,
          14.37223982529535,
          23.328889568422404,
          17.937396490245764,
          29.377047468464916,
          22.086016756008746,
          11.588814801074543,
          19.256934947339012,
          16.37586203302356,
          25.107062113357827,
          19.133976667150712,
          18.56708582287586,
          26.73450401304577,
          28.436669551795237,
          20.508275010986353,
          27.284029082878703,
          21.06322130612,
          23.706623134722182,
          8.309039328711709,
          23.772691720146987,
          16.88666586194511,
          24.754457457283394,
          24.58229710893115,
          22.867611141861197,
          18.631570098808393,
          20.677523417064897,
          20.451594442544263,
          21.911890719910055,
          19.837861822327092,
          26.623493423718912,
          14.63826521292993,
          21.795208063982518,
          22.28000117771468,
          23.55054897309975,
          21.6787772033294,
          22.487515505343545,
          19.368860204451543,
          23.652380795052835,
          23.59776335618415,
          20.851217727282368,
          25.102160857775505,
          17.194567787944223,
          23.94522626523539,
          26.89929200600554,
          27.219749502334583,
          20.820291575091105,
          26.46980706084706,
          21.049203938629972,
          19.381632943813653,
          28.896522494137123,
          25.03920745670792,
          28.6864181669648,
          19.08370291148271,
          26.00168752056528,
          21.087784121087363,
          19.581641376556632,
          16.950794541956434,
          18.66644504522327,
          19.699604552458265,
          25.831255455791748,
          21.29874065018868,
          27.255853503884712,
          23.318045658434713,
          20.51489617974314,
          26.33026350301647,
          25.256560688315226,
          11.977050907085932,
          23.378341445474017,
          15.189749144532488,
          27.072290534648744,
          20.979419940325492,
          19.40595475415147,
          21.211344447041363,
          20.585360460280516,
          23.09839476096566,
          16.74427052559216,
          23.667972597036005,
          21.56153795650281,
          22.3003292005418,
          8.982957291104883,
          14.512518792971793,
          36.66416028996,
          21.89784785258213,
          22.03668293802246,
          22.139164866626114,
          22.63899013492521,
          22.404560367681395,
          24.355665514542984,
          26.10506191991762,
          22.6607017853402,
          24.41540097440094,
          31.141332813495147,
          23.56916031241011,
          15.151548264955125,
          14.75087562330313,
          22.908844953102463,
          21.194633606335103,
          20.056729460003712,
          24.856674590530652,
          24.09066591641878,
          23.998670235623987,
          22.607183076412355,
          20.268661560084773,
          26.490531591431854,
          28.192830841478845,
          25.79385675062121,
          19.737028562951018,
          24.799316655223677,
          21.535469419381727,
          22.10378409454308,
          28.0597616279952,
          21.915357991873112,
          22.607956982308725,
          22.98511624535101,
          22.302928480921857,
          23.565757778952715,
          24.302022663557768,
          26.816185312331996,
          21.966929421887126,
          21.997014828161568,
          23.0409513920131,
          18.31438571153866,
          24.694352586046556,
          19.26904164851646,
          22.88522552272366,
          18.62034768208443,
          20.73940896544682,
          17.360929950478784,
          24.08468199168175,
          23.63806190790539,
          25.83890407871809,
          21.39769537251633,
          26.27751698191068,
          27.339005801034737,
          25.385750981826668,
          26.241894771999668,
          27.342645807169358,
          23.880018262266685,
          21.72136667787546,
          22.27945494820071,
          20.341758177441292,
          18.87037983884768,
          22.079156783549138,
          24.05719606990877,
          21.384328232654752,
          22.094473309060962,
          24.608356775239677,
          20.021696605225863,
          16.096537080174052,
          28.397057575550484,
          28.42028647856671,
          22.67554856260486,
          27.134013783587065,
          25.987027478424544,
          21.2177506893359,
          25.537028200417083,
          23.134069277534795,
          10.519040852825356,
          14.49649693190944,
          20.554328329873968,
          23.2897818205421,
          15.628438879708234,
          14.989115113638501,
          20.179097892824192,
          19.05270793562869,
          10.361136096945993,
          15.171215939531226,
          14.633325232254238,
          14.334827156972057,
          14.81226572279611,
          11.219525303594969,
          18.2260790060989,
          14.546458275102871,
          19.278623958272213,
          11.888098211876986,
          17.6375757400409,
          19.995326560933822,
          12.71721086925572,
          9.485154079283685,
          17.50137203787694,
          18.088376699909677,
          18.00630083041652,
          16.342267830723703,
          20.324229858509888,
          19.173998270901407,
          14.461321885335604,
          14.8780016388453
         ]
        }
       ],
       "layout": {
        "autosize": false,
        "coloraxis": {
         "colorbar": {
          "title": {
           "text": "cluster"
          }
         },
         "colorscale": [
          [
           0,
           "#0d0887"
          ],
          [
           0.1111111111111111,
           "#46039f"
          ],
          [
           0.2222222222222222,
           "#7201a8"
          ],
          [
           0.3333333333333333,
           "#9c179e"
          ],
          [
           0.4444444444444444,
           "#bd3786"
          ],
          [
           0.5555555555555556,
           "#d8576b"
          ],
          [
           0.6666666666666666,
           "#ed7953"
          ],
          [
           0.7777777777777778,
           "#fb9f3a"
          ],
          [
           0.8888888888888888,
           "#fdca26"
          ],
          [
           1,
           "#f0f921"
          ]
         ]
        },
        "height": 800,
        "legend": {
         "tracegroupgap": 0
        },
        "margin": {
         "b": 20,
         "l": 20,
         "r": 20,
         "t": 20
        },
        "scene": {
         "domain": {
          "x": [
           0,
           1
          ],
          "y": [
           0,
           1
          ]
         },
         "xaxis": {
          "title": {
           "text": "risiko_defisit"
          }
         },
         "yaxis": {
          "title": {
           "text": "risiko_mandatory_spending"
          }
         },
         "zaxis": {
          "title": {
           "text": "risiko_keselarasan"
          }
         }
        },
        "template": {
         "data": {
          "bar": [
           {
            "error_x": {
             "color": "#2a3f5f"
            },
            "error_y": {
             "color": "#2a3f5f"
            },
            "marker": {
             "line": {
              "color": "#E5ECF6",
              "width": 0.5
             },
             "pattern": {
              "fillmode": "overlay",
              "size": 10,
              "solidity": 0.2
             }
            },
            "type": "bar"
           }
          ],
          "barpolar": [
           {
            "marker": {
             "line": {
              "color": "#E5ECF6",
              "width": 0.5
             },
             "pattern": {
              "fillmode": "overlay",
              "size": 10,
              "solidity": 0.2
             }
            },
            "type": "barpolar"
           }
          ],
          "carpet": [
           {
            "aaxis": {
             "endlinecolor": "#2a3f5f",
             "gridcolor": "white",
             "linecolor": "white",
             "minorgridcolor": "white",
             "startlinecolor": "#2a3f5f"
            },
            "baxis": {
             "endlinecolor": "#2a3f5f",
             "gridcolor": "white",
             "linecolor": "white",
             "minorgridcolor": "white",
             "startlinecolor": "#2a3f5f"
            },
            "type": "carpet"
           }
          ],
          "choropleth": [
           {
            "colorbar": {
             "outlinewidth": 0,
             "ticks": ""
            },
            "type": "choropleth"
           }
          ],
          "contour": [
           {
            "colorbar": {
             "outlinewidth": 0,
             "ticks": ""
            },
            "colorscale": [
             [
              0,
              "#0d0887"
             ],
             [
              0.1111111111111111,
              "#46039f"
             ],
             [
              0.2222222222222222,
              "#7201a8"
             ],
             [
              0.3333333333333333,
              "#9c179e"
             ],
             [
              0.4444444444444444,
              "#bd3786"
             ],
             [
              0.5555555555555556,
              "#d8576b"
             ],
             [
              0.6666666666666666,
              "#ed7953"
             ],
             [
              0.7777777777777778,
              "#fb9f3a"
             ],
             [
              0.8888888888888888,
              "#fdca26"
             ],
             [
              1,
              "#f0f921"
             ]
            ],
            "type": "contour"
           }
          ],
          "contourcarpet": [
           {
            "colorbar": {
             "outlinewidth": 0,
             "ticks": ""
            },
            "type": "contourcarpet"
           }
          ],
          "heatmap": [
           {
            "colorbar": {
             "outlinewidth": 0,
             "ticks": ""
            },
            "colorscale": [
             [
              0,
              "#0d0887"
             ],
             [
              0.1111111111111111,
              "#46039f"
             ],
             [
              0.2222222222222222,
              "#7201a8"
             ],
             [
              0.3333333333333333,
              "#9c179e"
             ],
             [
              0.4444444444444444,
              "#bd3786"
             ],
             [
              0.5555555555555556,
              "#d8576b"
             ],
             [
              0.6666666666666666,
              "#ed7953"
             ],
             [
              0.7777777777777778,
              "#fb9f3a"
             ],
             [
              0.8888888888888888,
              "#fdca26"
             ],
             [
              1,
              "#f0f921"
             ]
            ],
            "type": "heatmap"
           }
          ],
          "heatmapgl": [
           {
            "colorbar": {
             "outlinewidth": 0,
             "ticks": ""
            },
            "colorscale": [
             [
              0,
              "#0d0887"
             ],
             [
              0.1111111111111111,
              "#46039f"
             ],
             [
              0.2222222222222222,
              "#7201a8"
             ],
             [
              0.3333333333333333,
              "#9c179e"
             ],
             [
              0.4444444444444444,
              "#bd3786"
             ],
             [
              0.5555555555555556,
              "#d8576b"
             ],
             [
              0.6666666666666666,
              "#ed7953"
             ],
             [
              0.7777777777777778,
              "#fb9f3a"
             ],
             [
              0.8888888888888888,
              "#fdca26"
             ],
             [
              1,
              "#f0f921"
             ]
            ],
            "type": "heatmapgl"
           }
          ],
          "histogram": [
           {
            "marker": {
             "pattern": {
              "fillmode": "overlay",
              "size": 10,
              "solidity": 0.2
             }
            },
            "type": "histogram"
           }
          ],
          "histogram2d": [
           {
            "colorbar": {
             "outlinewidth": 0,
             "ticks": ""
            },
            "colorscale": [
             [
              0,
              "#0d0887"
             ],
             [
              0.1111111111111111,
              "#46039f"
             ],
             [
              0.2222222222222222,
              "#7201a8"
             ],
             [
              0.3333333333333333,
              "#9c179e"
             ],
             [
              0.4444444444444444,
              "#bd3786"
             ],
             [
              0.5555555555555556,
              "#d8576b"
             ],
             [
              0.6666666666666666,
              "#ed7953"
             ],
             [
              0.7777777777777778,
              "#fb9f3a"
             ],
             [
              0.8888888888888888,
              "#fdca26"
             ],
             [
              1,
              "#f0f921"
             ]
            ],
            "type": "histogram2d"
           }
          ],
          "histogram2dcontour": [
           {
            "colorbar": {
             "outlinewidth": 0,
             "ticks": ""
            },
            "colorscale": [
             [
              0,
              "#0d0887"
             ],
             [
              0.1111111111111111,
              "#46039f"
             ],
             [
              0.2222222222222222,
              "#7201a8"
             ],
             [
              0.3333333333333333,
              "#9c179e"
             ],
             [
              0.4444444444444444,
              "#bd3786"
             ],
             [
              0.5555555555555556,
              "#d8576b"
             ],
             [
              0.6666666666666666,
              "#ed7953"
             ],
             [
              0.7777777777777778,
              "#fb9f3a"
             ],
             [
              0.8888888888888888,
              "#fdca26"
             ],
             [
              1,
              "#f0f921"
             ]
            ],
            "type": "histogram2dcontour"
           }
          ],
          "mesh3d": [
           {
            "colorbar": {
             "outlinewidth": 0,
             "ticks": ""
            },
            "type": "mesh3d"
           }
          ],
          "parcoords": [
           {
            "line": {
             "colorbar": {
              "outlinewidth": 0,
              "ticks": ""
             }
            },
            "type": "parcoords"
           }
          ],
          "pie": [
           {
            "automargin": true,
            "type": "pie"
           }
          ],
          "scatter": [
           {
            "fillpattern": {
             "fillmode": "overlay",
             "size": 10,
             "solidity": 0.2
            },
            "type": "scatter"
           }
          ],
          "scatter3d": [
           {
            "line": {
             "colorbar": {
              "outlinewidth": 0,
              "ticks": ""
             }
            },
            "marker": {
             "colorbar": {
              "outlinewidth": 0,
              "ticks": ""
             }
            },
            "type": "scatter3d"
           }
          ],
          "scattercarpet": [
           {
            "marker": {
             "colorbar": {
              "outlinewidth": 0,
              "ticks": ""
             }
            },
            "type": "scattercarpet"
           }
          ],
          "scattergeo": [
           {
            "marker": {
             "colorbar": {
              "outlinewidth": 0,
              "ticks": ""
             }
            },
            "type": "scattergeo"
           }
          ],
          "scattergl": [
           {
            "marker": {
             "colorbar": {
              "outlinewidth": 0,
              "ticks": ""
             }
            },
            "type": "scattergl"
           }
          ],
          "scattermapbox": [
           {
            "marker": {
             "colorbar": {
              "outlinewidth": 0,
              "ticks": ""
             }
            },
            "type": "scattermapbox"
           }
          ],
          "scatterpolar": [
           {
            "marker": {
             "colorbar": {
              "outlinewidth": 0,
              "ticks": ""
             }
            },
            "type": "scatterpolar"
           }
          ],
          "scatterpolargl": [
           {
            "marker": {
             "colorbar": {
              "outlinewidth": 0,
              "ticks": ""
             }
            },
            "type": "scatterpolargl"
           }
          ],
          "scatterternary": [
           {
            "marker": {
             "colorbar": {
              "outlinewidth": 0,
              "ticks": ""
             }
            },
            "type": "scatterternary"
           }
          ],
          "surface": [
           {
            "colorbar": {
             "outlinewidth": 0,
             "ticks": ""
            },
            "colorscale": [
             [
              0,
              "#0d0887"
             ],
             [
              0.1111111111111111,
              "#46039f"
             ],
             [
              0.2222222222222222,
              "#7201a8"
             ],
             [
              0.3333333333333333,
              "#9c179e"
             ],
             [
              0.4444444444444444,
              "#bd3786"
             ],
             [
              0.5555555555555556,
              "#d8576b"
             ],
             [
              0.6666666666666666,
              "#ed7953"
             ],
             [
              0.7777777777777778,
              "#fb9f3a"
             ],
             [
              0.8888888888888888,
              "#fdca26"
             ],
             [
              1,
              "#f0f921"
             ]
            ],
            "type": "surface"
           }
          ],
          "table": [
           {
            "cells": {
             "fill": {
              "color": "#EBF0F8"
             },
             "line": {
              "color": "white"
             }
            },
            "header": {
             "fill": {
              "color": "#C8D4E3"
             },
             "line": {
              "color": "white"
             }
            },
            "type": "table"
           }
          ]
         },
         "layout": {
          "annotationdefaults": {
           "arrowcolor": "#2a3f5f",
           "arrowhead": 0,
           "arrowwidth": 1
          },
          "autotypenumbers": "strict",
          "coloraxis": {
           "colorbar": {
            "outlinewidth": 0,
            "ticks": ""
           }
          },
          "colorscale": {
           "diverging": [
            [
             0,
             "#8e0152"
            ],
            [
             0.1,
             "#c51b7d"
            ],
            [
             0.2,
             "#de77ae"
            ],
            [
             0.3,
             "#f1b6da"
            ],
            [
             0.4,
             "#fde0ef"
            ],
            [
             0.5,
             "#f7f7f7"
            ],
            [
             0.6,
             "#e6f5d0"
            ],
            [
             0.7,
             "#b8e186"
            ],
            [
             0.8,
             "#7fbc41"
            ],
            [
             0.9,
             "#4d9221"
            ],
            [
             1,
             "#276419"
            ]
           ],
           "sequential": [
            [
             0,
             "#0d0887"
            ],
            [
             0.1111111111111111,
             "#46039f"
            ],
            [
             0.2222222222222222,
             "#7201a8"
            ],
            [
             0.3333333333333333,
             "#9c179e"
            ],
            [
             0.4444444444444444,
             "#bd3786"
            ],
            [
             0.5555555555555556,
             "#d8576b"
            ],
            [
             0.6666666666666666,
             "#ed7953"
            ],
            [
             0.7777777777777778,
             "#fb9f3a"
            ],
            [
             0.8888888888888888,
             "#fdca26"
            ],
            [
             1,
             "#f0f921"
            ]
           ],
           "sequentialminus": [
            [
             0,
             "#0d0887"
            ],
            [
             0.1111111111111111,
             "#46039f"
            ],
            [
             0.2222222222222222,
             "#7201a8"
            ],
            [
             0.3333333333333333,
             "#9c179e"
            ],
            [
             0.4444444444444444,
             "#bd3786"
            ],
            [
             0.5555555555555556,
             "#d8576b"
            ],
            [
             0.6666666666666666,
             "#ed7953"
            ],
            [
             0.7777777777777778,
             "#fb9f3a"
            ],
            [
             0.8888888888888888,
             "#fdca26"
            ],
            [
             1,
             "#f0f921"
            ]
           ]
          },
          "colorway": [
           "#636efa",
           "#EF553B",
           "#00cc96",
           "#ab63fa",
           "#FFA15A",
           "#19d3f3",
           "#FF6692",
           "#B6E880",
           "#FF97FF",
           "#FECB52"
          ],
          "font": {
           "color": "#2a3f5f"
          },
          "geo": {
           "bgcolor": "white",
           "lakecolor": "white",
           "landcolor": "#E5ECF6",
           "showlakes": true,
           "showland": true,
           "subunitcolor": "white"
          },
          "hoverlabel": {
           "align": "left"
          },
          "hovermode": "closest",
          "mapbox": {
           "style": "light"
          },
          "paper_bgcolor": "white",
          "plot_bgcolor": "#E5ECF6",
          "polar": {
           "angularaxis": {
            "gridcolor": "white",
            "linecolor": "white",
            "ticks": ""
           },
           "bgcolor": "#E5ECF6",
           "radialaxis": {
            "gridcolor": "white",
            "linecolor": "white",
            "ticks": ""
           }
          },
          "scene": {
           "xaxis": {
            "backgroundcolor": "#E5ECF6",
            "gridcolor": "white",
            "gridwidth": 2,
            "linecolor": "white",
            "showbackground": true,
            "ticks": "",
            "zerolinecolor": "white"
           },
           "yaxis": {
            "backgroundcolor": "#E5ECF6",
            "gridcolor": "white",
            "gridwidth": 2,
            "linecolor": "white",
            "showbackground": true,
            "ticks": "",
            "zerolinecolor": "white"
           },
           "zaxis": {
            "backgroundcolor": "#E5ECF6",
            "gridcolor": "white",
            "gridwidth": 2,
            "linecolor": "white",
            "showbackground": true,
            "ticks": "",
            "zerolinecolor": "white"
           }
          },
          "shapedefaults": {
           "line": {
            "color": "#2a3f5f"
           }
          },
          "ternary": {
           "aaxis": {
            "gridcolor": "white",
            "linecolor": "white",
            "ticks": ""
           },
           "baxis": {
            "gridcolor": "white",
            "linecolor": "white",
            "ticks": ""
           },
           "bgcolor": "#E5ECF6",
           "caxis": {
            "gridcolor": "white",
            "linecolor": "white",
            "ticks": ""
           }
          },
          "title": {
           "x": 0.05
          },
          "xaxis": {
           "automargin": true,
           "gridcolor": "white",
           "linecolor": "white",
           "ticks": "",
           "title": {
            "standoff": 15
           },
           "zerolinecolor": "white",
           "zerolinewidth": 2
          },
          "yaxis": {
           "automargin": true,
           "gridcolor": "white",
           "linecolor": "white",
           "ticks": "",
           "title": {
            "standoff": 15
           },
           "zerolinecolor": "white",
           "zerolinewidth": 2
          }
         }
        },
        "width": 1600
       }
      },
      "text/html": [
       "<div>                            <div id=\"7fe06dd2-4ffd-463c-98f9-7ec51ca7cd3b\" class=\"plotly-graph-div\" style=\"height:800px; width:1600px;\"></div>            <script type=\"text/javascript\">                require([\"plotly\"], function(Plotly) {                    window.PLOTLYENV=window.PLOTLYENV || {};                                    if (document.getElementById(\"7fe06dd2-4ffd-463c-98f9-7ec51ca7cd3b\")) {                    Plotly.newPlot(                        \"7fe06dd2-4ffd-463c-98f9-7ec51ca7cd3b\",                        [{\"customdata\":[[\"KAB KONAWE KEPULAUAN\"],[\"KAB. ACEH BARAT\"],[\"KAB. ACEH BARAT DAYA\"],[\"KAB. ACEH BESAR\"],[\"KAB. ACEH JAYA\"],[\"KAB. ACEH SELATAN\"],[\"KAB. ACEH SINGKIL\"],[\"KAB. ACEH TAMIANG\"],[\"KAB. ACEH TENGAH\"],[\"KAB. ACEH TENGGARA\"],[\"KAB. ACEH TIMUR\"],[\"KAB. ACEH UTARA\"],[\"KAB. AGAM\"],[\"KAB. ALOR\"],[\"KAB. ASAHAN\"],[\"KAB. ASMAT\"],[\"KAB. BADUNG\"],[\"KAB. BALANGAN\"],[\"KAB. BANDUNG\"],[\"KAB. BANDUNG BARAT\"],[\"KAB. BANGGAI\"],[\"KAB. BANGGAI KEPULAUAN\"],[\"KAB. BANGGAI LAUT\"],[\"KAB. BANGKA\"],[\"KAB. BANGKA BARAT\"],[\"KAB. BANGKA TENGAH\"],[\"KAB. BANGKALAN\"],[\"KAB. BANJARNEGARA\"],[\"KAB. BANTAENG\"],[\"KAB. BANTUL\"],[\"KAB. BANYUASIN\"],[\"KAB. BANYUWANGI\"],[\"KAB. BARITO KUALA\"],[\"KAB. BARITO TIMUR\"],[\"KAB. BARITO UTARA\"],[\"KAB. BARRU\"],[\"KAB. BATANG\"],[\"KAB. BATU BARA\"],[\"KAB. BELU\"],[\"KAB. BENER MERIAH\"],[\"KAB. BENGKALIS\"],[\"KAB. BENGKULU SELATAN\"],[\"KAB. BENGKULU TENGAH\"],[\"KAB. BENGKULU UTARA\"],[\"KAB. BERAU\"],[\"KAB. BIAK NUMFOR\"],[\"KAB. BIMA\"],[\"KAB. BINTAN\"],[\"KAB. BIREUEN\"],[\"KAB. BLITAR\"],[\"KAB. BLORA\"],[\"KAB. BOGOR\"],[\"KAB. BOJONEGORO\"],[\"KAB. BOLAANG MONGONDOW\"],[\"KAB. BOLAANG MONGONDOW TIMUR\"],[\"KAB. BOLAANG MONGONDOW UTARA\"],[\"KAB. BOMBANA\"],[\"KAB. BONDOWOSO\"],[\"KAB. BONE BOLANGO\"],[\"KAB. BULELENG\"],[\"KAB. BULUKUMBA\"],[\"KAB. BULUNGAN\"],[\"KAB. BUNGO\"],[\"KAB. BUOL\"],[\"KAB. BURU\"],[\"KAB. BURU SELATAN\"],[\"KAB. BUTON\"],[\"KAB. BUTON SELATAN\"],[\"KAB. BUTON TENGAH\"],[\"KAB. BUTON UTARA\"],[\"KAB. CIANJUR\"],[\"KAB. CIREBON\"],[\"KAB. DAIRI\"],[\"KAB. DEIYAI\"],[\"KAB. DELI SERDANG\"],[\"KAB. DEMAK\"],[\"KAB. DHARMASRAYA\"],[\"KAB. DOMPU\"],[\"KAB. DONGGALA\"],[\"KAB. EMPAT LAWANG\"],[\"KAB. ENDE\"],[\"KAB. ENREKANG\"],[\"KAB. GARUT\"],[\"KAB. GAYO LUES\"],[\"KAB. GIANYAR\"],[\"KAB. GORONTALO\"],[\"KAB. GOWA\"],[\"KAB. GRESIK\"],[\"KAB. GROBOGAN\"],[\"KAB. GUNUNG KIDUL\"],[\"KAB. GUNUNG MAS\"],[\"KAB. HALMAHERA SELATAN\"],[\"KAB. HALMAHERA TENGAH\"],[\"KAB. HULU SUNGAI SELATAN\"],[\"KAB. HUMBANG HASUNDUTAN\"],[\"KAB. INDRAGIRI HILIR\"],[\"KAB. INDRAMAYU\"],[\"KAB. INTAN JAYA\"],[\"KAB. JAYAPURA\"],[\"KAB. JAYAWIJAYA\"],[\"KAB. JEMBER\"],[\"KAB. JEMBRANA\"],[\"KAB. JENEPONTO\"],[\"KAB. JEPARA\"],[\"KAB. JOMBANG\"],[\"KAB. KAIMANA\"],[\"KAB. KAMPAR\"],[\"KAB. KAPUAS\"],[\"KAB. KAPUAS HULU\"],[\"KAB. KARANGANYAR\"],[\"KAB. KARANGASEM\"],[\"KAB. KARAWANG\"],[\"KAB. KARIMUN\"],[\"KAB. KARO\"],[\"KAB. KATINGAN\"],[\"KAB. KAYONG UTARA\"],[\"KAB. KEBUMEN\"],[\"KAB. KEDIRI\"],[\"KAB. KEEROM\"],[\"KAB. KEPAHIANG\"],[\"KAB. KEPULAUAN ANAMBAS\"],[\"KAB. KEPULAUAN ARU\"],[\"KAB. KEPULAUAN MERANTI\"],[\"KAB. KEPULAUAN SULA\"],[\"KAB. KEPULAUAN TALAUD\"],[\"KAB. KEPULAUAN TANIMBAR\"],[\"KAB. KEPULAUAN YAPEN\"],[\"KAB. KERINCI\"],[\"KAB. KETAPANG\"],[\"KAB. KOLAKA\"],[\"KAB. KOLAKA TIMUR\"],[\"KAB. KOLAKA UTARA\"],[\"KAB. KONAWE\"],[\"KAB. KONAWE SELATAN\"],[\"KAB. KONAWE UTARA\"],[\"KAB. KOTABARU\"],[\"KAB. KOTAWARINGIN TIMUR\"],[\"KAB. KUANTAN SINGINGI\"],[\"KAB. KUBU RAYA\"],[\"KAB. KULON PROGO\"],[\"KAB. KUNINGAN\"],[\"KAB. KUPANG\"],[\"KAB. KUTAI BARAT\"],[\"KAB. KUTAI KARTANEGARA\"],[\"KAB. KUTAI TIMUR\"],[\"KAB. LABUHANBATU\"],[\"KAB. LABUHANBATU SELATAN\"],[\"KAB. LAMANDAU\"],[\"KAB. LAMONGAN\"],[\"KAB. LAMPUNG BARAT\"],[\"KAB. LAMPUNG SELATAN\"],[\"KAB. LAMPUNG TENGAH\"],[\"KAB. LAMPUNG TIMUR\"],[\"KAB. LAMPUNG UTARA\"],[\"KAB. LANDAK\"],[\"KAB. LANGKAT\"],[\"KAB. LANNY JAYA\"],[\"KAB. LEBAK\"],[\"KAB. LEBONG\"],[\"KAB. LIMAPULUH KOTA\"],[\"KAB. LINGGA\"],[\"KAB. LOMBOK BARAT\"],[\"KAB. LOMBOK TENGAH\"],[\"KAB. LOMBOK UTARA\"],[\"KAB. LUMAJANG\"],[\"KAB. LUWU\"],[\"KAB. LUWU TIMUR\"],[\"KAB. LUWU UTARA\"],[\"KAB. MADIUN\"],[\"KAB. MAGELANG\"],[\"KAB. MAGETAN\"],[\"KAB. MAHAKAM ULU\"],[\"KAB. MAJENE\"],[\"KAB. MALAKA\"],[\"KAB. MALANG\"],[\"KAB. MALINAU\"],[\"KAB. MALUKU BARAT DAYA\"],[\"KAB. MALUKU TENGAH\"],[\"KAB. MALUKU TENGGARA\"],[\"KAB. MAMUJU\"],[\"KAB. MAMUJU UTARA\"],[\"KAB. MANDAILING NATAL\"],[\"KAB. MANGGARAI TIMUR\"],[\"KAB. MANOKWARI SELATAN\"],[\"KAB. MAROS\"],[\"KAB. MEMPAWAH\"],[\"KAB. MERANGIN\"],[\"KAB. MERAUKE\"],[\"KAB. MESUJI\"],[\"KAB. MIMIKA\"],[\"KAB. MINAHASA\"],[\"KAB. MINAHASA SELATAN\"],[\"KAB. MINAHASA TENGGARA\"],[\"KAB. MINAHASA UTARA\"],[\"KAB. MOJOKERTO\"],[\"KAB. MUARA ENIM\"],[\"KAB. MUARO JAMBI\"],[\"KAB. MUKOMUKO\"],[\"KAB. MUNA BARAT\"],[\"KAB. MURUNG RAYA\"],[\"KAB. MUSI BANYUASIN\"],[\"KAB. MUSI RAWAS\"],[\"KAB. NABIRE\"],[\"KAB. NAGAN RAYA\"],[\"KAB. NAGEKEO\"],[\"KAB. NATUNA\"],[\"KAB. NDUGA\"],[\"KAB. NGADA\"],[\"KAB. NIAS\"],[\"KAB. NIAS BARAT\"],[\"KAB. NIAS SELATAN\"],[\"KAB. NIAS UTARA\"],[\"KAB. NUNUKAN\"],[\"KAB. OGAN ILIR\"],[\"KAB. OGAN KOMERING ILIR\"],[\"KAB. OGAN KOMERING ULU\"],[\"KAB. OKU TIMUR\"],[\"KAB. PACITAN\"],[\"KAB. PADANG LAWAS\"],[\"KAB. PADANG PARIAMAN\"],[\"KAB. PAKPAK BHARAT\"],[\"KAB. PAMEKASAN\"],[\"KAB. PANDEGLANG\"],[\"KAB. PANGANDARAN\"],[\"KAB. PANGKAJENE KEPULAUAN\"],[\"KAB. PANIAI\"],[\"KAB. PASAMAN\"],[\"KAB. PASER\"],[\"KAB. PASURUAN\"],[\"KAB. PATI\"],[\"KAB. PEGUNUNGAN ARFAK\"],[\"KAB. PEGUNUNGAN BINTANG\"],[\"KAB. PEKALONGAN\"],[\"KAB. PELALAWAN\"],[\"KAB. PEMALANG\"],[\"KAB. PENAJAM PASER UTARA\"],[\"KAB. PENUKAL ABAB LEMATANG ILIR\"],[\"KAB. PESAWARAN\"],[\"KAB. PESISIR BARAT\"],[\"KAB. PESISIR SELATAN\"],[\"KAB. PIDIE\"],[\"KAB. PIDIE JAYA\"],[\"KAB. PINRANG\"],[\"KAB. POLEWALI MANDAR\"],[\"KAB. PONOROGO\"],[\"KAB. PRINGSEWU\"],[\"KAB. PROBOLINGGO\"],[\"KAB. PULANG PISAU\"],[\"KAB. PULAU TALIABU\"],[\"KAB. PURBALINGGA\"],[\"KAB. RAJA AMPAT\"],[\"KAB. REJANG LEBONG\"],[\"KAB. ROKAN HULU\"],[\"KAB. ROTE NDAO\"],[\"KAB. SABU RAIJUA\"],[\"KAB. SAMBAS\"],[\"KAB. SAMOSIR\"],[\"KAB. SAMPANG\"],[\"KAB. SANGGAU\"],[\"KAB. SANGIHE\"],[\"KAB. SARMI\"],[\"KAB. SAROLANGUN\"],[\"KAB. SEKADAU\"],[\"KAB. SELUMA\"],[\"KAB. SEMARANG\"],[\"KAB. SERAM BAGIAN BARAT\"],[\"KAB. SERAM BAGIAN TIMUR\"],[\"KAB. SERANG\"],[\"KAB. SERDANG BEDAGAI\"],[\"KAB. SIAK\"],[\"KAB. SIDENRENG RAPPANG\"],[\"KAB. SIDOARJO\"],[\"KAB. SIGI\"],[\"KAB. SIJUNJUNG\"],[\"KAB. SIMALUNGUN\"],[\"KAB. SIMEULUE\"],[\"KAB. SINJAI\"],[\"KAB. SINTANG\"],[\"KAB. SLEMAN\"],[\"KAB. SOLOK\"],[\"KAB. SOLOK SELATAN\"],[\"KAB. SOPPENG\"],[\"KAB. SORONG SELATAN\"],[\"KAB. SUBANG\"],[\"KAB. SUKABUMI\"],[\"KAB. SUKAMARA\"],[\"KAB. SUMBA BARAT\"],[\"KAB. SUMBA BARAT DAYA\"],[\"KAB. SUMBA TENGAH\"],[\"KAB. SUMBAWA\"],[\"KAB. SUMBAWA BARAT\"],[\"KAB. SUMEDANG\"],[\"KAB. SUMENEP\"],[\"KAB. TABALONG\"],[\"KAB. TABANAN\"],[\"KAB. TAKALAR\"],[\"KAB. TAMBRAUW\"],[\"KAB. TANA TIDUNG\"],[\"KAB. TANAH BUMBU\"],[\"KAB. TANAH DATAR\"],[\"KAB. TANAH LAUT\"],[\"KAB. TANGGAMUS\"],[\"KAB. TANJUNG JABUNG TIMUR\"],[\"KAB. TAPANULI SELATAN\"],[\"KAB. TAPANULI TENGAH\"],[\"KAB. TAPIN\"],[\"KAB. TASIKMALAYA\"],[\"KAB. TEBO\"],[\"KAB. TEGAL\"],[\"KAB. TELUK BINTUNI\"],[\"KAB. TELUK WONDAMA\"],[\"KAB. TIMOR TENGAH SELATAN\"],[\"KAB. TIMOR TENGAH UTARA\"],[\"KAB. TOJO UNA UNA\"],[\"KAB. TRENGGALEK\"],[\"KAB. TUBAN\"],[\"KAB. TULANG BAWANG\"],[\"KAB. TULUNGAGUNG\"],[\"KAB. WAJO\"],[\"KAB. WAKATOBI\"],[\"KAB. WAY KANAN\"],[\"KAB. WONOGIRI\"],[\"KAB. WONOSOBO\"],[\"KAB. YAHUKIMO\"],[\"KAB. YALIMO\"],[\"KOTA AMBON\"],[\"KOTA BALIKPAPAN\"],[\"KOTA BANDA ACEH\"],[\"KOTA BANDUNG\"],[\"KOTA BANJAR\"],[\"KOTA BANJARBARU\"],[\"KOTA BATAM\"],[\"KOTA BATU\"],[\"KOTA BENGKULU\"],[\"KOTA BIMA\"],[\"KOTA BITUNG\"],[\"KOTA BLITAR\"],[\"KOTA BOGOR\"],[\"KOTA BONTANG\"],[\"KOTA BUKIT TINGGI\"],[\"KOTA CIMAHI\"],[\"KOTA GUNUNGSITOLI\"],[\"KOTA JAMBI\"],[\"KOTA JAYAPURA\"],[\"KOTA KENDARI\"],[\"KOTA KOTAMOBAGU\"],[\"KOTA KUPANG\"],[\"KOTA LANGSA\"],[\"KOTA LHOKSEUMAWE\"],[\"KOTA MADIUN\"],[\"KOTA MAGELANG\"],[\"KOTA MAKASSAR\"],[\"KOTA MALANG\"],[\"KOTA MANADO\"],[\"KOTA MATARAM\"],[\"KOTA MEDAN\"],[\"KOTA METRO\"],[\"KOTA MOJOKERTO\"],[\"KOTA PAGAR ALAM\"],[\"KOTA PALEMBANG\"],[\"KOTA PALOPO\"],[\"KOTA PALU\"],[\"KOTA PANGKAL PINANG\"],[\"KOTA PARE-PARE\"],[\"KOTA PARIAMAN\"],[\"KOTA PAYAKUMBUH\"],[\"KOTA PEMATANG SIANTAR\"],[\"KOTA PRABUMULIH\"],[\"KOTA PROBOLINGGO\"],[\"KOTA SALATIGA\"],[\"KOTA SAMARINDA\"],[\"KOTA SEMARANG\"],[\"KOTA SIBOLGA\"],[\"KOTA SINGKAWANG\"],[\"KOTA SOLOK\"],[\"KOTA SUKABUMI\"],[\"KOTA SUNGAI PENUH\"],[\"KOTA TANGERANG\"],[\"KOTA TANGERANG SELATAN\"],[\"KOTA TANJUNG BALAI\"],[\"KOTA TANJUNG PINANG\"],[\"KOTA TARAKAN\"],[\"KOTA TASIKMALAYA\"],[\"KOTA TEBING TINGGI\"],[\"KOTA TEGAL\"],[\"KOTA TERNATE\"],[\"KOTA TOMOHON\"],[\"PROVINSI ACEH\"],[\"PROVINSI BALI\"],[\"PROVINSI BANGKA BELITUNG\"],[\"PROVINSI BENGKULU\"],[\"PROVINSI DI YOGYAKARTA\"],[\"PROVINSI DKI JAKARTA\"],[\"PROVINSI GORONTALO\"],[\"PROVINSI JAMBI\"],[\"PROVINSI JAWA BARAT\"],[\"PROVINSI JAWA TIMUR\"],[\"PROVINSI KALIMANTAN BARAT\"],[\"PROVINSI KALIMANTAN SELATAN\"],[\"PROVINSI KALIMANTAN TENGAH\"],[\"PROVINSI KALIMANTAN TIMUR\"],[\"PROVINSI KALIMANTAN UTARA\"],[\"PROVINSI KEPULAUAN RIAU\"],[\"PROVINSI MALUKU\"],[\"PROVINSI MALUKU UTARA\"],[\"PROVINSI NUSA TENGGARA BARAT\"],[\"PROVINSI NUSA TENGGARA TIMUR\"],[\"PROVINSI PAPUA\"],[\"PROVINSI PAPUA BARAT\"],[\"PROVINSI SULAWESI BARAT\"],[\"PROVINSI SULAWESI SELATAN\"],[\"PROVINSI SULAWESI TENGAH\"],[\"PROVINSI SULAWESI TENGGARA\"],[\"PROVINSI SULAWESI UTARA\"],[\"PROVINSI SUMATERA BARAT\"],[\"PROVINSI SUMATERA SELATAN\"],[\"PROVINSI SUMATERA UTARA\"]],\"hovertemplate\":\"risiko_defisit=%{x}<br>risiko_mandatory_spending=%{y}<br>risiko_keselarasan=%{z}<br>nama_pemda=%{customdata[0]}<br>cluster=%{marker.color}<extra></extra>\",\"legendgroup\":\"\",\"marker\":{\"color\":[1,1,1,1,1,1,1,1,1,1,1,1,2,4,1,1,1,1,1,1,1,1,1,1,1,4,1,1,1,1,1,1,1,1,1,4,1,1,4,1,1,2,1,2,1,1,1,1,1,1,1,3,5,1,4,4,1,2,1,4,1,4,2,2,1,1,1,1,1,5,4,3,1,1,4,1,1,1,1,1,1,4,1,1,1,1,1,1,1,3,1,1,1,4,1,1,1,1,1,1,1,1,4,4,4,1,1,1,1,1,4,1,1,1,1,1,1,1,1,1,1,1,1,1,4,1,1,1,1,4,1,1,1,3,5,1,1,1,1,4,4,4,1,1,1,1,1,1,1,1,1,4,1,1,4,2,1,1,1,2,1,4,1,1,1,4,1,1,1,1,2,1,4,4,1,1,5,1,1,4,1,2,1,1,1,4,1,1,1,1,4,1,1,1,1,1,1,1,5,1,1,1,1,1,1,4,1,1,1,1,1,1,1,1,1,1,1,2,1,2,4,1,2,1,4,1,2,5,1,1,1,1,1,1,4,1,5,1,1,3,1,1,4,4,1,4,1,1,5,1,1,1,2,1,1,3,1,1,1,4,1,1,3,1,1,1,1,1,1,1,2,1,1,4,2,1,4,1,1,2,4,2,1,3,1,1,1,1,1,4,1,3,1,1,2,3,1,1,1,2,1,1,1,1,1,5,1,1,1,1,1,4,1,1,1,1,1,1,4,1,1,3,1,1,1,1,3,1,1,1,4,1,1,2,4,2,1,3,1,1,4,1,1,1,1,4,1,4,1,1,1,1,4,1,1,1,1,5,4,1,4,1,4,4,2,2,2,1,3,1,1,1,1,3,5,1,1,1,1,2,4,1,2,2,1,2,1,3,3,1,1,1,3,1,1,1,1,1,3,1,1,1,1,1,1,1,1,1,1,1,1,1,1,1,1,1,1],\"coloraxis\":\"coloraxis\",\"symbol\":\"circle\"},\"mode\":\"markers\",\"name\":\"\",\"scene\":\"scene\",\"showlegend\":false,\"x\":[100.19276806005341,104.10204361159774,111.28455608682613,105.46606290884901,102.55488785234176,101.38442244900105,100.56222298510691,100.57510825393076,104.55948152702457,104.12045652952129,100.0,100.86013820077689,106.41601109370656,99.62473416153227,100.92049733961261,100.0,108.81325717229105,112.26150159611133,109.1138818060321,107.34984113041928,102.58653238169764,105.11451745425045,99.50143621096376,111.5968212244668,114.90618653539669,106.29204964267782,107.79709193138555,103.92985425358926,99.86378632979505,104.88167763349472,94.35839275923853,100.5351219770247,101.83045081104956,104.3704441379148,103.95541839084848,100.81834365859301,103.38986957770344,112.43978102037266,103.24204006812458,100.79550637229629,114.97809783430985,104.0995466656488,103.12503864167357,102.12490693857123,100.0,102.32636343050679,101.67121275676988,103.50045639938692,100.63819670910472,102.9910144787745,110.04953147512228,108.10399787753397,143.3811494037246,102.70434943559594,101.99210531618601,101.94048849301387,103.39962426088887,102.3877571676348,99.9968556347622,102.3680429314493,107.80299683564571,101.59020154354246,100.41152423682738,100.96295672658617,99.31363051871607,102.45629296878411,98.63975506342723,97.44590974960005,107.24397840116583,130.30814680371014,100.89048894358874,102.98114978835578,103.29756130381276,92.76480910597168,100.64246931306936,104.44195543058055,106.7427333273699,102.51755995025238,99.67339375981422,99.80184327714245,110.51237347917765,93.44456400536497,104.39418286385921,99.75467894629631,106.67676570584517,108.53228697739343,111.50149062398427,107.07577663522953,105.22744471083494,104.2360798268519,108.14438312612768,97.08039687636646,115.18962775810384,113.25136879811284,102.84260483960783,111.91205390123467,102.0976147741515,99.90300599720791,106.88619305450813,105.24073280901783,115.38758264589055,103.55447230194707,100.08263196200488,106.8665424288412,105.72797037628467,110.14420841150712,102.3325145287019,112.96655286968517,101.27642532792571,100.8297633592589,103.0756777744392,103.87045324602244,102.92674170381824,100.74716821038156,114.07992339684962,102.7598457738959,103.55760320261302,114.95958346359876,97.6025876979433,108.51603444669638,103.24025244869108,100.42214171814237,120.97696189617069,103.38702581818413,110.24652386045055,109.32531878816339,118.6685580379508,101.41147371871972,104.43557198984672,100.32836825233191,108.4259825854596,103.06427127299295,97.8255199734939,118.5800255124994,130.19442251158583,105.64584522212692,103.37831937126687,101.68684824131171,108.17884046334045,100.50632550240253,99.18060488528741,105.76249287605945,99.6992065280968,110.49537107924334,99.83076317467913,101.61352704540118,104.3141775603343,114.45004169693817,104.73293217907451,107.4871508365703,102.66559367345354,104.6772324516166,106.92740008160911,106.9032792000423,103.38664601505891,99.84251687272206,101.28199775097922,102.2582956230693,100.71629848360486,102.08180844246897,101.71856845044354,97.81588828374139,108.08081650612536,99.62052090071498,106.50537946218716,100.72970726023169,102.99788077779802,113.25749681256849,104.14762270302649,105.50918694121043,104.65685796611413,100.0,100.17555288939441,102.78494084484964,107.8431634698735,108.63712432312589,126.34133757115048,101.99724623816833,109.51301443852306,101.89257361902754,102.38811422862632,100.87085795673913,111.99547034428734,87.76757300898484,100.89123780183348,105.75990901644722,98.22231899263605,99.66734411159494,107.93177164571908,107.05627666533913,105.07558409471312,99.83641319984856,98.52550963659242,100.20128623490156,104.2012422070843,103.21123590248204,103.34907737758824,102.48514186002431,133.82711713929143,104.5948384928899,92.68969049716559,100.59158074700636,96.58305545547722,101.47627464710052,104.70977012627371,101.61970789893257,96.26436008498017,118.49504821045949,103.30849121577856,104.57001205258835,102.91790099147038,117.02412454480178,102.92982199847278,99.90109087173818,106.5691096242085,105.81742328188078,98.53254310858412,100.94616907175198,103.33580613800196,104.10042778450257,103.70711616992413,120.8234882842711,100.668319650789,100.47019460236417,100.65770033737267,107.5748137754639,104.54823358992601,149.23315959966266,107.68128320023489,103.36363320888292,99.88509811702612,100.0,100.20312038458931,124.48667837359775,101.61315421321788,94.79072544840685,127.46183367394246,112.11452513605711,99.55183464205713,101.88531571096908,104.50015547354647,99.88596188119533,103.77720858812592,100.0,109.56394378772605,103.35834315488206,105.4361696303079,104.06105705109012,156.32925447040847,102.84673705536058,99.92592592592592,99.74679979804384,100.8889676774468,101.5959292435834,107.50551179411325,98.98929681045477,102.47378769364744,113.85802849818158,109.0945884456838,107.11831326606394,99.51234331256785,103.63253713073952,106.2847799700757,104.09955009607359,104.8990062741179,107.60070655985159,100.0,104.90839054455647,99.092330456165,109.34752082819605,101.87420816566797,121.0207587458807,105.4428465032944,107.3631163613007,99.77958640098782,101.77672289755503,102.53010542165659,100.7074535515381,104.95002859991101,103.61918396972402,110.44560026184665,106.76076909004529,109.29919730504145,102.9836063689813,99.32525383533395,107.67438144311525,99.189104996078,108.64581127760819,102.93753447657248,101.32114232872762,104.11875018525186,99.55543652685385,112.55795135388375,112.68402848676935,103.3743036783235,120.6701358276059,92.51679696616546,104.87039512575396,108.14716956113438,104.41940130405347,109.43716269682908,104.01466295758442,106.41015899750796,108.23458827871377,97.50465983792068,152.91037156478097,102.92763286615025,99.69477737097449,106.6206847940589,100.0,102.0916959315744,99.99999999997038,104.60786214047249,103.88988737453239,112.96418163382731,106.17396299559626,103.03393418067488,106.30304793036925,98.00444197430139,105.52691176071119,100.18545357923598,104.34181731881387,103.23284762910374,101.19116239413839,100.0,100.1552195039487,106.10001086423956,100.34199932196626,100.81505284015945,105.09500541271153,101.26287542716013,102.70269413563437,121.24451302184858,93.49929770179173,101.70364531518355,100.28403742050047,116.5023093911602,108.28655798106755,114.10826100803683,117.39405683071737,115.74959059137436,104.0626675105534,104.90343231221576,101.6411376567806,118.74994000042092,103.31861674122,101.94075054196581,100.29243141916604,104.05771767251349,117.79378740287738,109.50453174252148,118.05131376492952,106.8517902290899,118.04627402655994,100.9002103044147,104.67129726804862,103.90324943684189,136.1996613931283,104.35983664092319,99.19476823810605,102.50644466082441,118.8487397142614,103.80620904685756,101.89095185156127,104.86275519917172,108.08623591184423,106.76355151948671,113.36504959904634,117.6575665886649,104.4612604276836,111.28222560336279,103.86478857368952,115.00786023646556,92.61115472962832,137.42904152113047,101.76485912686822,105.97784945029363,110.24099266624923,105.59280462890031,100.24257144404811,109.08345799854587,105.92063401674213,105.00498328662728,100.15981899419815,107.33672268540526,100.0,112.34127836316401,121.1014062693053,120.9692089257375,107.89239251801801,102.85142006746564,107.39543330759051,99.21116416698268,98.98573666313982,113.7721317176163,99.95191611568237,106.55767305971646,105.4049155991338,99.4425721000447,100.4725665495364,105.89194042757985,112.05004614125784,111.20585620869893,107.68874758133691,103.82098393669892,110.41844690913555,108.42803409404766,109.83443049892887,107.38942310370085,110.32170286815915,98.76562390812663,108.98117353715064,124.13360519709067,95.43843079271454,104.72631183668852,98.62560945467955,105.31152088129714],\"y\":[10.126855673501073,6.075783969025052,6.857150148972158,7.285982054539282,9.982984533252555,7.39938191105681,8.966343429806482,6.45392706419665,5.7014759778666475,6.825985618516776,6.400314110013072,6.781156452325442,7.099435253117709,12.441639346527078,7.101875800929744,10.205699523880845,12.540824525064721,6.215074977815383,5.020623442123187,9.790162635997886,7.4659798555147265,6.07286377650684,4.677691386879207,7.95512498289836,9.02876370122866,9.364691571401352,7.631334278259901,7.4599646886578235,8.611705670286025,10.18689002987525,8.444293838036865,8.805801385694679,7.948431902446828,5.643252616038599,9.189792324125015,9.899489001851517,9.227471733125977,7.410423384527604,11.345093504295956,6.026704477450004,7.412786076453019,5.151971827181339,6.918052914354655,6.7937431408426345,8.632625992100643,10.967114380107269,7.817760742689177,7.36177769165811,6.256759561715665,6.482248815679656,6.476423143070962,26.23378671613365,6.231245560541442,8.21351976561958,12.028252995143973,12.833063355700638,8.250497623004701,7.560825686762833,7.806753128571279,10.148098819066433,6.652096009239511,12.803902629663094,8.42079644158108,7.870560517610429,7.8457417926966135,5.60434156092002,8.197804871781596,9.025372189159647,9.89193598465829,5.912469448115662,16.481256520361065,32.03454926014881,8.197042665845462,8.929444508037648,9.412440822039713,8.14982405584171,8.39509647824159,7.111596426422883,8.097731856176464,10.348317940034043,11.06902444113092,10.238188754769531,8.410682672023862,9.229594850753394,8.659626262558291,5.496991307025799,9.410873556760016,8.886831436578136,7.491945396056545,29.41161305626639,8.43195245523066,9.83212386027314,7.956721709381251,11.1075858967855,7.603754817176462,5.043831962684566,7.51577294360077,5.149569535987528,6.975232059646429,10.70399771008994,8.061645396436797,8.825290536124026,9.145899081373823,11.281671838839728,14.40755136265507,5.780514919280527,9.299728259400641,6.2115570048813336,6.741241398302689,6.541262779629236,8.611946255537347,8.535546210718975,5.905166978251248,5.81836951514661,7.551030119068411,9.773773934725927,5.77185041343535,6.733511495466988,6.621553674920713,6.297838850487205,5.696922107586014,8.312413278427265,5.370400615960687,8.527964967569151,14.877352893170643,7.400569537104218,7.655240244235719,5.866162961102453,8.405666294740819,11.076578773664407,8.598038923287923,7.140847021682822,6.2435674014558415,16.987775282073695,4.875114523973794,6.874896124916699,8.975116430055254,6.958397805486925,8.640322751967599,8.92182612831968,11.449648964298156,9.84182576999012,6.156179090005974,5.3269766708071,6.860873195213646,6.810700161157821,10.296019802222494,8.559553601069208,8.205560975927897,9.31717145105592,7.695047167780256,9.456193578379889,6.637852552351372,6.2412925088014735,10.805801407670785,2.452685977071734,10.278061599901584,7.46480615527779,5.827014602713174,5.627396337557093,8.29131797712273,10.727497588885115,8.447708350674137,7.623093491162644,8.777014689868729,9.449492603324034,10.830184057215526,7.602114499914576,6.90231346835565,7.113055848821144,6.526634109850177,7.045185013899099,9.933510110567306,10.48358391070631,7.820287885658293,7.528760689359411,7.217030803156755,7.907216173091602,5.84414271428278,10.252155020792664,11.035475806759301,7.401692667954848,11.13282858895252,4.430808157319429,8.383935184560478,12.400517627060736,7.259372777602715,7.19776155514906,11.025640211608746,5.532809440321926,9.458058306956044,6.098892390309103,7.301935782488989,9.324017543109537,6.421535162748842,8.862939939330104,5.73396214112333,7.867724689455317,11.61535888722531,7.2832043111654965,6.2980399467809836,6.821640789653996,9.000153159279336,5.924018288794362,7.588066082636869,19.073877891536554,9.531556878154664,10.76316690929423,10.370665729032664,12.313084337120815,10.493211846540806,10.604381352889536,5.858434942539338,6.932368881935163,7.044317546084709,5.880582803485433,7.403853382525618,7.759324473533281,6.630833939004751,7.236559238176728,20.829642682004575,6.86191014388562,7.181135567850173,11.379166198586127,11.55571163787325,9.45521790451435,8.677961644502968,6.758461605471306,8.983123580737004,8.159780457915987,7.396023286164931,7.941412008764234,7.401025882314676,4.62025523062139,10.307326834178848,6.760033041051915,6.722074368895548,6.83335355436376,5.5527734897623215,28.674423220936198,5.094170929828065,6.663200659527395,10.152909447904099,13.411138124322866,5.985736653346168,9.327318017129334,6.028229208687342,6.634206422451689,5.731545337905284,8.261714620291057,7.543058519236471,8.244791485120523,1.7302437245465945,9.561500603997457,7.452469050646629,24.728885825548993,5.697807861065912,9.521914034716561,8.071873309105289,8.70116892783189,9.781480672945605,7.4775483011411765,24.31873041351094,6.6903569194708385,7.9024882651446475,8.294439810749404,7.906515150379235,6.93506660732454,8.839650467104512,7.304951269208814,8.017082840340423,9.94253908499207,8.30593414107772,9.853262048638776,7.433349862520692,9.062631935254469,9.163595477281751,6.700974308493308,8.50184131726878,7.200053694330252,11.473846561041427,6.91122756192034,7.22437072566106,28.04889503284263,10.026744324422822,9.04829115080479,9.515289968949816,10.345245245865943,11.342989764755547,9.03426217409955,6.169306587656207,30.94756014599359,6.840653922373255,3.754761071685568,6.1931069639607035,15.123637815753668,15.58275394448255,8.27547925496612,8.67975227138919,5.759452228743861,5.816278300603338,6.173520958882484,6.250917094019659,6.927632326862598,8.464021641858587,4.9911593914004655,6.8718688910501795,10.601018711421426,8.123918459165376,4.968916006644964,6.94486109156667,13.979334247819857,12.14813964795714,7.759142676334093,6.96300548005647,6.302361128766984,9.44385694114018,6.467316431338588,9.246838080114847,10.274285961452389,7.644082956957951,34.692009196714125,7.808277033925888,8.717066754503733,6.230683753820307,6.37608987651012,24.062397238791988,10.189405264566968,8.875301080892461,4.921323054183365,10.76910413349772,8.183126540784407,6.795572516410038,6.585769172931185,9.500935796691222,7.998155380695325,8.579830788113547,25.4466308872261,5.153102919197506,8.70603183988936,12.22742334230685,6.750893276541703,8.792176589744283,8.622944128230213,7.923607263261649,10.071872870699497,7.246077566269675,12.361876916266915,7.185360857449414,7.381599596746433,6.0444326560264034,10.313082121409181,10.468230977181307,7.073452687868521,6.859589773038134,7.7858546698271205,6.023446825112046,7.011633633146113,9.655610172112553,7.375308654999096,10.87966016600527,5.811306852251742,9.482864754058303,12.916208260308,5.662033335882586,6.937996738230276,7.184947877174805,2.297509838247095,27.980319164502582,6.499695696231993,6.926655884428039,6.89749035472804,6.25180075589936,33.13781005960648,6.060847814430444,6.287710645599187,8.43799111341604,9.960762454270563,6.950236315907461,6.764663136709284,10.452604609720286,7.129941514923162,6.825076959875524,7.609528168219391,6.852011284647474,5.888178953245887,6.569286700170489,20.151128512878095,18.427956325019572,6.975453703381799,7.927672571584397,12.514421313895134,21.509704634778203,9.437792084975213,6.051090897937014,11.050899138610625,8.812376216925188,10.600998374419094,24.401691344354184,5.428688087713385,5.98378239577576,5.628954171291638,6.331915129686552,10.579758380827267,10.861465372753536,11.981520325112687,11.178902100148282,2.514322426613802,4.695660860090089,8.358894844207661,7.409384545336847,6.890671967673308,9.970097829363038,12.338851255877149,7.055440106818364,5.875529658094269,9.490693460853127],\"z\":[14.151496918683016,21.000486097935063,19.60359003577952,19.140582502684687,21.310353857699425,22.84008742163926,21.16036820957789,21.406627860139587,20.525873691376745,19.249930973399238,22.931100144771268,21.17293626038232,26.76967828579763,23.028889339600525,24.54651407288705,16.257718185321618,22.151033605077394,19.785552308937845,20.37027491980289,21.754244746662494,18.66878660015739,19.94706748912444,18.66854110323227,22.88690272174239,20.57762901719024,25.144661514452626,20.095733171628787,22.728919289096908,23.392292212950668,18.32101005838461,19.19404396515617,19.866155880664998,23.771764779422345,21.420942108390697,22.11448121933674,28.86299924749859,23.75441801770294,20.607512093938006,24.926483950958787,19.127816690773884,16.607833013119432,26.014613614744437,22.52325961199319,25.882543231758593,16.897291371464977,19.67258573452487,24.473983394151876,23.078968091399357,21.420824396175718,24.21077680048961,20.816678017349304,18.625880084732756,12.519620034041093,23.54614136268531,23.029112633864816,23.041059002698198,16.66495819245338,27.12087385377241,24.97248859895637,25.565670710701994,22.83261672364219,23.83427511792719,25.594078107599465,25.652897085377255,22.159491709718623,16.364891694848595,22.51097668521504,18.258037219255257,20.442875223724684,14.3629266495223,26.551762962047505,24.42908260842554,24.181671866270708,16.11248964767372,25.012594327695,21.94874106945691,23.762625772975216,24.960567370317847,23.775442956958614,18.030356833326884,21.501990495526563,26.188455396531577,22.89932673731743,19.615210806702933,16.67739472744403,22.850199802567275,23.92279882505472,17.90740051754839,22.086148436204333,24.677180882568962,23.108772268059937,17.960904529878974,9.627162767406649,26.75312475080129,23.499700594899473,23.94464552592864,22.863813418669594,13.554758490364586,16.62935656202125,17.44829015778355,20.420503623732877,21.6355505164893,27.987034513073866,24.38994206166804,26.243540035026733,14.367835187675464,24.037650468728078,18.020464635702417,18.39083342092173,24.214476566133293,27.02870504467578,21.37528752530502,18.318709687838222,24.345721133326933,20.03079371545622,21.90501765395392,24.211378908939306,20.359438506768797,17.915204983970526,22.956465198767376,21.692234152977285,17.124315780266333,16.584597732224974,21.29353828393921,22.600667629861483,18.485270544993885,16.013096566575953,23.714934325678236,21.244673274113286,23.943060207062416,18.328142437604264,20.64883556810105,20.57955958800182,20.515239735955134,15.37955707764413,21.234391263605968,21.030143355533596,24.81632532521325,21.86493934723206,26.14378594447134,27.08497367770812,24.350802075921543,15.000411327198105,19.87866991816994,18.55833269061985,22.595765612906753,22.592925872895812,20.554252737087573,19.008332928266103,21.998095235629467,22.036824560428112,25.286700671776877,22.30314416520855,24.42008807864903,23.852937972721648,29.985754623714797,14.436543437522513,24.633947380260736,21.199861659201673,27.605356348986128,22.628359304140048,23.902592020443095,22.94768930638455,19.84273606167124,19.886982246462814,24.37858970571117,16.7846457556085,20.627604568892473,21.794787397821437,21.934237671288294,26.294086165602078,11.366064815412104,26.455471359598523,23.008352288871855,23.01087105516142,20.93702476097574,13.234003833812775,20.882453011059525,14.02657617901182,25.89014225698712,21.643748089764486,26.650096189782772,18.88484974301565,10.815408823247896,23.80698790431728,27.330738418249283,23.062635495981798,17.657898328462032,18.981964523565566,11.371975377991486,25.608439302692233,24.909329168471203,20.20417474469258,23.868761160869035,18.253469304456353,22.6706870317137,24.319449208899997,22.216495724348228,17.566300714169913,19.794932040451606,15.743225875096531,19.778097311237698,21.452647694554244,20.17675628323284,21.978512704299455,19.11305872026959,9.43029642227339,21.148594710285558,20.21075147545618,21.825358328831406,17.81897228627644,13.234309854435725,21.501158613805902,22.53608119270303,21.48741624651582,20.841373280829348,24.273670275955453,25.55949162441844,19.793429875381968,28.819185745503034,24.35494397491071,21.434777089808957,27.51945562331446,20.168874770942978,28.04908513576278,16.006527299565374,26.06265501495657,16.572789140096322,21.216705268822047,24.352488975603407,10.79601968081717,14.37223982529535,23.328889568422404,17.937396490245764,29.377047468464916,22.086016756008746,11.588814801074543,19.256934947339012,16.37586203302356,25.107062113357827,19.133976667150712,18.56708582287586,26.73450401304577,28.436669551795237,20.508275010986353,27.284029082878703,21.06322130612,23.706623134722182,8.309039328711709,23.772691720146987,16.88666586194511,24.754457457283394,24.58229710893115,22.867611141861197,18.631570098808393,20.677523417064897,20.451594442544263,21.911890719910055,19.837861822327092,26.623493423718912,14.63826521292993,21.795208063982518,22.28000117771468,23.55054897309975,21.6787772033294,22.487515505343545,19.368860204451543,23.652380795052835,23.59776335618415,20.851217727282368,25.102160857775505,17.194567787944223,23.94522626523539,26.89929200600554,27.219749502334583,20.820291575091105,26.46980706084706,21.049203938629972,19.381632943813653,28.896522494137123,25.03920745670792,28.6864181669648,19.08370291148271,26.00168752056528,21.087784121087363,19.581641376556632,16.950794541956434,18.66644504522327,19.699604552458265,25.831255455791748,21.29874065018868,27.255853503884712,23.318045658434713,20.51489617974314,26.33026350301647,25.256560688315226,11.977050907085932,23.378341445474017,15.189749144532488,27.072290534648744,20.979419940325492,19.40595475415147,21.211344447041363,20.585360460280516,23.09839476096566,16.74427052559216,23.667972597036005,21.56153795650281,22.3003292005418,8.982957291104883,14.512518792971793,36.66416028996,21.89784785258213,22.03668293802246,22.139164866626114,22.63899013492521,22.404560367681395,24.355665514542984,26.10506191991762,22.6607017853402,24.41540097440094,31.141332813495147,23.56916031241011,15.151548264955125,14.75087562330313,22.908844953102463,21.194633606335103,20.056729460003712,24.856674590530652,24.09066591641878,23.998670235623987,22.607183076412355,20.268661560084773,26.490531591431854,28.192830841478845,25.79385675062121,19.737028562951018,24.799316655223677,21.535469419381727,22.10378409454308,28.0597616279952,21.915357991873112,22.607956982308725,22.98511624535101,22.302928480921857,23.565757778952715,24.302022663557768,26.816185312331996,21.966929421887126,21.997014828161568,23.0409513920131,18.31438571153866,24.694352586046556,19.26904164851646,22.88522552272366,18.62034768208443,20.73940896544682,17.360929950478784,24.08468199168175,23.63806190790539,25.83890407871809,21.39769537251633,26.27751698191068,27.339005801034737,25.385750981826668,26.241894771999668,27.342645807169358,23.880018262266685,21.72136667787546,22.27945494820071,20.341758177441292,18.87037983884768,22.079156783549138,24.05719606990877,21.384328232654752,22.094473309060962,24.608356775239677,20.021696605225863,16.096537080174052,28.397057575550484,28.42028647856671,22.67554856260486,27.134013783587065,25.987027478424544,21.2177506893359,25.537028200417083,23.134069277534795,10.519040852825356,14.49649693190944,20.554328329873968,23.2897818205421,15.628438879708234,14.989115113638501,20.179097892824192,19.05270793562869,10.361136096945993,15.171215939531226,14.633325232254238,14.334827156972057,14.81226572279611,11.219525303594969,18.2260790060989,14.546458275102871,19.278623958272213,11.888098211876986,17.6375757400409,19.995326560933822,12.71721086925572,9.485154079283685,17.50137203787694,18.088376699909677,18.00630083041652,16.342267830723703,20.324229858509888,19.173998270901407,14.461321885335604,14.8780016388453],\"type\":\"scatter3d\"}],                        {\"template\":{\"data\":{\"histogram2dcontour\":[{\"type\":\"histogram2dcontour\",\"colorbar\":{\"outlinewidth\":0,\"ticks\":\"\"},\"colorscale\":[[0.0,\"#0d0887\"],[0.1111111111111111,\"#46039f\"],[0.2222222222222222,\"#7201a8\"],[0.3333333333333333,\"#9c179e\"],[0.4444444444444444,\"#bd3786\"],[0.5555555555555556,\"#d8576b\"],[0.6666666666666666,\"#ed7953\"],[0.7777777777777778,\"#fb9f3a\"],[0.8888888888888888,\"#fdca26\"],[1.0,\"#f0f921\"]]}],\"choropleth\":[{\"type\":\"choropleth\",\"colorbar\":{\"outlinewidth\":0,\"ticks\":\"\"}}],\"histogram2d\":[{\"type\":\"histogram2d\",\"colorbar\":{\"outlinewidth\":0,\"ticks\":\"\"},\"colorscale\":[[0.0,\"#0d0887\"],[0.1111111111111111,\"#46039f\"],[0.2222222222222222,\"#7201a8\"],[0.3333333333333333,\"#9c179e\"],[0.4444444444444444,\"#bd3786\"],[0.5555555555555556,\"#d8576b\"],[0.6666666666666666,\"#ed7953\"],[0.7777777777777778,\"#fb9f3a\"],[0.8888888888888888,\"#fdca26\"],[1.0,\"#f0f921\"]]}],\"heatmap\":[{\"type\":\"heatmap\",\"colorbar\":{\"outlinewidth\":0,\"ticks\":\"\"},\"colorscale\":[[0.0,\"#0d0887\"],[0.1111111111111111,\"#46039f\"],[0.2222222222222222,\"#7201a8\"],[0.3333333333333333,\"#9c179e\"],[0.4444444444444444,\"#bd3786\"],[0.5555555555555556,\"#d8576b\"],[0.6666666666666666,\"#ed7953\"],[0.7777777777777778,\"#fb9f3a\"],[0.8888888888888888,\"#fdca26\"],[1.0,\"#f0f921\"]]}],\"heatmapgl\":[{\"type\":\"heatmapgl\",\"colorbar\":{\"outlinewidth\":0,\"ticks\":\"\"},\"colorscale\":[[0.0,\"#0d0887\"],[0.1111111111111111,\"#46039f\"],[0.2222222222222222,\"#7201a8\"],[0.3333333333333333,\"#9c179e\"],[0.4444444444444444,\"#bd3786\"],[0.5555555555555556,\"#d8576b\"],[0.6666666666666666,\"#ed7953\"],[0.7777777777777778,\"#fb9f3a\"],[0.8888888888888888,\"#fdca26\"],[1.0,\"#f0f921\"]]}],\"contourcarpet\":[{\"type\":\"contourcarpet\",\"colorbar\":{\"outlinewidth\":0,\"ticks\":\"\"}}],\"contour\":[{\"type\":\"contour\",\"colorbar\":{\"outlinewidth\":0,\"ticks\":\"\"},\"colorscale\":[[0.0,\"#0d0887\"],[0.1111111111111111,\"#46039f\"],[0.2222222222222222,\"#7201a8\"],[0.3333333333333333,\"#9c179e\"],[0.4444444444444444,\"#bd3786\"],[0.5555555555555556,\"#d8576b\"],[0.6666666666666666,\"#ed7953\"],[0.7777777777777778,\"#fb9f3a\"],[0.8888888888888888,\"#fdca26\"],[1.0,\"#f0f921\"]]}],\"surface\":[{\"type\":\"surface\",\"colorbar\":{\"outlinewidth\":0,\"ticks\":\"\"},\"colorscale\":[[0.0,\"#0d0887\"],[0.1111111111111111,\"#46039f\"],[0.2222222222222222,\"#7201a8\"],[0.3333333333333333,\"#9c179e\"],[0.4444444444444444,\"#bd3786\"],[0.5555555555555556,\"#d8576b\"],[0.6666666666666666,\"#ed7953\"],[0.7777777777777778,\"#fb9f3a\"],[0.8888888888888888,\"#fdca26\"],[1.0,\"#f0f921\"]]}],\"mesh3d\":[{\"type\":\"mesh3d\",\"colorbar\":{\"outlinewidth\":0,\"ticks\":\"\"}}],\"scatter\":[{\"fillpattern\":{\"fillmode\":\"overlay\",\"size\":10,\"solidity\":0.2},\"type\":\"scatter\"}],\"parcoords\":[{\"type\":\"parcoords\",\"line\":{\"colorbar\":{\"outlinewidth\":0,\"ticks\":\"\"}}}],\"scatterpolargl\":[{\"type\":\"scatterpolargl\",\"marker\":{\"colorbar\":{\"outlinewidth\":0,\"ticks\":\"\"}}}],\"bar\":[{\"error_x\":{\"color\":\"#2a3f5f\"},\"error_y\":{\"color\":\"#2a3f5f\"},\"marker\":{\"line\":{\"color\":\"#E5ECF6\",\"width\":0.5},\"pattern\":{\"fillmode\":\"overlay\",\"size\":10,\"solidity\":0.2}},\"type\":\"bar\"}],\"scattergeo\":[{\"type\":\"scattergeo\",\"marker\":{\"colorbar\":{\"outlinewidth\":0,\"ticks\":\"\"}}}],\"scatterpolar\":[{\"type\":\"scatterpolar\",\"marker\":{\"colorbar\":{\"outlinewidth\":0,\"ticks\":\"\"}}}],\"histogram\":[{\"marker\":{\"pattern\":{\"fillmode\":\"overlay\",\"size\":10,\"solidity\":0.2}},\"type\":\"histogram\"}],\"scattergl\":[{\"type\":\"scattergl\",\"marker\":{\"colorbar\":{\"outlinewidth\":0,\"ticks\":\"\"}}}],\"scatter3d\":[{\"type\":\"scatter3d\",\"line\":{\"colorbar\":{\"outlinewidth\":0,\"ticks\":\"\"}},\"marker\":{\"colorbar\":{\"outlinewidth\":0,\"ticks\":\"\"}}}],\"scattermapbox\":[{\"type\":\"scattermapbox\",\"marker\":{\"colorbar\":{\"outlinewidth\":0,\"ticks\":\"\"}}}],\"scatterternary\":[{\"type\":\"scatterternary\",\"marker\":{\"colorbar\":{\"outlinewidth\":0,\"ticks\":\"\"}}}],\"scattercarpet\":[{\"type\":\"scattercarpet\",\"marker\":{\"colorbar\":{\"outlinewidth\":0,\"ticks\":\"\"}}}],\"carpet\":[{\"aaxis\":{\"endlinecolor\":\"#2a3f5f\",\"gridcolor\":\"white\",\"linecolor\":\"white\",\"minorgridcolor\":\"white\",\"startlinecolor\":\"#2a3f5f\"},\"baxis\":{\"endlinecolor\":\"#2a3f5f\",\"gridcolor\":\"white\",\"linecolor\":\"white\",\"minorgridcolor\":\"white\",\"startlinecolor\":\"#2a3f5f\"},\"type\":\"carpet\"}],\"table\":[{\"cells\":{\"fill\":{\"color\":\"#EBF0F8\"},\"line\":{\"color\":\"white\"}},\"header\":{\"fill\":{\"color\":\"#C8D4E3\"},\"line\":{\"color\":\"white\"}},\"type\":\"table\"}],\"barpolar\":[{\"marker\":{\"line\":{\"color\":\"#E5ECF6\",\"width\":0.5},\"pattern\":{\"fillmode\":\"overlay\",\"size\":10,\"solidity\":0.2}},\"type\":\"barpolar\"}],\"pie\":[{\"automargin\":true,\"type\":\"pie\"}]},\"layout\":{\"autotypenumbers\":\"strict\",\"colorway\":[\"#636efa\",\"#EF553B\",\"#00cc96\",\"#ab63fa\",\"#FFA15A\",\"#19d3f3\",\"#FF6692\",\"#B6E880\",\"#FF97FF\",\"#FECB52\"],\"font\":{\"color\":\"#2a3f5f\"},\"hovermode\":\"closest\",\"hoverlabel\":{\"align\":\"left\"},\"paper_bgcolor\":\"white\",\"plot_bgcolor\":\"#E5ECF6\",\"polar\":{\"bgcolor\":\"#E5ECF6\",\"angularaxis\":{\"gridcolor\":\"white\",\"linecolor\":\"white\",\"ticks\":\"\"},\"radialaxis\":{\"gridcolor\":\"white\",\"linecolor\":\"white\",\"ticks\":\"\"}},\"ternary\":{\"bgcolor\":\"#E5ECF6\",\"aaxis\":{\"gridcolor\":\"white\",\"linecolor\":\"white\",\"ticks\":\"\"},\"baxis\":{\"gridcolor\":\"white\",\"linecolor\":\"white\",\"ticks\":\"\"},\"caxis\":{\"gridcolor\":\"white\",\"linecolor\":\"white\",\"ticks\":\"\"}},\"coloraxis\":{\"colorbar\":{\"outlinewidth\":0,\"ticks\":\"\"}},\"colorscale\":{\"sequential\":[[0.0,\"#0d0887\"],[0.1111111111111111,\"#46039f\"],[0.2222222222222222,\"#7201a8\"],[0.3333333333333333,\"#9c179e\"],[0.4444444444444444,\"#bd3786\"],[0.5555555555555556,\"#d8576b\"],[0.6666666666666666,\"#ed7953\"],[0.7777777777777778,\"#fb9f3a\"],[0.8888888888888888,\"#fdca26\"],[1.0,\"#f0f921\"]],\"sequentialminus\":[[0.0,\"#0d0887\"],[0.1111111111111111,\"#46039f\"],[0.2222222222222222,\"#7201a8\"],[0.3333333333333333,\"#9c179e\"],[0.4444444444444444,\"#bd3786\"],[0.5555555555555556,\"#d8576b\"],[0.6666666666666666,\"#ed7953\"],[0.7777777777777778,\"#fb9f3a\"],[0.8888888888888888,\"#fdca26\"],[1.0,\"#f0f921\"]],\"diverging\":[[0,\"#8e0152\"],[0.1,\"#c51b7d\"],[0.2,\"#de77ae\"],[0.3,\"#f1b6da\"],[0.4,\"#fde0ef\"],[0.5,\"#f7f7f7\"],[0.6,\"#e6f5d0\"],[0.7,\"#b8e186\"],[0.8,\"#7fbc41\"],[0.9,\"#4d9221\"],[1,\"#276419\"]]},\"xaxis\":{\"gridcolor\":\"white\",\"linecolor\":\"white\",\"ticks\":\"\",\"title\":{\"standoff\":15},\"zerolinecolor\":\"white\",\"automargin\":true,\"zerolinewidth\":2},\"yaxis\":{\"gridcolor\":\"white\",\"linecolor\":\"white\",\"ticks\":\"\",\"title\":{\"standoff\":15},\"zerolinecolor\":\"white\",\"automargin\":true,\"zerolinewidth\":2},\"scene\":{\"xaxis\":{\"backgroundcolor\":\"#E5ECF6\",\"gridcolor\":\"white\",\"linecolor\":\"white\",\"showbackground\":true,\"ticks\":\"\",\"zerolinecolor\":\"white\",\"gridwidth\":2},\"yaxis\":{\"backgroundcolor\":\"#E5ECF6\",\"gridcolor\":\"white\",\"linecolor\":\"white\",\"showbackground\":true,\"ticks\":\"\",\"zerolinecolor\":\"white\",\"gridwidth\":2},\"zaxis\":{\"backgroundcolor\":\"#E5ECF6\",\"gridcolor\":\"white\",\"linecolor\":\"white\",\"showbackground\":true,\"ticks\":\"\",\"zerolinecolor\":\"white\",\"gridwidth\":2}},\"shapedefaults\":{\"line\":{\"color\":\"#2a3f5f\"}},\"annotationdefaults\":{\"arrowcolor\":\"#2a3f5f\",\"arrowhead\":0,\"arrowwidth\":1},\"geo\":{\"bgcolor\":\"white\",\"landcolor\":\"#E5ECF6\",\"subunitcolor\":\"white\",\"showland\":true,\"showlakes\":true,\"lakecolor\":\"white\"},\"title\":{\"x\":0.05},\"mapbox\":{\"style\":\"light\"}}},\"scene\":{\"domain\":{\"x\":[0.0,1.0],\"y\":[0.0,1.0]},\"xaxis\":{\"title\":{\"text\":\"risiko_defisit\"}},\"yaxis\":{\"title\":{\"text\":\"risiko_mandatory_spending\"}},\"zaxis\":{\"title\":{\"text\":\"risiko_keselarasan\"}}},\"coloraxis\":{\"colorbar\":{\"title\":{\"text\":\"cluster\"}},\"colorscale\":[[0.0,\"#0d0887\"],[0.1111111111111111,\"#46039f\"],[0.2222222222222222,\"#7201a8\"],[0.3333333333333333,\"#9c179e\"],[0.4444444444444444,\"#bd3786\"],[0.5555555555555556,\"#d8576b\"],[0.6666666666666666,\"#ed7953\"],[0.7777777777777778,\"#fb9f3a\"],[0.8888888888888888,\"#fdca26\"],[1.0,\"#f0f921\"]]},\"legend\":{\"tracegroupgap\":0},\"margin\":{\"t\":20,\"l\":20,\"r\":20,\"b\":20},\"autosize\":false,\"height\":800,\"width\":1600},                        {\"responsive\": true}                    ).then(function(){\n",
       "                            \n",
       "var gd = document.getElementById('7fe06dd2-4ffd-463c-98f9-7ec51ca7cd3b');\n",
       "var x = new MutationObserver(function (mutations, observer) {{\n",
       "        var display = window.getComputedStyle(gd).display;\n",
       "        if (!display || display === 'none') {{\n",
       "            console.log([gd, 'removed!']);\n",
       "            Plotly.purge(gd);\n",
       "            observer.disconnect();\n",
       "        }}\n",
       "}});\n",
       "\n",
       "// Listen for the removal of the full notebook cells\n",
       "var notebookContainer = gd.closest('#notebook-container');\n",
       "if (notebookContainer) {{\n",
       "    x.observe(notebookContainer, {childList: true});\n",
       "}}\n",
       "\n",
       "// Listen for the clearing of the current output cell\n",
       "var outputEl = gd.closest('.output');\n",
       "if (outputEl) {{\n",
       "    x.observe(outputEl, {childList: true});\n",
       "}}\n",
       "\n",
       "                        })                };                });            </script>        </div>"
      ]
     },
     "metadata": {},
     "output_type": "display_data"
    }
   ],
   "source": [
    "vis_nonzero = df_risiko[~(df_risiko==0).any(axis=1)]\n",
    "\n",
    "fig = px.scatter_3d(vis_nonzero, x=\"risiko_defisit\", y=\"risiko_mandatory_spending\", z=\"risiko_keselarasan\", color=\"cluster\", hover_data=[\"nama_pemda\"])\n",
    "fig.update_layout(autosize=False, height=800, width=1600, margin=dict(l=20, r=20, t=20, b=20))\n",
    "fig.show()"
   ]
  },
  {
   "cell_type": "code",
   "execution_count": null,
   "metadata": {},
   "outputs": [],
   "source": []
  }
 ],
 "metadata": {
  "kernelspec": {
   "display_name": "Python 3.10.4 ('apbd2022')",
   "language": "python",
   "name": "python3"
  },
  "language_info": {
   "codemirror_mode": {
    "name": "ipython",
    "version": 3
   },
   "file_extension": ".py",
   "mimetype": "text/x-python",
   "name": "python",
   "nbconvert_exporter": "python",
   "pygments_lexer": "ipython3",
   "version": "3.10.4"
  },
  "orig_nbformat": 4,
  "vscode": {
   "interpreter": {
    "hash": "41693740743b67c9b58502bb3256facba5fc0cc9d875e4490365cfa78b251ce5"
   }
  }
 },
 "nbformat": 4,
 "nbformat_minor": 2
}
